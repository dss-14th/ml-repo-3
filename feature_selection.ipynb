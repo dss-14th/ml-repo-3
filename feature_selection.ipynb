{
 "cells": [
  {
   "cell_type": "markdown",
   "metadata": {
    "toc": true
   },
   "source": [
    "<h1>Feature Selection<span class=\"tocSkip\"></span></h1>\n",
<<<<<<< HEAD
    "<div class=\"toc\"><ul class=\"toc-item\"><li><span><a href=\"#전체-데이터로-시도해보기\" data-toc-modified-id=\"전체-데이터로-시도해보기-1\"><span class=\"toc-item-num\">1&nbsp;&nbsp;</span>전체 데이터로 시도해보기</a></span><ul class=\"toc-item\"><li><span><a href=\"#전체-데이터-가져오기\" data-toc-modified-id=\"전체-데이터-가져오기-1.1\"><span class=\"toc-item-num\">1.1&nbsp;&nbsp;</span>전체 데이터 가져오기</a></span></li><li><span><a href=\"#GBC\" data-toc-modified-id=\"GBC-1.2\"><span class=\"toc-item-num\">1.2&nbsp;&nbsp;</span>GBC</a></span><ul class=\"toc-item\"><li><span><a href=\"#get_dummies\" data-toc-modified-id=\"get_dummies-1.2.1\"><span class=\"toc-item-num\">1.2.1&nbsp;&nbsp;</span>get_dummies</a></span></li><li><span><a href=\"#NO_get_dummies\" data-toc-modified-id=\"NO_get_dummies-1.2.2\"><span class=\"toc-item-num\">1.2.2&nbsp;&nbsp;</span>NO_get_dummies</a></span></li></ul></li><li><span><a href=\"#Feature-Selection\" data-toc-modified-id=\"Feature-Selection-1.3\"><span class=\"toc-item-num\">1.3&nbsp;&nbsp;</span>Feature Selection</a></span><ul class=\"toc-item\"><li><span><a href=\"#age\" data-toc-modified-id=\"age-1.3.1\"><span class=\"toc-item-num\">1.3.1&nbsp;&nbsp;</span>age</a></span><ul class=\"toc-item\"><li><span><a href=\"#연령별-가중치-기준-비율\" data-toc-modified-id=\"연령별-가중치-기준-비율-1.3.1.1\"><span class=\"toc-item-num\">1.3.1.1&nbsp;&nbsp;</span>연령별 가중치 기준 비율</a></span></li></ul></li><li><span><a href=\"#country\" data-toc-modified-id=\"country-1.3.2\"><span class=\"toc-item-num\">1.3.2&nbsp;&nbsp;</span>country</a></span></li><li><span><a href=\"#race\" data-toc-modified-id=\"race-1.3.3\"><span class=\"toc-item-num\">1.3.3&nbsp;&nbsp;</span>race</a></span></li><li><span><a href=\"#education\" data-toc-modified-id=\"education-1.3.4\"><span class=\"toc-item-num\">1.3.4&nbsp;&nbsp;</span>education</a></span></li><li><span><a href=\"#married\" data-toc-modified-id=\"married-1.3.5\"><span class=\"toc-item-num\">1.3.5&nbsp;&nbsp;</span>married</a></span><ul class=\"toc-item\"><li><span><a href=\"#결혼별-가중치-기준-비율\" data-toc-modified-id=\"결혼별-가중치-기준-비율-1.3.5.1\"><span class=\"toc-item-num\">1.3.5.1&nbsp;&nbsp;</span>결혼별 가중치 기준 비율</a></span></li><li><span><a href=\"#getdummies-자료에-가중치-추가\" data-toc-modified-id=\"getdummies-자료에-가중치-추가-1.3.5.2\"><span class=\"toc-item-num\">1.3.5.2&nbsp;&nbsp;</span>getdummies 자료에 가중치 추가</a></span></li></ul></li><li><span><a href=\"#religion\" data-toc-modified-id=\"religion-1.3.6\"><span class=\"toc-item-num\">1.3.6&nbsp;&nbsp;</span>religion</a></span><ul class=\"toc-item\"><li><span><a href=\"#종교별-가중치-기준-비율\" data-toc-modified-id=\"종교별-가중치-기준-비율-1.3.6.1\"><span class=\"toc-item-num\">1.3.6.1&nbsp;&nbsp;</span>종교별 가중치 기준 비율</a></span></li></ul></li><li><span><a href=\"#engnat\" data-toc-modified-id=\"engnat-1.3.7\"><span class=\"toc-item-num\">1.3.7&nbsp;&nbsp;</span>engnat</a></span><ul class=\"toc-item\"><li><span><a href=\"#모국어별-가중치-기준-비율\" data-toc-modified-id=\"모국어별-가중치-기준-비율-1.3.7.1\"><span class=\"toc-item-num\">1.3.7.1&nbsp;&nbsp;</span>모국어별 가중치 기준 비율</a></span></li></ul></li><li><span><a href=\"#TIPI6\" data-toc-modified-id=\"TIPI6-1.3.8\"><span class=\"toc-item-num\">1.3.8&nbsp;&nbsp;</span>TIPI6</a></span></li><li><span><a href=\"#TIPI3\" data-toc-modified-id=\"TIPI3-1.3.9\"><span class=\"toc-item-num\">1.3.9&nbsp;&nbsp;</span>TIPI3</a></span></li><li><span><a href=\"#TIPI9\" data-toc-modified-id=\"TIPI9-1.3.10\"><span class=\"toc-item-num\">1.3.10&nbsp;&nbsp;</span>TIPI9</a></span></li></ul></li></ul></li></ul></div>"
=======
    "<div class=\"toc\"><ul class=\"toc-item\"><li><span><a href=\"#전체-데이터로-시도해보기\" data-toc-modified-id=\"전체-데이터로-시도해보기-1\"><span class=\"toc-item-num\">1&nbsp;&nbsp;</span>전체 데이터로 시도해보기</a></span><ul class=\"toc-item\"><li><span><a href=\"#전체-데이터-가져오기\" data-toc-modified-id=\"전체-데이터-가져오기-1.1\"><span class=\"toc-item-num\">1.1&nbsp;&nbsp;</span>전체 데이터 가져오기</a></span></li><li><span><a href=\"#GBC\" data-toc-modified-id=\"GBC-1.2\"><span class=\"toc-item-num\">1.2&nbsp;&nbsp;</span>GBC</a></span><ul class=\"toc-item\"><li><span><a href=\"#get_dummies\" data-toc-modified-id=\"get_dummies-1.2.1\"><span class=\"toc-item-num\">1.2.1&nbsp;&nbsp;</span>get_dummies</a></span></li><li><span><a href=\"#NO_get_dummies\" data-toc-modified-id=\"NO_get_dummies-1.2.2\"><span class=\"toc-item-num\">1.2.2&nbsp;&nbsp;</span>NO_get_dummies</a></span></li></ul></li><li><span><a href=\"#Feature-Selection\" data-toc-modified-id=\"Feature-Selection-1.3\"><span class=\"toc-item-num\">1.3&nbsp;&nbsp;</span>Feature Selection</a></span><ul class=\"toc-item\"><li><span><a href=\"#age\" data-toc-modified-id=\"age-1.3.1\"><span class=\"toc-item-num\">1.3.1&nbsp;&nbsp;</span>age</a></span><ul class=\"toc-item\"><li><span><a href=\"#연령별-가중치-기준-비율\" data-toc-modified-id=\"연령별-가중치-기준-비율-1.3.1.1\"><span class=\"toc-item-num\">1.3.1.1&nbsp;&nbsp;</span>연령별 가중치 기준 비율</a></span></li></ul></li><li><span><a href=\"#country\" data-toc-modified-id=\"country-1.3.2\"><span class=\"toc-item-num\">1.3.2&nbsp;&nbsp;</span>country</a></span></li><li><span><a href=\"#race\" data-toc-modified-id=\"race-1.3.3\"><span class=\"toc-item-num\">1.3.3&nbsp;&nbsp;</span>race</a></span></li><li><span><a href=\"#education\" data-toc-modified-id=\"education-1.3.4\"><span class=\"toc-item-num\">1.3.4&nbsp;&nbsp;</span>education</a></span></li><li><span><a href=\"#married\" data-toc-modified-id=\"married-1.3.5\"><span class=\"toc-item-num\">1.3.5&nbsp;&nbsp;</span>married</a></span></li><li><span><a href=\"#religion\" data-toc-modified-id=\"religion-1.3.6\"><span class=\"toc-item-num\">1.3.6&nbsp;&nbsp;</span>religion</a></span></li><li><span><a href=\"#engnat\" data-toc-modified-id=\"engnat-1.3.7\"><span class=\"toc-item-num\">1.3.7&nbsp;&nbsp;</span>engnat</a></span></li><li><span><a href=\"#TIPI6-(TYP_quiet)\" data-toc-modified-id=\"TIPI6-(TYP_quiet)-1.3.8\"><span class=\"toc-item-num\">1.3.8&nbsp;&nbsp;</span>TIPI6 (TYP_quiet)</a></span></li><li><span><a href=\"#TIPI3-(TYP_depnd)\" data-toc-modified-id=\"TIPI3-(TYP_depnd)-1.3.9\"><span class=\"toc-item-num\">1.3.9&nbsp;&nbsp;</span>TIPI3 (TYP_depnd)</a></span></li><li><span><a href=\"#TIPI9-(TYP_calm)\" data-toc-modified-id=\"TIPI9-(TYP_calm)-1.3.10\"><span class=\"toc-item-num\">1.3.10&nbsp;&nbsp;</span>TIPI9 (TYP_calm)</a></span></li></ul></li></ul></li></ul></div>"
>>>>>>> 2c9d7532e072c2410cf5417ca678ac2069b4c0ad
   ]
  },
  {
   "cell_type": "markdown",
   "metadata": {
    "slideshow": {
     "slide_type": "-"
    }
   },
   "source": [
    "# 전체 데이터로 시도해보기"
   ]
  },
  {
   "cell_type": "markdown",
   "metadata": {},
   "source": [
    "## 전체 데이터 가져오기"
   ]
  },
  {
   "cell_type": "code",
<<<<<<< HEAD
   "execution_count": 74,
=======
   "execution_count": 38,
>>>>>>> 2c9d7532e072c2410cf5417ca678ac2069b4c0ad
   "metadata": {},
   "outputs": [
    {
     "data": {
      "text/html": [
       "<div>\n",
       "<style scoped>\n",
       "    .dataframe tbody tr th:only-of-type {\n",
       "        vertical-align: middle;\n",
       "    }\n",
       "\n",
       "    .dataframe tbody tr th {\n",
       "        vertical-align: top;\n",
       "    }\n",
       "\n",
       "    .dataframe thead th {\n",
       "        text-align: right;\n",
       "    }\n",
       "</style>\n",
       "<table border=\"1\" class=\"dataframe\">\n",
       "  <thead>\n",
       "    <tr style=\"text-align: right;\">\n",
       "      <th></th>\n",
       "      <th>Q1_TP_notell_2u</th>\n",
       "      <th>Q1I</th>\n",
       "      <th>Q1E_notell_2u</th>\n",
       "      <th>Q2_TP_ppl_nd_dangun</th>\n",
       "      <th>Q2I</th>\n",
       "      <th>Q2E_ppl_nd_dangun</th>\n",
       "      <th>Q3_TN_do_moral</th>\n",
       "      <th>Q3I</th>\n",
       "      <th>Q3E_do_moral</th>\n",
       "      <th>Q4_VN_ppl_good</th>\n",
       "      <th>...</th>\n",
       "      <th>religion</th>\n",
       "      <th>orientation</th>\n",
       "      <th>race</th>\n",
       "      <th>voted</th>\n",
       "      <th>married</th>\n",
       "      <th>familysize</th>\n",
       "      <th>score</th>\n",
       "      <th>v_score</th>\n",
       "      <th>t_score</th>\n",
       "      <th>m_score</th>\n",
       "    </tr>\n",
       "  </thead>\n",
       "  <tbody>\n",
       "    <tr>\n",
       "      <th>0</th>\n",
       "      <td>3.0</td>\n",
       "      <td>6.0</td>\n",
       "      <td>21.0</td>\n",
       "      <td>3.0</td>\n",
       "      <td>7.0</td>\n",
       "      <td>19.0</td>\n",
       "      <td>5.0</td>\n",
       "      <td>20.0</td>\n",
       "      <td>15.0</td>\n",
       "      <td>2.0</td>\n",
       "      <td>...</td>\n",
       "      <td>Christian(othrer)</td>\n",
       "      <td>Heterosexual</td>\n",
       "      <td>Black</td>\n",
       "      <td>Yes</td>\n",
       "      <td>Currently married</td>\n",
       "      <td>5</td>\n",
       "      <td>75.0</td>\n",
       "      <td>35.0</td>\n",
       "      <td>33.0</td>\n",
       "      <td>7.0</td>\n",
       "    </tr>\n",
       "    <tr>\n",
       "      <th>1</th>\n",
       "      <td>5.0</td>\n",
       "      <td>17.0</td>\n",
       "      <td>4.0</td>\n",
       "      <td>5.0</td>\n",
       "      <td>9.0</td>\n",
       "      <td>8.0</td>\n",
       "      <td>1.0</td>\n",
       "      <td>16.0</td>\n",
       "      <td>6.0</td>\n",
       "      <td>3.0</td>\n",
       "      <td>...</td>\n",
       "      <td>Agnostic</td>\n",
       "      <td>Heterosexual</td>\n",
       "      <td>White</td>\n",
       "      <td>No</td>\n",
       "      <td>Never married</td>\n",
       "      <td>2</td>\n",
       "      <td>91.0</td>\n",
       "      <td>37.0</td>\n",
       "      <td>45.0</td>\n",
       "      <td>9.0</td>\n",
       "    </tr>\n",
       "    <tr>\n",
       "      <th>2</th>\n",
       "      <td>2.0</td>\n",
       "      <td>12.0</td>\n",
       "      <td>9.0</td>\n",
       "      <td>4.0</td>\n",
       "      <td>1.0</td>\n",
       "      <td>10.0</td>\n",
       "      <td>2.0</td>\n",
       "      <td>7.0</td>\n",
       "      <td>10.0</td>\n",
       "      <td>1.0</td>\n",
       "      <td>...</td>\n",
       "      <td>Christian(Protestant)</td>\n",
       "      <td>Heterosexual</td>\n",
       "      <td>White</td>\n",
       "      <td>Yes</td>\n",
       "      <td>Previously married</td>\n",
       "      <td>2</td>\n",
       "      <td>78.0</td>\n",
       "      <td>37.0</td>\n",
       "      <td>36.0</td>\n",
       "      <td>5.0</td>\n",
       "    </tr>\n",
       "    <tr>\n",
       "      <th>3</th>\n",
       "      <td>5.0</td>\n",
       "      <td>13.0</td>\n",
       "      <td>9.0</td>\n",
       "      <td>5.0</td>\n",
       "      <td>7.0</td>\n",
       "      <td>5.0</td>\n",
       "      <td>2.0</td>\n",
       "      <td>19.0</td>\n",
       "      <td>9.0</td>\n",
       "      <td>1.0</td>\n",
       "      <td>...</td>\n",
       "      <td>Christian(Catholic)</td>\n",
       "      <td>Homosexual</td>\n",
       "      <td>White</td>\n",
       "      <td>Yes</td>\n",
       "      <td>Never married</td>\n",
       "      <td>2</td>\n",
       "      <td>85.0</td>\n",
       "      <td>35.0</td>\n",
       "      <td>41.0</td>\n",
       "      <td>9.0</td>\n",
       "    </tr>\n",
       "    <tr>\n",
       "      <th>4</th>\n",
       "      <td>3.0</td>\n",
       "      <td>11.0</td>\n",
       "      <td>4.0</td>\n",
       "      <td>3.0</td>\n",
       "      <td>10.0</td>\n",
       "      <td>4.0</td>\n",
       "      <td>2.0</td>\n",
       "      <td>17.0</td>\n",
       "      <td>5.0</td>\n",
       "      <td>4.0</td>\n",
       "      <td>...</td>\n",
       "      <td>Atheist</td>\n",
       "      <td>Heterosexual</td>\n",
       "      <td>White</td>\n",
       "      <td>Yes</td>\n",
       "      <td>Never married</td>\n",
       "      <td>2</td>\n",
       "      <td>66.0</td>\n",
       "      <td>28.0</td>\n",
       "      <td>31.0</td>\n",
       "      <td>7.0</td>\n",
       "    </tr>\n",
       "    <tr>\n",
       "      <th>...</th>\n",
       "      <td>...</td>\n",
       "      <td>...</td>\n",
       "      <td>...</td>\n",
       "      <td>...</td>\n",
       "      <td>...</td>\n",
       "      <td>...</td>\n",
       "      <td>...</td>\n",
       "      <td>...</td>\n",
       "      <td>...</td>\n",
       "      <td>...</td>\n",
       "      <td>...</td>\n",
       "      <td>...</td>\n",
       "      <td>...</td>\n",
       "      <td>...</td>\n",
       "      <td>...</td>\n",
       "      <td>...</td>\n",
       "      <td>...</td>\n",
       "      <td>...</td>\n",
       "      <td>...</td>\n",
       "      <td>...</td>\n",
       "      <td>...</td>\n",
       "    </tr>\n",
       "    <tr>\n",
       "      <th>54561</th>\n",
       "      <td>2.0</td>\n",
       "      <td>17.0</td>\n",
       "      <td>10.0</td>\n",
       "      <td>1.0</td>\n",
       "      <td>6.0</td>\n",
       "      <td>14.0</td>\n",
       "      <td>2.0</td>\n",
       "      <td>16.0</td>\n",
       "      <td>25.0</td>\n",
       "      <td>4.0</td>\n",
       "      <td>...</td>\n",
       "      <td>Other</td>\n",
       "      <td>Heterosexual</td>\n",
       "      <td>Asian</td>\n",
       "      <td>No</td>\n",
       "      <td>Currently married</td>\n",
       "      <td>1</td>\n",
       "      <td>59.0</td>\n",
       "      <td>28.0</td>\n",
       "      <td>26.0</td>\n",
       "      <td>5.0</td>\n",
       "    </tr>\n",
       "    <tr>\n",
       "      <th>54562</th>\n",
       "      <td>5.0</td>\n",
       "      <td>9.0</td>\n",
       "      <td>6.0</td>\n",
       "      <td>5.0</td>\n",
       "      <td>4.0</td>\n",
       "      <td>4.0</td>\n",
       "      <td>1.0</td>\n",
       "      <td>15.0</td>\n",
       "      <td>7.0</td>\n",
       "      <td>1.0</td>\n",
       "      <td>...</td>\n",
       "      <td>Atheist</td>\n",
       "      <td>Homosexual</td>\n",
       "      <td>White</td>\n",
       "      <td>No</td>\n",
       "      <td>Never married</td>\n",
       "      <td>2</td>\n",
       "      <td>90.0</td>\n",
       "      <td>37.0</td>\n",
       "      <td>43.0</td>\n",
       "      <td>10.0</td>\n",
       "    </tr>\n",
       "    <tr>\n",
       "      <th>54563</th>\n",
       "      <td>2.0</td>\n",
       "      <td>17.0</td>\n",
       "      <td>5.0</td>\n",
       "      <td>1.0</td>\n",
       "      <td>18.0</td>\n",
       "      <td>7.0</td>\n",
       "      <td>1.0</td>\n",
       "      <td>9.0</td>\n",
       "      <td>5.0</td>\n",
       "      <td>1.0</td>\n",
       "      <td>...</td>\n",
       "      <td>Agnostic</td>\n",
       "      <td>Heterosexual</td>\n",
       "      <td>White</td>\n",
       "      <td>No</td>\n",
       "      <td>Never married</td>\n",
       "      <td>3</td>\n",
       "      <td>69.0</td>\n",
       "      <td>34.0</td>\n",
       "      <td>27.0</td>\n",
       "      <td>8.0</td>\n",
       "    </tr>\n",
       "    <tr>\n",
       "      <th>54564</th>\n",
       "      <td>4.0</td>\n",
       "      <td>15.0</td>\n",
       "      <td>8.0</td>\n",
       "      <td>3.0</td>\n",
       "      <td>9.0</td>\n",
       "      <td>8.0</td>\n",
       "      <td>5.0</td>\n",
       "      <td>17.0</td>\n",
       "      <td>9.0</td>\n",
       "      <td>3.0</td>\n",
       "      <td>...</td>\n",
       "      <td>Buddhist</td>\n",
       "      <td>Heterosexual</td>\n",
       "      <td>Asian</td>\n",
       "      <td>Yes</td>\n",
       "      <td>Never married</td>\n",
       "      <td>4</td>\n",
       "      <td>53.0</td>\n",
       "      <td>25.0</td>\n",
       "      <td>22.0</td>\n",
       "      <td>6.0</td>\n",
       "    </tr>\n",
       "    <tr>\n",
       "      <th>54565</th>\n",
       "      <td>3.0</td>\n",
       "      <td>12.0</td>\n",
       "      <td>8.0</td>\n",
       "      <td>1.0</td>\n",
       "      <td>10.0</td>\n",
       "      <td>6.0</td>\n",
       "      <td>5.0</td>\n",
       "      <td>13.0</td>\n",
       "      <td>37.0</td>\n",
       "      <td>1.0</td>\n",
       "      <td>...</td>\n",
       "      <td>Christian(Catholic)</td>\n",
       "      <td>Heterosexual</td>\n",
       "      <td>Other</td>\n",
       "      <td>No</td>\n",
       "      <td>Never married</td>\n",
       "      <td>4</td>\n",
       "      <td>64.0</td>\n",
       "      <td>36.0</td>\n",
       "      <td>23.0</td>\n",
       "      <td>5.0</td>\n",
       "    </tr>\n",
       "  </tbody>\n",
       "</table>\n",
       "<p>54566 rows × 108 columns</p>\n",
       "</div>"
      ],
      "text/plain": [
       "       Q1_TP_notell_2u   Q1I  Q1E_notell_2u  Q2_TP_ppl_nd_dangun   Q2I  \\\n",
       "0                  3.0   6.0           21.0                  3.0   7.0   \n",
       "1                  5.0  17.0            4.0                  5.0   9.0   \n",
       "2                  2.0  12.0            9.0                  4.0   1.0   \n",
       "3                  5.0  13.0            9.0                  5.0   7.0   \n",
       "4                  3.0  11.0            4.0                  3.0  10.0   \n",
       "...                ...   ...            ...                  ...   ...   \n",
       "54561              2.0  17.0           10.0                  1.0   6.0   \n",
       "54562              5.0   9.0            6.0                  5.0   4.0   \n",
       "54563              2.0  17.0            5.0                  1.0  18.0   \n",
       "54564              4.0  15.0            8.0                  3.0   9.0   \n",
       "54565              3.0  12.0            8.0                  1.0  10.0   \n",
       "\n",
       "       Q2E_ppl_nd_dangun  Q3_TN_do_moral   Q3I  Q3E_do_moral  Q4_VN_ppl_good  \\\n",
       "0                   19.0             5.0  20.0          15.0             2.0   \n",
       "1                    8.0             1.0  16.0           6.0             3.0   \n",
       "2                   10.0             2.0   7.0          10.0             1.0   \n",
       "3                    5.0             2.0  19.0           9.0             1.0   \n",
       "4                    4.0             2.0  17.0           5.0             4.0   \n",
       "...                  ...             ...   ...           ...             ...   \n",
       "54561               14.0             2.0  16.0          25.0             4.0   \n",
       "54562                4.0             1.0  15.0           7.0             1.0   \n",
       "54563                7.0             1.0   9.0           5.0             1.0   \n",
       "54564                8.0             5.0  17.0           9.0             3.0   \n",
       "54565                6.0             5.0  13.0          37.0             1.0   \n",
       "\n",
       "       ...               religion   orientation   race  voted  \\\n",
       "0      ...      Christian(othrer)  Heterosexual  Black    Yes   \n",
       "1      ...               Agnostic  Heterosexual  White     No   \n",
       "2      ...  Christian(Protestant)  Heterosexual  White    Yes   \n",
       "3      ...    Christian(Catholic)    Homosexual  White    Yes   \n",
       "4      ...                Atheist  Heterosexual  White    Yes   \n",
       "...    ...                    ...           ...    ...    ...   \n",
       "54561  ...                  Other  Heterosexual  Asian     No   \n",
       "54562  ...                Atheist    Homosexual  White     No   \n",
       "54563  ...               Agnostic  Heterosexual  White     No   \n",
       "54564  ...               Buddhist  Heterosexual  Asian    Yes   \n",
       "54565  ...    Christian(Catholic)  Heterosexual  Other     No   \n",
       "\n",
       "                  married  familysize  score  v_score  t_score  m_score  \n",
       "0       Currently married           5   75.0     35.0     33.0      7.0  \n",
       "1           Never married           2   91.0     37.0     45.0      9.0  \n",
       "2      Previously married           2   78.0     37.0     36.0      5.0  \n",
       "3           Never married           2   85.0     35.0     41.0      9.0  \n",
       "4           Never married           2   66.0     28.0     31.0      7.0  \n",
       "...                   ...         ...    ...      ...      ...      ...  \n",
       "54561   Currently married           1   59.0     28.0     26.0      5.0  \n",
       "54562       Never married           2   90.0     37.0     43.0     10.0  \n",
       "54563       Never married           3   69.0     34.0     27.0      8.0  \n",
       "54564       Never married           4   53.0     25.0     22.0      6.0  \n",
       "54565       Never married           4   64.0     36.0     23.0      5.0  \n",
       "\n",
       "[54566 rows x 108 columns]"
      ]
     },
<<<<<<< HEAD
     "execution_count": 74,
=======
     "execution_count": 38,
>>>>>>> 2c9d7532e072c2410cf5417ca678ac2069b4c0ad
     "metadata": {},
     "output_type": "execute_result"
    }
   ],
   "source": [
    "df_iqr = pd.read_csv('./MACH_data/data_cutoff_age18_iqr.csv' )\n",
    "df_iqr"
   ]
  },
  {
   "cell_type": "code",
<<<<<<< HEAD
   "execution_count": 75,
=======
   "execution_count": 39,
   "metadata": {},
   "outputs": [
    {
     "data": {
      "text/plain": [
       "Yes    28718\n",
       "No     25848\n",
       "Name: voted, dtype: int64"
      ]
     },
     "execution_count": 39,
     "metadata": {},
     "output_type": "execute_result"
    }
   ],
   "source": [
    "df_iqr['voted'].value_counts()"
   ]
  },
  {
   "cell_type": "code",
   "execution_count": 8,
>>>>>>> 2c9d7532e072c2410cf5417ca678ac2069b4c0ad
   "metadata": {},
   "outputs": [
    {
     "data": {
      "text/plain": [
       "Index(['Q1_TP_notell_2u', 'Q1I', 'Q1E_notell_2u', 'Q2_TP_ppl_nd_dangun', 'Q2I',\n",
       "       'Q2E_ppl_nd_dangun', 'Q3_TN_do_moral', 'Q3I', 'Q3E_do_moral',\n",
       "       'Q4_VN_ppl_good',\n",
       "       ...\n",
       "       'religion', 'orientation', 'race', 'voted', 'married', 'familysize',\n",
       "       'score', 'v_score', 't_score', 'm_score'],\n",
       "      dtype='object', length=108)"
      ]
     },
<<<<<<< HEAD
     "execution_count": 75,
=======
     "execution_count": 8,
>>>>>>> 2c9d7532e072c2410cf5417ca678ac2069b4c0ad
     "metadata": {},
     "output_type": "execute_result"
    }
   ],
   "source": [
    "df_iqr.columns"
   ]
  },
  {
   "cell_type": "code",
<<<<<<< HEAD
   "execution_count": 76,
=======
   "execution_count": 3,
>>>>>>> 2c9d7532e072c2410cf5417ca678ac2069b4c0ad
   "metadata": {},
   "outputs": [],
   "source": [
    "X = df_iqr.drop('voted', axis=1)\n",
    "y = df_iqr['voted']"
   ]
  },
  {
   "cell_type": "code",
<<<<<<< HEAD
   "execution_count": 77,
   "metadata": {},
   "outputs": [
    {
     "data": {
      "text/plain": [
       "(array(['No', 'Yes'], dtype=object), array([25848, 28718]))"
      ]
     },
     "execution_count": 77,
     "metadata": {},
     "output_type": "execute_result"
    }
   ],
   "source": [
    "np.unique(y, return_counts=True)"
   ]
  },
  {
   "cell_type": "code",
   "execution_count": 78,
=======
   "execution_count": 4,
>>>>>>> 2c9d7532e072c2410cf5417ca678ac2069b4c0ad
   "metadata": {},
   "outputs": [],
   "source": [
    "dumi_X = pd.get_dummies(X)"
   ]
  },
  {
   "cell_type": "code",
<<<<<<< HEAD
   "execution_count": 79,
=======
   "execution_count": 5,
>>>>>>> 2c9d7532e072c2410cf5417ca678ac2069b4c0ad
   "metadata": {},
   "outputs": [
    {
     "data": {
      "text/plain": [
       "(54566, 339)"
      ]
     },
<<<<<<< HEAD
     "execution_count": 79,
=======
     "execution_count": 5,
>>>>>>> 2c9d7532e072c2410cf5417ca678ac2069b4c0ad
     "metadata": {},
     "output_type": "execute_result"
    }
   ],
   "source": [
    "dumi_X.shape"
   ]
  },
  {
   "cell_type": "code",
<<<<<<< HEAD
   "execution_count": 48,
=======
   "execution_count": 6,
>>>>>>> 2c9d7532e072c2410cf5417ca678ac2069b4c0ad
   "metadata": {},
   "outputs": [],
   "source": [
    "from sklearn.preprocessing import LabelBinarizer\n",
    "lb = LabelBinarizer()\n",
    "y = lb.fit_transform(y)"
   ]
  },
  {
   "cell_type": "markdown",
   "metadata": {},
   "source": [
    "##  GBC"
   ]
  },
  {
   "cell_type": "markdown",
   "metadata": {},
   "source": [
    "### get_dummies"
   ]
  },
  {
   "cell_type": "code",
   "execution_count": 8,
   "metadata": {},
   "outputs": [],
   "source": [
    "from sklearn.ensemble import GradientBoostingClassifier\n",
    "import time\n",
    "import warnings\n",
    "\n",
    "warnings.filterwarnings('ignore')"
   ]
  },
  {
   "cell_type": "code",
   "execution_count": 9,
   "metadata": {},
   "outputs": [
    {
     "name": "stdout",
     "output_type": "stream",
     "text": [
      "Train ACC : 0.6587556125721616, Train AUC : 0.6526835738269323\n",
      "Test ACC : 0.650448964632582, Train AUC : 0.6435378600040909\n",
      "Fit time : 31.574587106704712\n"
     ]
    }
   ],
   "source": [
    "from sklearn.model_selection import train_test_split\n",
    "from sklearn.metrics import (accuracy_score, precision_score, recall_score,\n",
    "                             f1_score, roc_auc_score)\n",
    "start_time = time.time()\n",
    "X_train, X_test, y_train, y_test = train_test_split(dumi_X, y, test_size=0.2,\n",
    "                                                   random_state=13)\n",
    "gbc_dumi = GradientBoostingClassifier()\n",
    "gbc_dumi.fit(X_train, y_train)\n",
    "\n",
    "y_pre_tr=gbc_dumi.predict(X_train)\n",
    "y_pre_test=gbc_dumi.predict(X_test)\n",
    "\n",
    "print('Train ACC : {}, Train AUC : {}'.format(accuracy_score(y_train, y_pre_tr), roc_auc_score(y_train, y_pre_tr)))\n",
    "print('Test ACC : {}, Train AUC : {}'.format(accuracy_score(y_test, y_pre_test), roc_auc_score(y_test, y_pre_test)))\n",
    "print('Fit time : {}'.format(time.time()-start_time))"
   ]
  },
  {
   "cell_type": "code",
   "execution_count": 10,
   "metadata": {
    "scrolled": true
   },
   "outputs": [
    {
     "data": {
      "text/html": [
       "<div>\n",
       "<style scoped>\n",
       "    .dataframe tbody tr th:only-of-type {\n",
       "        vertical-align: middle;\n",
       "    }\n",
       "\n",
       "    .dataframe tbody tr th {\n",
       "        vertical-align: top;\n",
       "    }\n",
       "\n",
       "    .dataframe thead th {\n",
       "        text-align: right;\n",
       "    }\n",
       "</style>\n",
       "<table border=\"1\" class=\"dataframe\">\n",
       "  <thead>\n",
       "    <tr style=\"text-align: right;\">\n",
       "      <th></th>\n",
       "      <th>0</th>\n",
       "      <th>1</th>\n",
       "    </tr>\n",
       "  </thead>\n",
       "  <tbody>\n",
       "    <tr>\n",
       "      <th>0</th>\n",
       "      <td>Q1_TP_notell_2u</td>\n",
       "      <td>0.000000</td>\n",
       "    </tr>\n",
       "    <tr>\n",
       "      <th>1</th>\n",
       "      <td>Q1I</td>\n",
       "      <td>0.000875</td>\n",
       "    </tr>\n",
       "    <tr>\n",
       "      <th>2</th>\n",
       "      <td>Q1E_notell_2u</td>\n",
       "      <td>0.001087</td>\n",
       "    </tr>\n",
       "    <tr>\n",
       "      <th>3</th>\n",
       "      <td>Q2_TP_ppl_nd_dangun</td>\n",
       "      <td>0.000174</td>\n",
       "    </tr>\n",
       "    <tr>\n",
       "      <th>4</th>\n",
       "      <td>Q2I</td>\n",
       "      <td>0.000649</td>\n",
       "    </tr>\n",
       "    <tr>\n",
       "      <th>...</th>\n",
       "      <td>...</td>\n",
       "      <td>...</td>\n",
       "    </tr>\n",
       "    <tr>\n",
       "      <th>334</th>\n",
       "      <td>race_Other</td>\n",
       "      <td>0.000000</td>\n",
       "    </tr>\n",
       "    <tr>\n",
       "      <th>335</th>\n",
       "      <td>race_White</td>\n",
       "      <td>0.100142</td>\n",
       "    </tr>\n",
       "    <tr>\n",
       "      <th>336</th>\n",
       "      <td>married_Currently married</td>\n",
       "      <td>0.039651</td>\n",
       "    </tr>\n",
       "    <tr>\n",
       "      <th>337</th>\n",
       "      <td>married_Never married</td>\n",
       "      <td>0.000000</td>\n",
       "    </tr>\n",
       "    <tr>\n",
       "      <th>338</th>\n",
       "      <td>married_Previously married</td>\n",
       "      <td>0.000181</td>\n",
       "    </tr>\n",
       "  </tbody>\n",
       "</table>\n",
       "<p>339 rows × 2 columns</p>\n",
       "</div>"
      ],
      "text/plain": [
       "                              0         1\n",
       "0               Q1_TP_notell_2u  0.000000\n",
       "1                           Q1I  0.000875\n",
       "2                 Q1E_notell_2u  0.001087\n",
       "3           Q2_TP_ppl_nd_dangun  0.000174\n",
       "4                           Q2I  0.000649\n",
       "..                          ...       ...\n",
       "334                  race_Other  0.000000\n",
       "335                  race_White  0.100142\n",
       "336   married_Currently married  0.039651\n",
       "337       married_Never married  0.000000\n",
       "338  married_Previously married  0.000181\n",
       "\n",
       "[339 rows x 2 columns]"
      ]
     },
     "execution_count": 10,
     "metadata": {},
     "output_type": "execute_result"
    }
   ],
   "source": [
    "gbc_dumi_f = pd.DataFrame(zip(dumi_X.columns, gbc_dumi.feature_importances_))\n",
    "gbc_dumi_f"
   ]
  },
  {
   "cell_type": "code",
   "execution_count": 11,
   "metadata": {},
   "outputs": [
    {
     "data": {
      "text/plain": [
       "1.0"
      ]
     },
     "execution_count": 11,
     "metadata": {},
     "output_type": "execute_result"
    }
   ],
   "source": [
    "gbc_dumi_f.sum()[1]"
   ]
  },
  {
   "cell_type": "code",
   "execution_count": 12,
   "metadata": {},
   "outputs": [
    {
     "data": {
      "text/html": [
       "<div>\n",
       "<style scoped>\n",
       "    .dataframe tbody tr th:only-of-type {\n",
       "        vertical-align: middle;\n",
       "    }\n",
       "\n",
       "    .dataframe tbody tr th {\n",
       "        vertical-align: top;\n",
       "    }\n",
       "\n",
       "    .dataframe thead th {\n",
       "        text-align: right;\n",
       "    }\n",
       "</style>\n",
       "<table border=\"1\" class=\"dataframe\">\n",
       "  <thead>\n",
       "    <tr style=\"text-align: right;\">\n",
       "      <th></th>\n",
       "      <th>0</th>\n",
       "      <th>1</th>\n",
       "    </tr>\n",
       "  </thead>\n",
       "  <tbody>\n",
       "    <tr>\n",
       "      <th>73</th>\n",
       "      <td>age</td>\n",
       "      <td>0.375253</td>\n",
       "    </tr>\n",
       "    <tr>\n",
       "      <th>335</th>\n",
       "      <td>race_White</td>\n",
       "      <td>0.100142</td>\n",
       "    </tr>\n",
       "    <tr>\n",
       "      <th>154</th>\n",
       "      <td>country_HU</td>\n",
       "      <td>0.056012</td>\n",
       "    </tr>\n",
       "    <tr>\n",
       "      <th>254</th>\n",
       "      <td>country_US</td>\n",
       "      <td>0.055810</td>\n",
       "    </tr>\n",
       "    <tr>\n",
       "      <th>298</th>\n",
       "      <td>education_High school</td>\n",
       "      <td>0.047556</td>\n",
       "    </tr>\n",
       "    <tr>\n",
       "      <th>114</th>\n",
       "      <td>country_CN</td>\n",
       "      <td>0.044287</td>\n",
       "    </tr>\n",
       "    <tr>\n",
       "      <th>336</th>\n",
       "      <td>married_Currently married</td>\n",
       "      <td>0.039651</td>\n",
       "    </tr>\n",
       "    <tr>\n",
       "      <th>330</th>\n",
       "      <td>race_Asian</td>\n",
       "      <td>0.022533</td>\n",
       "    </tr>\n",
       "    <tr>\n",
       "      <th>299</th>\n",
       "      <td>education_Less than high school</td>\n",
       "      <td>0.020297</td>\n",
       "    </tr>\n",
       "    <tr>\n",
       "      <th>108</th>\n",
       "      <td>country_CA</td>\n",
       "      <td>0.020277</td>\n",
       "    </tr>\n",
       "    <tr>\n",
       "      <th>68</th>\n",
       "      <td>TYP_quiet</td>\n",
       "      <td>0.010646</td>\n",
       "    </tr>\n",
       "    <tr>\n",
       "      <th>248</th>\n",
       "      <td>country_TR</td>\n",
       "      <td>0.009125</td>\n",
       "    </tr>\n",
       "    <tr>\n",
       "      <th>121</th>\n",
       "      <td>country_DE</td>\n",
       "      <td>0.007225</td>\n",
       "    </tr>\n",
       "    <tr>\n",
       "      <th>329</th>\n",
       "      <td>race_Arab</td>\n",
       "      <td>0.007147</td>\n",
       "    </tr>\n",
       "    <tr>\n",
       "      <th>71</th>\n",
       "      <td>TYP_calm</td>\n",
       "      <td>0.006453</td>\n",
       "    </tr>\n",
       "    <tr>\n",
       "      <th>262</th>\n",
       "      <td>country_ZA</td>\n",
       "      <td>0.006371</td>\n",
       "    </tr>\n",
       "    <tr>\n",
       "      <th>9</th>\n",
       "      <td>Q4_VN_ppl_good</td>\n",
       "      <td>0.006124</td>\n",
       "    </tr>\n",
       "    <tr>\n",
       "      <th>317</th>\n",
       "      <td>religion_Christian(Protestant)</td>\n",
       "      <td>0.006097</td>\n",
       "    </tr>\n",
       "    <tr>\n",
       "      <th>207</th>\n",
       "      <td>country_NL</td>\n",
       "      <td>0.005858</td>\n",
       "    </tr>\n",
       "    <tr>\n",
       "      <th>39</th>\n",
       "      <td>Q14_VN_ppl_brave</td>\n",
       "      <td>0.005625</td>\n",
       "    </tr>\n",
       "    <tr>\n",
       "      <th>235</th>\n",
       "      <td>country_SG</td>\n",
       "      <td>0.005623</td>\n",
       "    </tr>\n",
       "    <tr>\n",
       "      <th>65</th>\n",
       "      <td>TYP_depnd</td>\n",
       "      <td>0.005397</td>\n",
       "    </tr>\n",
       "    <tr>\n",
       "      <th>89</th>\n",
       "      <td>country_AU</td>\n",
       "      <td>0.005347</td>\n",
       "    </tr>\n",
       "    <tr>\n",
       "      <th>315</th>\n",
       "      <td>religion_Christian(Catholic)</td>\n",
       "      <td>0.005253</td>\n",
       "    </tr>\n",
       "    <tr>\n",
       "      <th>136</th>\n",
       "      <td>country_GB</td>\n",
       "      <td>0.004794</td>\n",
       "    </tr>\n",
       "    <tr>\n",
       "      <th>155</th>\n",
       "      <td>country_ID</td>\n",
       "      <td>0.004331</td>\n",
       "    </tr>\n",
       "    <tr>\n",
       "      <th>63</th>\n",
       "      <td>TYP_out</td>\n",
       "      <td>0.004064</td>\n",
       "    </tr>\n",
       "    <tr>\n",
       "      <th>322</th>\n",
       "      <td>religion_Other</td>\n",
       "      <td>0.003949</td>\n",
       "    </tr>\n",
       "    <tr>\n",
       "      <th>203</th>\n",
       "      <td>country_MY</td>\n",
       "      <td>0.003416</td>\n",
       "    </tr>\n",
       "    <tr>\n",
       "      <th>307</th>\n",
       "      <td>engnat_No</td>\n",
       "      <td>0.002976</td>\n",
       "    </tr>\n",
       "  </tbody>\n",
       "</table>\n",
       "</div>"
      ],
      "text/plain": [
       "                                   0         1\n",
       "73                               age  0.375253\n",
       "335                       race_White  0.100142\n",
       "154                       country_HU  0.056012\n",
       "254                       country_US  0.055810\n",
       "298            education_High school  0.047556\n",
       "114                       country_CN  0.044287\n",
       "336        married_Currently married  0.039651\n",
       "330                       race_Asian  0.022533\n",
       "299  education_Less than high school  0.020297\n",
       "108                       country_CA  0.020277\n",
       "68                         TYP_quiet  0.010646\n",
       "248                       country_TR  0.009125\n",
       "121                       country_DE  0.007225\n",
       "329                        race_Arab  0.007147\n",
       "71                          TYP_calm  0.006453\n",
       "262                       country_ZA  0.006371\n",
       "9                     Q4_VN_ppl_good  0.006124\n",
       "317   religion_Christian(Protestant)  0.006097\n",
       "207                       country_NL  0.005858\n",
       "39                  Q14_VN_ppl_brave  0.005625\n",
       "235                       country_SG  0.005623\n",
       "65                         TYP_depnd  0.005397\n",
       "89                        country_AU  0.005347\n",
       "315     religion_Christian(Catholic)  0.005253\n",
       "136                       country_GB  0.004794\n",
       "155                       country_ID  0.004331\n",
       "63                           TYP_out  0.004064\n",
       "322                   religion_Other  0.003949\n",
       "203                       country_MY  0.003416\n",
       "307                        engnat_No  0.002976"
      ]
     },
     "execution_count": 12,
     "metadata": {},
     "output_type": "execute_result"
    }
   ],
   "source": [
    "gbc_dumi_f.sort_values(1, ascending=False)[:30]"
   ]
  },
  {
   "cell_type": "code",
   "execution_count": 13,
   "metadata": {},
   "outputs": [
    {
     "name": "stdout",
     "output_type": "stream",
     "text": [
      "              precision    recall  f1-score   support\n",
      "\n",
      "          No       0.66      0.52      0.59      5143\n",
      "         Yes       0.64      0.76      0.70      5771\n",
      "\n",
      "    accuracy                           0.65     10914\n",
      "   macro avg       0.65      0.64      0.64     10914\n",
      "weighted avg       0.65      0.65      0.64     10914\n",
      "\n"
     ]
    }
   ],
   "source": [
    "from sklearn.metrics import classification_report, confusion_matrix\n",
    "print(classification_report(y_test, y_pre_test, target_names=['No', \"Yes\"]))"
   ]
  },
  {
   "cell_type": "code",
   "execution_count": 14,
   "metadata": {
    "scrolled": true
   },
   "outputs": [
    {
     "data": {
      "text/plain": [
       "array([[2692, 2451],\n",
       "       [1364, 4407]])"
      ]
     },
     "execution_count": 14,
     "metadata": {},
     "output_type": "execute_result"
    }
   ],
   "source": [
    "confusion_matrix(y_test, y_pre_test)"
   ]
  },
  {
   "cell_type": "code",
   "execution_count": null,
   "metadata": {},
   "outputs": [],
   "source": []
  },
  {
   "cell_type": "code",
   "execution_count": null,
   "metadata": {},
   "outputs": [],
   "source": []
  },
  {
   "cell_type": "markdown",
   "metadata": {},
   "source": [
    "### NO_get_dummies"
   ]
  },
  {
   "cell_type": "code",
<<<<<<< HEAD
   "execution_count": 15,
   "metadata": {
    "scrolled": true
   },
=======
   "execution_count": 42,
   "metadata": {},
>>>>>>> 2c9d7532e072c2410cf5417ca678ac2069b4c0ad
   "outputs": [
    {
     "data": {
      "text/html": [
       "<div>\n",
       "<style scoped>\n",
       "    .dataframe tbody tr th:only-of-type {\n",
       "        vertical-align: middle;\n",
       "    }\n",
       "\n",
       "    .dataframe tbody tr th {\n",
       "        vertical-align: top;\n",
       "    }\n",
       "\n",
       "    .dataframe thead th {\n",
       "        text-align: right;\n",
       "    }\n",
       "</style>\n",
       "<table border=\"1\" class=\"dataframe\">\n",
       "  <thead>\n",
       "    <tr style=\"text-align: right;\">\n",
       "      <th></th>\n",
       "      <th>Q1A</th>\n",
       "      <th>Q1I</th>\n",
       "      <th>Q1E</th>\n",
       "      <th>Q2A</th>\n",
       "      <th>Q2I</th>\n",
       "      <th>Q2E</th>\n",
       "      <th>Q3A</th>\n",
       "      <th>Q3I</th>\n",
       "      <th>Q3E</th>\n",
       "      <th>Q4A</th>\n",
       "      <th>...</th>\n",
       "      <th>screenw</th>\n",
       "      <th>screenh</th>\n",
       "      <th>hand</th>\n",
       "      <th>religion</th>\n",
       "      <th>orientation</th>\n",
       "      <th>race</th>\n",
       "      <th>voted</th>\n",
       "      <th>married</th>\n",
       "      <th>familysize</th>\n",
       "      <th>major</th>\n",
       "    </tr>\n",
       "  </thead>\n",
       "  <tbody>\n",
       "    <tr>\n",
       "      <th>0</th>\n",
       "      <td>3.0</td>\n",
       "      <td>6.0</td>\n",
       "      <td>21017.0</td>\n",
       "      <td>3.0</td>\n",
       "      <td>7.0</td>\n",
       "      <td>18600.0</td>\n",
       "      <td>5.0</td>\n",
       "      <td>20.0</td>\n",
       "      <td>14957.0</td>\n",
       "      <td>2.0</td>\n",
       "      <td>...</td>\n",
       "      <td>1440.0</td>\n",
       "      <td>900.0</td>\n",
       "      <td>1</td>\n",
       "      <td>7</td>\n",
       "      <td>1</td>\n",
       "      <td>30</td>\n",
       "      <td>1</td>\n",
       "      <td>2</td>\n",
       "      <td>5</td>\n",
       "      <td>Marketing</td>\n",
       "    </tr>\n",
       "    <tr>\n",
       "      <th>1</th>\n",
       "      <td>5.0</td>\n",
       "      <td>17.0</td>\n",
       "      <td>3818.0</td>\n",
       "      <td>5.0</td>\n",
       "      <td>9.0</td>\n",
       "      <td>7850.0</td>\n",
       "      <td>1.0</td>\n",
       "      <td>16.0</td>\n",
       "      <td>5902.0</td>\n",
       "      <td>3.0</td>\n",
       "      <td>...</td>\n",
       "      <td>1536.0</td>\n",
       "      <td>864.0</td>\n",
       "      <td>1</td>\n",
       "      <td>1</td>\n",
       "      <td>1</td>\n",
       "      <td>60</td>\n",
       "      <td>2</td>\n",
       "      <td>1</td>\n",
       "      <td>2</td>\n",
       "      <td>mathematics</td>\n",
       "    </tr>\n",
       "    <tr>\n",
       "      <th>2</th>\n",
       "      <td>5.0</td>\n",
       "      <td>16.0</td>\n",
       "      <td>4186.0</td>\n",
       "      <td>5.0</td>\n",
       "      <td>12.0</td>\n",
       "      <td>2900.0</td>\n",
       "      <td>1.0</td>\n",
       "      <td>2.0</td>\n",
       "      <td>7160.0</td>\n",
       "      <td>1.0</td>\n",
       "      <td>...</td>\n",
       "      <td>375.0</td>\n",
       "      <td>667.0</td>\n",
       "      <td>1</td>\n",
       "      <td>2</td>\n",
       "      <td>2</td>\n",
       "      <td>10</td>\n",
       "      <td>2</td>\n",
       "      <td>1</td>\n",
       "      <td>2</td>\n",
       "      <td>Chemistry</td>\n",
       "    </tr>\n",
       "    <tr>\n",
       "      <th>3</th>\n",
       "      <td>2.0</td>\n",
       "      <td>12.0</td>\n",
       "      <td>9373.0</td>\n",
       "      <td>4.0</td>\n",
       "      <td>1.0</td>\n",
       "      <td>10171.0</td>\n",
       "      <td>2.0</td>\n",
       "      <td>7.0</td>\n",
       "      <td>10117.0</td>\n",
       "      <td>1.0</td>\n",
       "      <td>...</td>\n",
       "      <td>1280.0</td>\n",
       "      <td>720.0</td>\n",
       "      <td>1</td>\n",
       "      <td>6</td>\n",
       "      <td>1</td>\n",
       "      <td>60</td>\n",
       "      <td>1</td>\n",
       "      <td>3</td>\n",
       "      <td>2</td>\n",
       "      <td>international relations</td>\n",
       "    </tr>\n",
       "    <tr>\n",
       "      <th>4</th>\n",
       "      <td>5.0</td>\n",
       "      <td>13.0</td>\n",
       "      <td>9465.0</td>\n",
       "      <td>5.0</td>\n",
       "      <td>7.0</td>\n",
       "      <td>5284.0</td>\n",
       "      <td>2.0</td>\n",
       "      <td>19.0</td>\n",
       "      <td>8872.0</td>\n",
       "      <td>1.0</td>\n",
       "      <td>...</td>\n",
       "      <td>360.0</td>\n",
       "      <td>640.0</td>\n",
       "      <td>1</td>\n",
       "      <td>4</td>\n",
       "      <td>3</td>\n",
       "      <td>60</td>\n",
       "      <td>1</td>\n",
       "      <td>1</td>\n",
       "      <td>2</td>\n",
       "      <td>Management</td>\n",
       "    </tr>\n",
       "    <tr>\n",
       "      <th>...</th>\n",
       "      <td>...</td>\n",
       "      <td>...</td>\n",
       "      <td>...</td>\n",
       "      <td>...</td>\n",
       "      <td>...</td>\n",
       "      <td>...</td>\n",
       "      <td>...</td>\n",
       "      <td>...</td>\n",
       "      <td>...</td>\n",
       "      <td>...</td>\n",
       "      <td>...</td>\n",
       "      <td>...</td>\n",
       "      <td>...</td>\n",
       "      <td>...</td>\n",
       "      <td>...</td>\n",
       "      <td>...</td>\n",
       "      <td>...</td>\n",
       "      <td>...</td>\n",
       "      <td>...</td>\n",
       "      <td>...</td>\n",
       "      <td>...</td>\n",
       "    </tr>\n",
       "    <tr>\n",
       "      <th>73484</th>\n",
       "      <td>2.0</td>\n",
       "      <td>17.0</td>\n",
       "      <td>9925.0</td>\n",
       "      <td>1.0</td>\n",
       "      <td>6.0</td>\n",
       "      <td>14218.0</td>\n",
       "      <td>2.0</td>\n",
       "      <td>16.0</td>\n",
       "      <td>25499.0</td>\n",
       "      <td>4.0</td>\n",
       "      <td>...</td>\n",
       "      <td>2048.0</td>\n",
       "      <td>1080.0</td>\n",
       "      <td>1</td>\n",
       "      <td>12</td>\n",
       "      <td>1</td>\n",
       "      <td>10</td>\n",
       "      <td>2</td>\n",
       "      <td>2</td>\n",
       "      <td>1</td>\n",
       "      <td>business</td>\n",
       "    </tr>\n",
       "    <tr>\n",
       "      <th>73485</th>\n",
       "      <td>5.0</td>\n",
       "      <td>9.0</td>\n",
       "      <td>5816.0</td>\n",
       "      <td>5.0</td>\n",
       "      <td>4.0</td>\n",
       "      <td>4368.0</td>\n",
       "      <td>1.0</td>\n",
       "      <td>15.0</td>\n",
       "      <td>7246.0</td>\n",
       "      <td>1.0</td>\n",
       "      <td>...</td>\n",
       "      <td>1440.0</td>\n",
       "      <td>900.0</td>\n",
       "      <td>1</td>\n",
       "      <td>2</td>\n",
       "      <td>3</td>\n",
       "      <td>60</td>\n",
       "      <td>2</td>\n",
       "      <td>1</td>\n",
       "      <td>2</td>\n",
       "      <td>sociology</td>\n",
       "    </tr>\n",
       "    <tr>\n",
       "      <th>73486</th>\n",
       "      <td>2.0</td>\n",
       "      <td>17.0</td>\n",
       "      <td>5353.0</td>\n",
       "      <td>1.0</td>\n",
       "      <td>18.0</td>\n",
       "      <td>6846.0</td>\n",
       "      <td>1.0</td>\n",
       "      <td>9.0</td>\n",
       "      <td>4920.0</td>\n",
       "      <td>1.0</td>\n",
       "      <td>...</td>\n",
       "      <td>1280.0</td>\n",
       "      <td>1024.0</td>\n",
       "      <td>1</td>\n",
       "      <td>1</td>\n",
       "      <td>1</td>\n",
       "      <td>60</td>\n",
       "      <td>2</td>\n",
       "      <td>1</td>\n",
       "      <td>3</td>\n",
       "      <td>NaN</td>\n",
       "    </tr>\n",
       "    <tr>\n",
       "      <th>73487</th>\n",
       "      <td>4.0</td>\n",
       "      <td>15.0</td>\n",
       "      <td>7974.0</td>\n",
       "      <td>3.0</td>\n",
       "      <td>9.0</td>\n",
       "      <td>7901.0</td>\n",
       "      <td>5.0</td>\n",
       "      <td>17.0</td>\n",
       "      <td>8647.0</td>\n",
       "      <td>3.0</td>\n",
       "      <td>...</td>\n",
       "      <td>414.0</td>\n",
       "      <td>736.0</td>\n",
       "      <td>1</td>\n",
       "      <td>3</td>\n",
       "      <td>1</td>\n",
       "      <td>10</td>\n",
       "      <td>1</td>\n",
       "      <td>1</td>\n",
       "      <td>4</td>\n",
       "      <td>Business</td>\n",
       "    </tr>\n",
       "    <tr>\n",
       "      <th>73488</th>\n",
       "      <td>3.0</td>\n",
       "      <td>12.0</td>\n",
       "      <td>7567.0</td>\n",
       "      <td>1.0</td>\n",
       "      <td>10.0</td>\n",
       "      <td>5766.0</td>\n",
       "      <td>5.0</td>\n",
       "      <td>13.0</td>\n",
       "      <td>37103.0</td>\n",
       "      <td>1.0</td>\n",
       "      <td>...</td>\n",
       "      <td>1366.0</td>\n",
       "      <td>768.0</td>\n",
       "      <td>1</td>\n",
       "      <td>4</td>\n",
       "      <td>1</td>\n",
       "      <td>70</td>\n",
       "      <td>2</td>\n",
       "      <td>1</td>\n",
       "      <td>4</td>\n",
       "      <td>NaN</td>\n",
       "    </tr>\n",
       "  </tbody>\n",
       "</table>\n",
       "<p>73489 rows × 105 columns</p>\n",
       "</div>"
      ],
      "text/plain": [
       "       Q1A   Q1I      Q1E  Q2A   Q2I      Q2E  Q3A   Q3I      Q3E  Q4A  ...  \\\n",
       "0      3.0   6.0  21017.0  3.0   7.0  18600.0  5.0  20.0  14957.0  2.0  ...   \n",
       "1      5.0  17.0   3818.0  5.0   9.0   7850.0  1.0  16.0   5902.0  3.0  ...   \n",
       "2      5.0  16.0   4186.0  5.0  12.0   2900.0  1.0   2.0   7160.0  1.0  ...   \n",
       "3      2.0  12.0   9373.0  4.0   1.0  10171.0  2.0   7.0  10117.0  1.0  ...   \n",
       "4      5.0  13.0   9465.0  5.0   7.0   5284.0  2.0  19.0   8872.0  1.0  ...   \n",
       "...    ...   ...      ...  ...   ...      ...  ...   ...      ...  ...  ...   \n",
       "73484  2.0  17.0   9925.0  1.0   6.0  14218.0  2.0  16.0  25499.0  4.0  ...   \n",
       "73485  5.0   9.0   5816.0  5.0   4.0   4368.0  1.0  15.0   7246.0  1.0  ...   \n",
       "73486  2.0  17.0   5353.0  1.0  18.0   6846.0  1.0   9.0   4920.0  1.0  ...   \n",
       "73487  4.0  15.0   7974.0  3.0   9.0   7901.0  5.0  17.0   8647.0  3.0  ...   \n",
       "73488  3.0  12.0   7567.0  1.0  10.0   5766.0  5.0  13.0  37103.0  1.0  ...   \n",
       "\n",
       "       screenw  screenh  hand  religion  orientation  race  voted  married  \\\n",
       "0       1440.0    900.0     1         7            1    30      1        2   \n",
       "1       1536.0    864.0     1         1            1    60      2        1   \n",
       "2        375.0    667.0     1         2            2    10      2        1   \n",
       "3       1280.0    720.0     1         6            1    60      1        3   \n",
       "4        360.0    640.0     1         4            3    60      1        1   \n",
       "...        ...      ...   ...       ...          ...   ...    ...      ...   \n",
       "73484   2048.0   1080.0     1        12            1    10      2        2   \n",
       "73485   1440.0    900.0     1         2            3    60      2        1   \n",
       "73486   1280.0   1024.0     1         1            1    60      2        1   \n",
       "73487    414.0    736.0     1         3            1    10      1        1   \n",
       "73488   1366.0    768.0     1         4            1    70      2        1   \n",
       "\n",
       "       familysize                    major  \n",
       "0               5               Marketing   \n",
       "1               2              mathematics  \n",
       "2               2                Chemistry  \n",
       "3               2  international relations  \n",
       "4               2               Management  \n",
       "...           ...                      ...  \n",
       "73484           1                 business  \n",
       "73485           2                sociology  \n",
       "73486           3                      NaN  \n",
       "73487           4                 Business  \n",
       "73488           4                      NaN  \n",
       "\n",
       "[73489 rows x 105 columns]"
      ]
     },
<<<<<<< HEAD
     "execution_count": 15,
=======
     "execution_count": 42,
>>>>>>> 2c9d7532e072c2410cf5417ca678ac2069b4c0ad
     "metadata": {},
     "output_type": "execute_result"
    }
   ],
   "source": [
    "df = pd.read_csv('./MACH_data/data.csv',delimiter='\\t')\n",
    "df"
   ]
  },
  {
   "cell_type": "code",
<<<<<<< HEAD
   "execution_count": 16,
=======
   "execution_count": 43,
>>>>>>> 2c9d7532e072c2410cf5417ca678ac2069b4c0ad
   "metadata": {},
   "outputs": [],
   "source": [
    "df.dropna(inplace=True)"
   ]
  },
  {
   "cell_type": "code",
<<<<<<< HEAD
   "execution_count": null,
   "metadata": {},
   "outputs": [],
   "source": []
  },
  {
   "cell_type": "code",
   "execution_count": 17,
   "metadata": {},
   "outputs": [],
   "source": [
    "df.drop('major', axis=1, inplace=True)"
   ]
  },
  {
   "cell_type": "code",
   "execution_count": 18,
   "metadata": {},
   "outputs": [],
   "source": [
    "X = df.drop('voted', axis=1)\n",
    "y = df['voted']"
   ]
  },
  {
   "cell_type": "code",
   "execution_count": 19,
   "metadata": {},
   "outputs": [],
   "source": [
    "y = y.apply(lambda x: str(x) if x == 1 else str(x).replace(\"2\", \"0\"))"
   ]
  },
  {
   "cell_type": "code",
   "execution_count": 20,
   "metadata": {},
   "outputs": [
    {
     "data": {
      "text/plain": [
       "0        1\n",
       "1        0\n",
       "2        0\n",
       "3        1\n",
       "4        1\n",
       "        ..\n",
       "73481    0\n",
       "73482    0\n",
       "73484    0\n",
       "73485    0\n",
       "73487    1\n",
       "Name: voted, Length: 47135, dtype: object"
      ]
     },
     "execution_count": 20,
     "metadata": {},
     "output_type": "execute_result"
    }
   ],
   "source": [
    "y"
   ]
  },
  {
   "cell_type": "code",
   "execution_count": 21,
   "metadata": {},
   "outputs": [
    {
     "data": {
      "text/plain": [
       "0"
      ]
     },
     "execution_count": 21,
     "metadata": {},
     "output_type": "execute_result"
    }
   ],
   "source": [
    "X['country'].isnull().sum()"
   ]
  },
  {
   "cell_type": "code",
   "execution_count": 22,
=======
   "execution_count": 44,
>>>>>>> 2c9d7532e072c2410cf5417ca678ac2069b4c0ad
   "metadata": {},
   "outputs": [
    {
     "data": {
      "text/html": [
       "<div>\n",
       "<style scoped>\n",
       "    .dataframe tbody tr th:only-of-type {\n",
       "        vertical-align: middle;\n",
       "    }\n",
       "\n",
       "    .dataframe tbody tr th {\n",
       "        vertical-align: top;\n",
       "    }\n",
       "\n",
       "    .dataframe thead th {\n",
       "        text-align: right;\n",
       "    }\n",
       "</style>\n",
       "<table border=\"1\" class=\"dataframe\">\n",
       "  <thead>\n",
       "    <tr style=\"text-align: right;\">\n",
       "      <th></th>\n",
       "      <th>Q1A</th>\n",
       "      <th>Q1I</th>\n",
       "      <th>Q1E</th>\n",
       "      <th>Q2A</th>\n",
       "      <th>Q2I</th>\n",
       "      <th>Q2E</th>\n",
       "      <th>Q3A</th>\n",
       "      <th>Q3I</th>\n",
       "      <th>Q3E</th>\n",
       "      <th>Q4A</th>\n",
       "      <th>...</th>\n",
<<<<<<< HEAD
       "      <th>engnat</th>\n",
       "      <th>age</th>\n",
=======
>>>>>>> 2c9d7532e072c2410cf5417ca678ac2069b4c0ad
       "      <th>screenw</th>\n",
       "      <th>screenh</th>\n",
       "      <th>hand</th>\n",
       "      <th>religion</th>\n",
       "      <th>orientation</th>\n",
       "      <th>race</th>\n",
       "      <th>married</th>\n",
       "      <th>familysize</th>\n",
       "      <th>major</th>\n",
       "    </tr>\n",
       "  </thead>\n",
       "  <tbody>\n",
       "    <tr>\n",
       "      <th>42</th>\n",
       "      <td>5.0</td>\n",
       "      <td>13.0</td>\n",
       "      <td>2911.0</td>\n",
       "      <td>5.0</td>\n",
       "      <td>19.0</td>\n",
       "      <td>2964.0</td>\n",
       "      <td>3.0</td>\n",
       "      <td>8.0</td>\n",
       "      <td>3648.0</td>\n",
       "      <td>1.0</td>\n",
       "      <td>...</td>\n",
<<<<<<< HEAD
=======
       "      <td>1440.0</td>\n",
       "      <td>900.0</td>\n",
>>>>>>> 2c9d7532e072c2410cf5417ca678ac2069b4c0ad
       "      <td>1</td>\n",
       "      <td>34</td>\n",
       "      <td>1366.0</td>\n",
       "      <td>768.0</td>\n",
       "      <td>2</td>\n",
       "      <td>6</td>\n",
       "      <td>1</td>\n",
       "      <td>60</td>\n",
       "      <td>1</td>\n",
       "      <td>1</td>\n",
<<<<<<< HEAD
=======
       "      <td>2</td>\n",
       "      <td>5</td>\n",
       "      <td>Marketing</td>\n",
>>>>>>> 2c9d7532e072c2410cf5417ca678ac2069b4c0ad
       "    </tr>\n",
       "    <tr>\n",
       "      <th>95</th>\n",
       "      <td>5.0</td>\n",
       "      <td>18.0</td>\n",
       "      <td>8947.0</td>\n",
       "      <td>4.0</td>\n",
       "      <td>10.0</td>\n",
       "      <td>5786.0</td>\n",
       "      <td>2.0</td>\n",
       "      <td>17.0</td>\n",
       "      <td>8054.0</td>\n",
       "      <td>4.0</td>\n",
       "      <td>...</td>\n",
<<<<<<< HEAD
=======
       "      <td>1536.0</td>\n",
       "      <td>864.0</td>\n",
       "      <td>1</td>\n",
>>>>>>> 2c9d7532e072c2410cf5417ca678ac2069b4c0ad
       "      <td>1</td>\n",
       "      <td>45</td>\n",
       "      <td>360.0</td>\n",
       "      <td>640.0</td>\n",
       "      <td>1</td>\n",
       "      <td>10</td>\n",
       "      <td>1</td>\n",
<<<<<<< HEAD
       "      <td>20</td>\n",
       "      <td>3</td>\n",
       "      <td>4</td>\n",
=======
       "      <td>2</td>\n",
       "      <td>mathematics</td>\n",
>>>>>>> 2c9d7532e072c2410cf5417ca678ac2069b4c0ad
       "    </tr>\n",
       "    <tr>\n",
       "      <th>121</th>\n",
       "      <td>5.0</td>\n",
       "      <td>5.0</td>\n",
       "      <td>21636.0</td>\n",
       "      <td>4.0</td>\n",
       "      <td>16.0</td>\n",
       "      <td>7306.0</td>\n",
       "      <td>2.0</td>\n",
       "      <td>12.0</td>\n",
       "      <td>23793.0</td>\n",
       "      <td>3.0</td>\n",
       "      <td>...</td>\n",
<<<<<<< HEAD
=======
       "      <td>375.0</td>\n",
       "      <td>667.0</td>\n",
       "      <td>1</td>\n",
       "      <td>2</td>\n",
>>>>>>> 2c9d7532e072c2410cf5417ca678ac2069b4c0ad
       "      <td>2</td>\n",
       "      <td>47</td>\n",
       "      <td>1920.0</td>\n",
       "      <td>1200.0</td>\n",
       "      <td>1</td>\n",
       "      <td>10</td>\n",
       "      <td>1</td>\n",
<<<<<<< HEAD
       "      <td>60</td>\n",
       "      <td>3</td>\n",
       "      <td>4</td>\n",
=======
       "      <td>2</td>\n",
       "      <td>Chemistry</td>\n",
>>>>>>> 2c9d7532e072c2410cf5417ca678ac2069b4c0ad
       "    </tr>\n",
       "    <tr>\n",
       "      <th>301</th>\n",
       "      <td>2.0</td>\n",
       "      <td>10.0</td>\n",
       "      <td>4538.0</td>\n",
       "      <td>5.0</td>\n",
       "      <td>11.0</td>\n",
       "      <td>4705.0</td>\n",
       "      <td>1.0</td>\n",
       "      <td>6.0</td>\n",
       "      <td>7204.0</td>\n",
       "      <td>2.0</td>\n",
       "      <td>...</td>\n",
<<<<<<< HEAD
=======
       "      <td>1280.0</td>\n",
       "      <td>720.0</td>\n",
>>>>>>> 2c9d7532e072c2410cf5417ca678ac2069b4c0ad
       "      <td>1</td>\n",
       "      <td>55</td>\n",
       "      <td>412.0</td>\n",
       "      <td>732.0</td>\n",
       "      <td>1</td>\n",
       "      <td>7</td>\n",
       "      <td>1</td>\n",
       "      <td>60</td>\n",
       "      <td>2</td>\n",
       "      <td>2</td>\n",
       "      <td>international relations</td>\n",
       "    </tr>\n",
       "    <tr>\n",
       "      <th>353</th>\n",
       "      <td>1.0</td>\n",
       "      <td>8.0</td>\n",
       "      <td>7188.0</td>\n",
       "      <td>4.0</td>\n",
       "      <td>2.0</td>\n",
       "      <td>5690.0</td>\n",
       "      <td>4.0</td>\n",
       "      <td>13.0</td>\n",
       "      <td>6178.0</td>\n",
       "      <td>5.0</td>\n",
       "      <td>...</td>\n",
<<<<<<< HEAD
       "      <td>1</td>\n",
       "      <td>20</td>\n",
       "      <td>1536.0</td>\n",
       "      <td>864.0</td>\n",
       "      <td>1</td>\n",
       "      <td>2</td>\n",
=======
       "      <td>360.0</td>\n",
       "      <td>640.0</td>\n",
>>>>>>> 2c9d7532e072c2410cf5417ca678ac2069b4c0ad
       "      <td>1</td>\n",
       "      <td>60</td>\n",
       "      <td>1</td>\n",
       "      <td>1</td>\n",
<<<<<<< HEAD
=======
       "      <td>2</td>\n",
       "      <td>Management</td>\n",
>>>>>>> 2c9d7532e072c2410cf5417ca678ac2069b4c0ad
       "    </tr>\n",
       "    <tr>\n",
       "      <th>...</th>\n",
       "      <td>...</td>\n",
       "      <td>...</td>\n",
       "      <td>...</td>\n",
       "      <td>...</td>\n",
       "      <td>...</td>\n",
       "      <td>...</td>\n",
       "      <td>...</td>\n",
       "      <td>...</td>\n",
       "      <td>...</td>\n",
       "      <td>...</td>\n",
       "      <td>...</td>\n",
       "      <td>...</td>\n",
       "      <td>...</td>\n",
       "      <td>...</td>\n",
       "      <td>...</td>\n",
       "      <td>...</td>\n",
       "      <td>...</td>\n",
       "      <td>...</td>\n",
       "      <td>...</td>\n",
       "      <td>...</td>\n",
       "      <td>...</td>\n",
       "    </tr>\n",
       "    <tr>\n",
       "      <th>73217</th>\n",
       "      <td>3.0</td>\n",
       "      <td>1.0</td>\n",
       "      <td>36893.0</td>\n",
       "      <td>4.0</td>\n",
       "      <td>16.0</td>\n",
       "      <td>6977.0</td>\n",
       "      <td>3.0</td>\n",
       "      <td>19.0</td>\n",
       "      <td>9458.0</td>\n",
       "      <td>2.0</td>\n",
       "      <td>...</td>\n",
<<<<<<< HEAD
=======
       "      <td>768.0</td>\n",
       "      <td>1024.0</td>\n",
       "      <td>1</td>\n",
>>>>>>> 2c9d7532e072c2410cf5417ca678ac2069b4c0ad
       "      <td>2</td>\n",
       "      <td>26</td>\n",
       "      <td>1920.0</td>\n",
       "      <td>1080.0</td>\n",
       "      <td>1</td>\n",
       "      <td>1</td>\n",
       "      <td>1</td>\n",
       "      <td>10</td>\n",
       "      <td>1</td>\n",
       "      <td>2</td>\n",
       "      <td>Chemistry</td>\n",
       "    </tr>\n",
       "    <tr>\n",
       "      <th>73242</th>\n",
       "      <td>5.0</td>\n",
       "      <td>11.0</td>\n",
       "      <td>10212.0</td>\n",
       "      <td>5.0</td>\n",
       "      <td>8.0</td>\n",
       "      <td>9626.0</td>\n",
       "      <td>2.0</td>\n",
       "      <td>5.0</td>\n",
       "      <td>9878.0</td>\n",
       "      <td>2.0</td>\n",
       "      <td>...</td>\n",
<<<<<<< HEAD
       "      <td>2</td>\n",
       "      <td>18</td>\n",
       "      <td>1366.0</td>\n",
       "      <td>768.0</td>\n",
=======
       "      <td>375.0</td>\n",
       "      <td>667.0</td>\n",
       "      <td>1</td>\n",
       "      <td>12</td>\n",
>>>>>>> 2c9d7532e072c2410cf5417ca678ac2069b4c0ad
       "      <td>1</td>\n",
       "      <td>10</td>\n",
       "      <td>1</td>\n",
       "      <td>20</td>\n",
       "      <td>1</td>\n",
<<<<<<< HEAD
       "      <td>4</td>\n",
=======
       "      <td>Environmental technology</td>\n",
>>>>>>> 2c9d7532e072c2410cf5417ca678ac2069b4c0ad
       "    </tr>\n",
       "    <tr>\n",
       "      <th>73331</th>\n",
       "      <td>1.0</td>\n",
       "      <td>4.0</td>\n",
       "      <td>10671.0</td>\n",
       "      <td>3.0</td>\n",
       "      <td>7.0</td>\n",
       "      <td>15370.0</td>\n",
       "      <td>1.0</td>\n",
       "      <td>5.0</td>\n",
       "      <td>22847.0</td>\n",
       "      <td>4.0</td>\n",
       "      <td>...</td>\n",
<<<<<<< HEAD
       "      <td>2</td>\n",
       "      <td>35</td>\n",
       "      <td>2560.0</td>\n",
       "      <td>1440.0</td>\n",
       "      <td>1</td>\n",
=======
       "      <td>2048.0</td>\n",
       "      <td>1080.0</td>\n",
>>>>>>> 2c9d7532e072c2410cf5417ca678ac2069b4c0ad
       "      <td>1</td>\n",
       "      <td>1</td>\n",
       "      <td>10</td>\n",
       "      <td>2</td>\n",
       "      <td>1</td>\n",
       "      <td>business</td>\n",
       "    </tr>\n",
       "    <tr>\n",
       "      <th>73388</th>\n",
       "      <td>4.0</td>\n",
       "      <td>8.0</td>\n",
       "      <td>5994.0</td>\n",
       "      <td>2.0</td>\n",
       "      <td>20.0</td>\n",
       "      <td>10479.0</td>\n",
       "      <td>4.0</td>\n",
       "      <td>10.0</td>\n",
       "      <td>10066.0</td>\n",
       "      <td>3.0</td>\n",
       "      <td>...</td>\n",
<<<<<<< HEAD
=======
       "      <td>1440.0</td>\n",
       "      <td>900.0</td>\n",
       "      <td>1</td>\n",
       "      <td>2</td>\n",
       "      <td>3</td>\n",
       "      <td>60</td>\n",
>>>>>>> 2c9d7532e072c2410cf5417ca678ac2069b4c0ad
       "      <td>2</td>\n",
       "      <td>22</td>\n",
       "      <td>375.0</td>\n",
       "      <td>812.0</td>\n",
       "      <td>1</td>\n",
       "      <td>12</td>\n",
       "      <td>1</td>\n",
       "      <td>10</td>\n",
       "      <td>1</td>\n",
       "      <td>1</td>\n",
<<<<<<< HEAD
=======
       "      <td>2</td>\n",
       "      <td>sociology</td>\n",
>>>>>>> 2c9d7532e072c2410cf5417ca678ac2069b4c0ad
       "    </tr>\n",
       "    <tr>\n",
       "      <th>73487</th>\n",
       "      <td>4.0</td>\n",
       "      <td>15.0</td>\n",
       "      <td>7974.0</td>\n",
       "      <td>3.0</td>\n",
       "      <td>9.0</td>\n",
       "      <td>7901.0</td>\n",
       "      <td>5.0</td>\n",
       "      <td>17.0</td>\n",
       "      <td>8647.0</td>\n",
       "      <td>3.0</td>\n",
       "      <td>...</td>\n",
<<<<<<< HEAD
       "      <td>2</td>\n",
       "      <td>24</td>\n",
=======
>>>>>>> 2c9d7532e072c2410cf5417ca678ac2069b4c0ad
       "      <td>414.0</td>\n",
       "      <td>736.0</td>\n",
       "      <td>1</td>\n",
       "      <td>3</td>\n",
       "      <td>1</td>\n",
       "      <td>10</td>\n",
       "      <td>1</td>\n",
       "      <td>4</td>\n",
       "      <td>Business</td>\n",
       "    </tr>\n",
       "  </tbody>\n",
       "</table>\n",
<<<<<<< HEAD
       "<p>962 rows × 103 columns</p>\n",
=======
       "<p>47135 rows × 105 columns</p>\n",
>>>>>>> 2c9d7532e072c2410cf5417ca678ac2069b4c0ad
       "</div>"
      ],
      "text/plain": [
       "       Q1A   Q1I      Q1E  Q2A   Q2I      Q2E  Q3A   Q3I      Q3E  Q4A  ...  \\\n",
       "42     5.0  13.0   2911.0  5.0  19.0   2964.0  3.0   8.0   3648.0  1.0  ...   \n",
       "95     5.0  18.0   8947.0  4.0  10.0   5786.0  2.0  17.0   8054.0  4.0  ...   \n",
       "121    5.0   5.0  21636.0  4.0  16.0   7306.0  2.0  12.0  23793.0  3.0  ...   \n",
       "301    2.0  10.0   4538.0  5.0  11.0   4705.0  1.0   6.0   7204.0  2.0  ...   \n",
       "353    1.0   8.0   7188.0  4.0   2.0   5690.0  4.0  13.0   6178.0  5.0  ...   \n",
       "...    ...   ...      ...  ...   ...      ...  ...   ...      ...  ...  ...   \n",
       "73217  3.0   1.0  36893.0  4.0  16.0   6977.0  3.0  19.0   9458.0  2.0  ...   \n",
       "73242  5.0  11.0  10212.0  5.0   8.0   9626.0  2.0   5.0   9878.0  2.0  ...   \n",
       "73331  1.0   4.0  10671.0  3.0   7.0  15370.0  1.0   5.0  22847.0  4.0  ...   \n",
       "73388  4.0   8.0   5994.0  2.0  20.0  10479.0  4.0  10.0  10066.0  3.0  ...   \n",
       "73487  4.0  15.0   7974.0  3.0   9.0   7901.0  5.0  17.0   8647.0  3.0  ...   \n",
       "\n",
<<<<<<< HEAD
       "       engnat  age  screenw  screenh  hand  religion  orientation  race  \\\n",
       "42          1   34   1366.0    768.0     2         6            1    60   \n",
       "95          1   45    360.0    640.0     1        10            1    20   \n",
       "121         2   47   1920.0   1200.0     1        10            1    60   \n",
       "301         1   55    412.0    732.0     1         7            1    60   \n",
       "353         1   20   1536.0    864.0     1         2            1    60   \n",
       "...       ...  ...      ...      ...   ...       ...          ...   ...   \n",
       "73217       2   26   1920.0   1080.0     1         1            1    10   \n",
       "73242       2   18   1366.0    768.0     1        10            1    20   \n",
       "73331       2   35   2560.0   1440.0     1         1            1    10   \n",
       "73388       2   22    375.0    812.0     1        12            1    10   \n",
       "73487       2   24    414.0    736.0     1         3            1    10   \n",
       "\n",
       "       married  familysize  \n",
       "42           1           1  \n",
       "95           3           4  \n",
       "121          3           4  \n",
       "301          2           2  \n",
       "353          1           1  \n",
       "...        ...         ...  \n",
       "73217        1           2  \n",
       "73242        1           4  \n",
       "73331        2           1  \n",
       "73388        1           1  \n",
       "73487        1           4  \n",
       "\n",
       "[962 rows x 103 columns]"
      ]
     },
     "execution_count": 22,
=======
       "       screenw  screenh  hand  religion  orientation  race  voted  married  \\\n",
       "0       1440.0    900.0     1         7            1    30      1        2   \n",
       "1       1536.0    864.0     1         1            1    60      2        1   \n",
       "2        375.0    667.0     1         2            2    10      2        1   \n",
       "3       1280.0    720.0     1         6            1    60      1        3   \n",
       "4        360.0    640.0     1         4            3    60      1        1   \n",
       "...        ...      ...   ...       ...          ...   ...    ...      ...   \n",
       "73481    768.0   1024.0     1         2            1    60      2        2   \n",
       "73482    375.0    667.0     1        12            1    10      2        1   \n",
       "73484   2048.0   1080.0     1        12            1    10      2        2   \n",
       "73485   1440.0    900.0     1         2            3    60      2        1   \n",
       "73487    414.0    736.0     1         3            1    10      1        1   \n",
       "\n",
       "       familysize                      major  \n",
       "0               5                 Marketing   \n",
       "1               2                mathematics  \n",
       "2               2                  Chemistry  \n",
       "3               2    international relations  \n",
       "4               2                 Management  \n",
       "...           ...                        ...  \n",
       "73481           2                  Chemistry  \n",
       "73482           1  Environmental technology   \n",
       "73484           1                   business  \n",
       "73485           2                  sociology  \n",
       "73487           4                   Business  \n",
       "\n",
       "[47135 rows x 105 columns]"
      ]
     },
     "execution_count": 44,
>>>>>>> 2c9d7532e072c2410cf5417ca678ac2069b4c0ad
     "metadata": {},
     "output_type": "execute_result"
    }
   ],
   "source": [
<<<<<<< HEAD
    "X[X['country']=='NONE']"
=======
    "df"
   ]
  },
  {
   "cell_type": "code",
   "execution_count": 45,
   "metadata": {},
   "outputs": [],
   "source": [
    "df.drop('major', axis=1, inplace=True)"
   ]
  },
  {
   "cell_type": "code",
   "execution_count": 46,
   "metadata": {},
   "outputs": [
    {
     "data": {
      "text/plain": [
       "1    25161\n",
       "2    21679\n",
       "0      295\n",
       "Name: voted, dtype: int64"
      ]
     },
     "execution_count": 46,
     "metadata": {},
     "output_type": "execute_result"
    }
   ],
   "source": [
    "df['voted'].value_counts()"
   ]
  },
  {
   "cell_type": "code",
   "execution_count": 276,
   "metadata": {},
   "outputs": [],
   "source": [
    "X = df.drop('voted', axis=1)\n",
    "y = df['voted']"
>>>>>>> 2c9d7532e072c2410cf5417ca678ac2069b4c0ad
   ]
  },
  {
   "cell_type": "code",
   "execution_count": 23,
   "metadata": {
    "scrolled": true
   },
   "outputs": [],
   "source": [
    "from sklearn.preprocessing import LabelEncoder\n",
    "le = LabelEncoder()\n",
    "X['country'] = le.fit_transform(X['country'])"
   ]
  },
  {
   "cell_type": "code",
   "execution_count": 24,
   "metadata": {},
   "outputs": [
    {
     "name": "stdout",
     "output_type": "stream",
     "text": [
      "Train ACC : 0.6698048159541742, Train AUC : 0.6589855507552502\n",
      "Test ACC : 0.6548212580884692, Test AUC : 0.6432790445217428\n",
      "Fit time : 32.676897048950195\n"
     ]
    }
   ],
   "source": [
    "start_time = time.time()\n",
    "X_train, X_test, y_train, y_test = train_test_split(X, y, test_size=0.2,\n",
    "                                                   random_state=13)\n",
    "gbc = GradientBoostingClassifier()\n",
    "gbc.fit(X_train, y_train)\n",
    "\n",
    "y_pre_tr=gbc.predict(X_train)\n",
    "y_pre_test=gbc.predict(X_test)\n",
    "\n",
    "print('Train ACC : {}, Train AUC : {}'.format(accuracy_score(y_train, y_pre_tr), roc_auc_score(y_train, y_pre_tr)))\n",
    "print('Test ACC : {}, Test AUC : {}'.format(accuracy_score(y_test, y_pre_test), roc_auc_score(y_test, y_pre_test)))\n",
    "print('Fit time : {}'.format(time.time()-start_time))"
   ]
  },
  {
   "cell_type": "code",
   "execution_count": 25,
   "metadata": {},
   "outputs": [
    {
     "data": {
      "text/html": [
       "<div>\n",
       "<style scoped>\n",
       "    .dataframe tbody tr th:only-of-type {\n",
       "        vertical-align: middle;\n",
       "    }\n",
       "\n",
       "    .dataframe tbody tr th {\n",
       "        vertical-align: top;\n",
       "    }\n",
       "\n",
       "    .dataframe thead th {\n",
       "        text-align: right;\n",
       "    }\n",
       "</style>\n",
       "<table border=\"1\" class=\"dataframe\">\n",
       "  <thead>\n",
       "    <tr style=\"text-align: right;\">\n",
       "      <th></th>\n",
       "      <th>0</th>\n",
       "      <th>1</th>\n",
       "    </tr>\n",
       "  </thead>\n",
       "  <tbody>\n",
       "    <tr>\n",
       "      <th>94</th>\n",
       "      <td>age</td>\n",
       "      <td>0.446545</td>\n",
       "    </tr>\n",
       "    <tr>\n",
       "      <th>60</th>\n",
       "      <td>country</td>\n",
       "      <td>0.170390</td>\n",
       "    </tr>\n",
       "    <tr>\n",
       "      <th>100</th>\n",
       "      <td>race</td>\n",
       "      <td>0.165402</td>\n",
       "    </tr>\n",
       "    <tr>\n",
       "      <th>90</th>\n",
       "      <td>education</td>\n",
       "      <td>0.034982</td>\n",
       "    </tr>\n",
       "    <tr>\n",
       "      <th>101</th>\n",
       "      <td>married</td>\n",
       "      <td>0.029199</td>\n",
       "    </tr>\n",
       "    <tr>\n",
       "      <th>98</th>\n",
       "      <td>religion</td>\n",
       "      <td>0.017502</td>\n",
       "    </tr>\n",
       "    <tr>\n",
       "      <th>93</th>\n",
       "      <td>engnat</td>\n",
       "      <td>0.014377</td>\n",
       "    </tr>\n",
       "    <tr>\n",
       "      <th>69</th>\n",
       "      <td>TIPI6</td>\n",
       "      <td>0.007779</td>\n",
       "    </tr>\n",
       "    <tr>\n",
       "      <th>66</th>\n",
       "      <td>TIPI3</td>\n",
       "      <td>0.005956</td>\n",
       "    </tr>\n",
       "    <tr>\n",
       "      <th>72</th>\n",
       "      <td>TIPI9</td>\n",
       "      <td>0.005712</td>\n",
       "    </tr>\n",
       "    <tr>\n",
       "      <th>64</th>\n",
       "      <td>TIPI1</td>\n",
       "      <td>0.004222</td>\n",
       "    </tr>\n",
       "    <tr>\n",
       "      <th>91</th>\n",
       "      <td>urban</td>\n",
       "      <td>0.004012</td>\n",
       "    </tr>\n",
       "    <tr>\n",
       "      <th>9</th>\n",
       "      <td>Q4A</td>\n",
       "      <td>0.003957</td>\n",
       "    </tr>\n",
       "    <tr>\n",
       "      <th>85</th>\n",
       "      <td>VCL12</td>\n",
       "      <td>0.003582</td>\n",
       "    </tr>\n",
       "    <tr>\n",
       "      <th>26</th>\n",
       "      <td>Q9E</td>\n",
       "      <td>0.003554</td>\n",
       "    </tr>\n",
       "    <tr>\n",
       "      <th>20</th>\n",
       "      <td>Q7E</td>\n",
       "      <td>0.003201</td>\n",
       "    </tr>\n",
       "    <tr>\n",
       "      <th>44</th>\n",
       "      <td>Q15E</td>\n",
       "      <td>0.003201</td>\n",
       "    </tr>\n",
       "    <tr>\n",
       "      <th>76</th>\n",
       "      <td>VCL3</td>\n",
       "      <td>0.003152</td>\n",
       "    </tr>\n",
       "    <tr>\n",
       "      <th>33</th>\n",
       "      <td>Q12A</td>\n",
       "      <td>0.003053</td>\n",
       "    </tr>\n",
       "    <tr>\n",
       "      <th>65</th>\n",
       "      <td>TIPI2</td>\n",
       "      <td>0.002950</td>\n",
       "    </tr>\n",
       "    <tr>\n",
       "      <th>5</th>\n",
       "      <td>Q2E</td>\n",
       "      <td>0.002947</td>\n",
       "    </tr>\n",
       "    <tr>\n",
       "      <th>39</th>\n",
       "      <td>Q14A</td>\n",
       "      <td>0.002843</td>\n",
       "    </tr>\n",
       "    <tr>\n",
       "      <th>35</th>\n",
       "      <td>Q12E</td>\n",
       "      <td>0.002823</td>\n",
       "    </tr>\n",
       "    <tr>\n",
       "      <th>62</th>\n",
       "      <td>testelapse</td>\n",
       "      <td>0.002429</td>\n",
       "    </tr>\n",
       "    <tr>\n",
       "      <th>67</th>\n",
       "      <td>TIPI4</td>\n",
       "      <td>0.002391</td>\n",
       "    </tr>\n",
       "    <tr>\n",
       "      <th>32</th>\n",
       "      <td>Q11E</td>\n",
       "      <td>0.002328</td>\n",
       "    </tr>\n",
       "    <tr>\n",
       "      <th>56</th>\n",
       "      <td>Q19E</td>\n",
       "      <td>0.002313</td>\n",
       "    </tr>\n",
       "    <tr>\n",
       "      <th>17</th>\n",
       "      <td>Q6E</td>\n",
       "      <td>0.002141</td>\n",
       "    </tr>\n",
       "    <tr>\n",
       "      <th>50</th>\n",
       "      <td>Q17E</td>\n",
       "      <td>0.002116</td>\n",
       "    </tr>\n",
       "    <tr>\n",
       "      <th>29</th>\n",
       "      <td>Q10E</td>\n",
       "      <td>0.001927</td>\n",
       "    </tr>\n",
       "  </tbody>\n",
       "</table>\n",
       "</div>"
      ],
      "text/plain": [
       "              0         1\n",
       "94          age  0.446545\n",
       "60      country  0.170390\n",
       "100        race  0.165402\n",
       "90    education  0.034982\n",
       "101     married  0.029199\n",
       "98     religion  0.017502\n",
       "93       engnat  0.014377\n",
       "69        TIPI6  0.007779\n",
       "66        TIPI3  0.005956\n",
       "72        TIPI9  0.005712\n",
       "64        TIPI1  0.004222\n",
       "91        urban  0.004012\n",
       "9           Q4A  0.003957\n",
       "85        VCL12  0.003582\n",
       "26          Q9E  0.003554\n",
       "20          Q7E  0.003201\n",
       "44         Q15E  0.003201\n",
       "76         VCL3  0.003152\n",
       "33         Q12A  0.003053\n",
       "65        TIPI2  0.002950\n",
       "5           Q2E  0.002947\n",
       "39         Q14A  0.002843\n",
       "35         Q12E  0.002823\n",
       "62   testelapse  0.002429\n",
       "67        TIPI4  0.002391\n",
       "32         Q11E  0.002328\n",
       "56         Q19E  0.002313\n",
       "17          Q6E  0.002141\n",
       "50         Q17E  0.002116\n",
       "29         Q10E  0.001927"
      ]
     },
     "execution_count": 25,
     "metadata": {},
     "output_type": "execute_result"
    }
   ],
   "source": [
    "gbc_f = pd.DataFrame(zip(X.columns, gbc.feature_importances_))\n",
    "gbc_f.sort_values(1, ascending=False)[:30]"
   ]
  },
  {
   "cell_type": "code",
   "execution_count": 26,
   "metadata": {},
   "outputs": [
    {
     "data": {
      "text/plain": [
       "array([[2119, 2251],\n",
       "       [1003, 4054]])"
      ]
     },
     "execution_count": 26,
     "metadata": {},
     "output_type": "execute_result"
    }
   ],
   "source": [
    "confusion_matrix(y_test, y_pre_test)"
   ]
  },
  {
   "cell_type": "markdown",
   "metadata": {},
   "source": [
    "## Feature Selection"
   ]
  },
  {
   "cell_type": "markdown",
   "metadata": {},
   "source": [
    ">`featrue_importance 상위 10개 선별하여 이상치 처리`  \n",
    "age, country, race, education, married, religion, engnat, TIPI6, TIPI3, TIPI9"
   ]
  },
  {
   "cell_type": "markdown",
   "metadata": {},
   "source": [
    "### age"
   ]
  },
  {
   "cell_type": "code",
<<<<<<< HEAD
   "execution_count": 27,
=======
   "execution_count": 11,
>>>>>>> 2c9d7532e072c2410cf5417ca678ac2069b4c0ad
   "metadata": {},
   "outputs": [],
   "source": [
    "import matplotlib.pyplot as plt\n",
    "import seaborn as sns\n",
    "%matplotlib inline"
   ]
  },
  {
   "cell_type": "code",
   "execution_count": 28,
   "metadata": {
    "scrolled": true
   },
   "outputs": [
    {
     "data": {
      "text/plain": [
       "<matplotlib.axes._subplots.AxesSubplot at 0x7f9feea34ad0>"
      ]
     },
     "execution_count": 28,
     "metadata": {},
     "output_type": "execute_result"
    },
    {
     "data": {
      "image/png": "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\n",
      "text/plain": [
       "<Figure size 1440x432 with 1 Axes>"
      ]
     },
     "metadata": {
      "image/png": {
       "height": 375,
       "width": 1179
      },
      "needs_background": "light"
     },
     "output_type": "display_data"
    }
   ],
   "source": [
    "plt.figure(figsize=(20, 6))\n",
    "sns.histplot(df_iqr, x='age', hue='voted')"
   ]
  },
  {
   "cell_type": "code",
   "execution_count": 29,
   "metadata": {},
   "outputs": [],
   "source": [
    "df_age_voted = pd.crosstab(df_iqr['age'], df_iqr['voted'], margins=True, normalize=True)"
   ]
  },
  {
   "cell_type": "markdown",
   "metadata": {},
   "source": [
    "#### 연령별 가중치 기준 비율"
   ]
  },
  {
   "cell_type": "code",
   "execution_count": 30,
   "metadata": {
    "scrolled": false
   },
   "outputs": [
    {
     "data": {
      "text/html": [
       "<div>\n",
       "<style scoped>\n",
       "    .dataframe tbody tr th:only-of-type {\n",
       "        vertical-align: middle;\n",
       "    }\n",
       "\n",
       "    .dataframe tbody tr th {\n",
       "        vertical-align: top;\n",
       "    }\n",
       "\n",
       "    .dataframe thead th {\n",
       "        text-align: right;\n",
       "    }\n",
       "</style>\n",
       "<table border=\"1\" class=\"dataframe\">\n",
       "  <thead>\n",
       "    <tr style=\"text-align: right;\">\n",
       "      <th>voted</th>\n",
       "      <th>No</th>\n",
       "      <th>Yes</th>\n",
       "      <th>All</th>\n",
       "      <th>rate</th>\n",
       "    </tr>\n",
       "    <tr>\n",
       "      <th>age</th>\n",
       "      <th></th>\n",
       "      <th></th>\n",
       "      <th></th>\n",
       "      <th></th>\n",
       "    </tr>\n",
       "  </thead>\n",
       "  <tbody>\n",
       "    <tr>\n",
       "      <th>All</th>\n",
       "      <td>0.473702</td>\n",
       "      <td>0.526298</td>\n",
       "      <td>1.000000</td>\n",
       "      <td>0.052597</td>\n",
       "    </tr>\n",
       "    <tr>\n",
       "      <th>40</th>\n",
       "      <td>0.006891</td>\n",
       "      <td>0.011289</td>\n",
       "      <td>0.018180</td>\n",
       "      <td>0.004398</td>\n",
       "    </tr>\n",
       "    <tr>\n",
       "      <th>47</th>\n",
       "      <td>0.003812</td>\n",
       "      <td>0.008045</td>\n",
       "      <td>0.011857</td>\n",
       "      <td>0.004233</td>\n",
       "    </tr>\n",
       "    <tr>\n",
       "      <th>32</th>\n",
       "      <td>0.010941</td>\n",
       "      <td>0.015028</td>\n",
       "      <td>0.025969</td>\n",
       "      <td>0.004087</td>\n",
       "    </tr>\n",
       "    <tr>\n",
       "      <th>45</th>\n",
       "      <td>0.005278</td>\n",
       "      <td>0.008998</td>\n",
       "      <td>0.014276</td>\n",
       "      <td>0.003720</td>\n",
       "    </tr>\n",
       "    <tr>\n",
       "      <th>50</th>\n",
       "      <td>0.003885</td>\n",
       "      <td>0.007550</td>\n",
       "      <td>0.011436</td>\n",
       "      <td>0.003665</td>\n",
       "    </tr>\n",
       "    <tr>\n",
       "      <th>46</th>\n",
       "      <td>0.003757</td>\n",
       "      <td>0.007221</td>\n",
       "      <td>0.010978</td>\n",
       "      <td>0.003464</td>\n",
       "    </tr>\n",
       "    <tr>\n",
       "      <th>29</th>\n",
       "      <td>0.012370</td>\n",
       "      <td>0.015742</td>\n",
       "      <td>0.028113</td>\n",
       "      <td>0.003372</td>\n",
       "    </tr>\n",
       "    <tr>\n",
       "      <th>30</th>\n",
       "      <td>0.013470</td>\n",
       "      <td>0.016824</td>\n",
       "      <td>0.030294</td>\n",
       "      <td>0.003354</td>\n",
       "    </tr>\n",
       "    <tr>\n",
       "      <th>34</th>\n",
       "      <td>0.009090</td>\n",
       "      <td>0.012407</td>\n",
       "      <td>0.021497</td>\n",
       "      <td>0.003317</td>\n",
       "    </tr>\n",
       "    <tr>\n",
       "      <th>31</th>\n",
       "      <td>0.009731</td>\n",
       "      <td>0.013012</td>\n",
       "      <td>0.022743</td>\n",
       "      <td>0.003280</td>\n",
       "    </tr>\n",
       "    <tr>\n",
       "      <th>42</th>\n",
       "      <td>0.005095</td>\n",
       "      <td>0.008247</td>\n",
       "      <td>0.013342</td>\n",
       "      <td>0.003152</td>\n",
       "    </tr>\n",
       "    <tr>\n",
       "      <th>49</th>\n",
       "      <td>0.003647</td>\n",
       "      <td>0.006744</td>\n",
       "      <td>0.010391</td>\n",
       "      <td>0.003097</td>\n",
       "    </tr>\n",
       "    <tr>\n",
       "      <th>36</th>\n",
       "      <td>0.007587</td>\n",
       "      <td>0.010629</td>\n",
       "      <td>0.018216</td>\n",
       "      <td>0.003042</td>\n",
       "    </tr>\n",
       "    <tr>\n",
       "      <th>60</th>\n",
       "      <td>0.001869</td>\n",
       "      <td>0.004893</td>\n",
       "      <td>0.006762</td>\n",
       "      <td>0.003024</td>\n",
       "    </tr>\n",
       "    <tr>\n",
       "      <th>43</th>\n",
       "      <td>0.004893</td>\n",
       "      <td>0.007862</td>\n",
       "      <td>0.012755</td>\n",
       "      <td>0.002969</td>\n",
       "    </tr>\n",
       "    <tr>\n",
       "      <th>48</th>\n",
       "      <td>0.004325</td>\n",
       "      <td>0.007202</td>\n",
       "      <td>0.011527</td>\n",
       "      <td>0.002877</td>\n",
       "    </tr>\n",
       "    <tr>\n",
       "      <th>33</th>\n",
       "      <td>0.009640</td>\n",
       "      <td>0.012480</td>\n",
       "      <td>0.022120</td>\n",
       "      <td>0.002841</td>\n",
       "    </tr>\n",
       "    <tr>\n",
       "      <th>38</th>\n",
       "      <td>0.007184</td>\n",
       "      <td>0.010025</td>\n",
       "      <td>0.017209</td>\n",
       "      <td>0.002841</td>\n",
       "    </tr>\n",
       "    <tr>\n",
       "      <th>25</th>\n",
       "      <td>0.018565</td>\n",
       "      <td>0.021387</td>\n",
       "      <td>0.039952</td>\n",
       "      <td>0.002822</td>\n",
       "    </tr>\n",
       "    <tr>\n",
       "      <th>56</th>\n",
       "      <td>0.001613</td>\n",
       "      <td>0.004307</td>\n",
       "      <td>0.005919</td>\n",
       "      <td>0.002694</td>\n",
       "    </tr>\n",
       "    <tr>\n",
       "      <th>54</th>\n",
       "      <td>0.002163</td>\n",
       "      <td>0.004783</td>\n",
       "      <td>0.006946</td>\n",
       "      <td>0.002621</td>\n",
       "    </tr>\n",
       "    <tr>\n",
       "      <th>35</th>\n",
       "      <td>0.009566</td>\n",
       "      <td>0.012169</td>\n",
       "      <td>0.021735</td>\n",
       "      <td>0.002602</td>\n",
       "    </tr>\n",
       "    <tr>\n",
       "      <th>44</th>\n",
       "      <td>0.004948</td>\n",
       "      <td>0.007349</td>\n",
       "      <td>0.012297</td>\n",
       "      <td>0.002401</td>\n",
       "    </tr>\n",
       "    <tr>\n",
       "      <th>53</th>\n",
       "      <td>0.002767</td>\n",
       "      <td>0.005058</td>\n",
       "      <td>0.007825</td>\n",
       "      <td>0.002291</td>\n",
       "    </tr>\n",
       "    <tr>\n",
       "      <th>39</th>\n",
       "      <td>0.006488</td>\n",
       "      <td>0.008760</td>\n",
       "      <td>0.015248</td>\n",
       "      <td>0.002272</td>\n",
       "    </tr>\n",
       "    <tr>\n",
       "      <th>24</th>\n",
       "      <td>0.019811</td>\n",
       "      <td>0.022028</td>\n",
       "      <td>0.041839</td>\n",
       "      <td>0.002217</td>\n",
       "    </tr>\n",
       "    <tr>\n",
       "      <th>37</th>\n",
       "      <td>0.007880</td>\n",
       "      <td>0.010061</td>\n",
       "      <td>0.017942</td>\n",
       "      <td>0.002181</td>\n",
       "    </tr>\n",
       "    <tr>\n",
       "      <th>52</th>\n",
       "      <td>0.003097</td>\n",
       "      <td>0.005278</td>\n",
       "      <td>0.008375</td>\n",
       "      <td>0.002181</td>\n",
       "    </tr>\n",
       "    <tr>\n",
       "      <th>55</th>\n",
       "      <td>0.002749</td>\n",
       "      <td>0.004875</td>\n",
       "      <td>0.007624</td>\n",
       "      <td>0.002126</td>\n",
       "    </tr>\n",
       "    <tr>\n",
       "      <th>28</th>\n",
       "      <td>0.015174</td>\n",
       "      <td>0.017227</td>\n",
       "      <td>0.032401</td>\n",
       "      <td>0.002053</td>\n",
       "    </tr>\n",
       "    <tr>\n",
       "      <th>41</th>\n",
       "      <td>0.005443</td>\n",
       "      <td>0.007404</td>\n",
       "      <td>0.012847</td>\n",
       "      <td>0.001961</td>\n",
       "    </tr>\n",
       "    <tr>\n",
       "      <th>59</th>\n",
       "      <td>0.001338</td>\n",
       "      <td>0.003225</td>\n",
       "      <td>0.004563</td>\n",
       "      <td>0.001888</td>\n",
       "    </tr>\n",
       "    <tr>\n",
       "      <th>65</th>\n",
       "      <td>0.000898</td>\n",
       "      <td>0.002694</td>\n",
       "      <td>0.003592</td>\n",
       "      <td>0.001796</td>\n",
       "    </tr>\n",
       "    <tr>\n",
       "      <th>27</th>\n",
       "      <td>0.016311</td>\n",
       "      <td>0.018070</td>\n",
       "      <td>0.034380</td>\n",
       "      <td>0.001759</td>\n",
       "    </tr>\n",
       "    <tr>\n",
       "      <th>63</th>\n",
       "      <td>0.000861</td>\n",
       "      <td>0.002584</td>\n",
       "      <td>0.003445</td>\n",
       "      <td>0.001723</td>\n",
       "    </tr>\n",
       "    <tr>\n",
       "      <th>58</th>\n",
       "      <td>0.001723</td>\n",
       "      <td>0.003445</td>\n",
       "      <td>0.005168</td>\n",
       "      <td>0.001723</td>\n",
       "    </tr>\n",
       "    <tr>\n",
       "      <th>57</th>\n",
       "      <td>0.001924</td>\n",
       "      <td>0.003537</td>\n",
       "      <td>0.005461</td>\n",
       "      <td>0.001613</td>\n",
       "    </tr>\n",
       "    <tr>\n",
       "      <th>26</th>\n",
       "      <td>0.017337</td>\n",
       "      <td>0.018913</td>\n",
       "      <td>0.036250</td>\n",
       "      <td>0.001576</td>\n",
       "    </tr>\n",
       "    <tr>\n",
       "      <th>23</th>\n",
       "      <td>0.022761</td>\n",
       "      <td>0.024301</td>\n",
       "      <td>0.047062</td>\n",
       "      <td>0.001539</td>\n",
       "    </tr>\n",
       "    <tr>\n",
       "      <th>62</th>\n",
       "      <td>0.001136</td>\n",
       "      <td>0.002676</td>\n",
       "      <td>0.003812</td>\n",
       "      <td>0.001539</td>\n",
       "    </tr>\n",
       "    <tr>\n",
       "      <th>61</th>\n",
       "      <td>0.001026</td>\n",
       "      <td>0.002511</td>\n",
       "      <td>0.003537</td>\n",
       "      <td>0.001484</td>\n",
       "    </tr>\n",
       "    <tr>\n",
       "      <th>51</th>\n",
       "      <td>0.003061</td>\n",
       "      <td>0.004472</td>\n",
       "      <td>0.007532</td>\n",
       "      <td>0.001411</td>\n",
       "    </tr>\n",
       "    <tr>\n",
       "      <th>22</th>\n",
       "      <td>0.023769</td>\n",
       "      <td>0.025162</td>\n",
       "      <td>0.048932</td>\n",
       "      <td>0.001393</td>\n",
       "    </tr>\n",
       "    <tr>\n",
       "      <th>64</th>\n",
       "      <td>0.000971</td>\n",
       "      <td>0.002034</td>\n",
       "      <td>0.003006</td>\n",
       "      <td>0.001063</td>\n",
       "    </tr>\n",
       "    <tr>\n",
       "      <th>66</th>\n",
       "      <td>0.000623</td>\n",
       "      <td>0.001649</td>\n",
       "      <td>0.002272</td>\n",
       "      <td>0.001026</td>\n",
       "    </tr>\n",
       "    <tr>\n",
       "      <th>67</th>\n",
       "      <td>0.000513</td>\n",
       "      <td>0.001393</td>\n",
       "      <td>0.001906</td>\n",
       "      <td>0.000880</td>\n",
       "    </tr>\n",
       "    <tr>\n",
       "      <th>70</th>\n",
       "      <td>0.000330</td>\n",
       "      <td>0.001155</td>\n",
       "      <td>0.001484</td>\n",
       "      <td>0.000825</td>\n",
       "    </tr>\n",
       "    <tr>\n",
       "      <th>21</th>\n",
       "      <td>0.027856</td>\n",
       "      <td>0.028626</td>\n",
       "      <td>0.056482</td>\n",
       "      <td>0.000770</td>\n",
       "    </tr>\n",
       "    <tr>\n",
       "      <th>68</th>\n",
       "      <td>0.000385</td>\n",
       "      <td>0.001100</td>\n",
       "      <td>0.001484</td>\n",
       "      <td>0.000715</td>\n",
       "    </tr>\n",
       "    <tr>\n",
       "      <th>71</th>\n",
       "      <td>0.000312</td>\n",
       "      <td>0.000898</td>\n",
       "      <td>0.001210</td>\n",
       "      <td>0.000586</td>\n",
       "    </tr>\n",
       "    <tr>\n",
       "      <th>69</th>\n",
       "      <td>0.000367</td>\n",
       "      <td>0.000880</td>\n",
       "      <td>0.001246</td>\n",
       "      <td>0.000513</td>\n",
       "    </tr>\n",
       "    <tr>\n",
       "      <th>73</th>\n",
       "      <td>0.000110</td>\n",
       "      <td>0.000385</td>\n",
       "      <td>0.000495</td>\n",
       "      <td>0.000275</td>\n",
       "    </tr>\n",
       "    <tr>\n",
       "      <th>72</th>\n",
       "      <td>0.000312</td>\n",
       "      <td>0.000586</td>\n",
       "      <td>0.000898</td>\n",
       "      <td>0.000275</td>\n",
       "    </tr>\n",
       "    <tr>\n",
       "      <th>20</th>\n",
       "      <td>0.029212</td>\n",
       "      <td>0.029267</td>\n",
       "      <td>0.058480</td>\n",
       "      <td>0.000055</td>\n",
       "    </tr>\n",
       "    <tr>\n",
       "      <th>19</th>\n",
       "      <td>0.035058</td>\n",
       "      <td>0.021332</td>\n",
       "      <td>0.056390</td>\n",
       "      <td>-0.013726</td>\n",
       "    </tr>\n",
       "    <tr>\n",
       "      <th>18</th>\n",
       "      <td>0.061778</td>\n",
       "      <td>0.010519</td>\n",
       "      <td>0.072298</td>\n",
       "      <td>-0.051259</td>\n",
       "    </tr>\n",
       "  </tbody>\n",
       "</table>\n",
       "</div>"
      ],
      "text/plain": [
       "voted        No       Yes       All      rate\n",
       "age                                          \n",
       "All    0.473702  0.526298  1.000000  0.052597\n",
       "40     0.006891  0.011289  0.018180  0.004398\n",
       "47     0.003812  0.008045  0.011857  0.004233\n",
       "32     0.010941  0.015028  0.025969  0.004087\n",
       "45     0.005278  0.008998  0.014276  0.003720\n",
       "50     0.003885  0.007550  0.011436  0.003665\n",
       "46     0.003757  0.007221  0.010978  0.003464\n",
       "29     0.012370  0.015742  0.028113  0.003372\n",
       "30     0.013470  0.016824  0.030294  0.003354\n",
       "34     0.009090  0.012407  0.021497  0.003317\n",
       "31     0.009731  0.013012  0.022743  0.003280\n",
       "42     0.005095  0.008247  0.013342  0.003152\n",
       "49     0.003647  0.006744  0.010391  0.003097\n",
       "36     0.007587  0.010629  0.018216  0.003042\n",
       "60     0.001869  0.004893  0.006762  0.003024\n",
       "43     0.004893  0.007862  0.012755  0.002969\n",
       "48     0.004325  0.007202  0.011527  0.002877\n",
       "33     0.009640  0.012480  0.022120  0.002841\n",
       "38     0.007184  0.010025  0.017209  0.002841\n",
       "25     0.018565  0.021387  0.039952  0.002822\n",
       "56     0.001613  0.004307  0.005919  0.002694\n",
       "54     0.002163  0.004783  0.006946  0.002621\n",
       "35     0.009566  0.012169  0.021735  0.002602\n",
       "44     0.004948  0.007349  0.012297  0.002401\n",
       "53     0.002767  0.005058  0.007825  0.002291\n",
       "39     0.006488  0.008760  0.015248  0.002272\n",
       "24     0.019811  0.022028  0.041839  0.002217\n",
       "37     0.007880  0.010061  0.017942  0.002181\n",
       "52     0.003097  0.005278  0.008375  0.002181\n",
       "55     0.002749  0.004875  0.007624  0.002126\n",
       "28     0.015174  0.017227  0.032401  0.002053\n",
       "41     0.005443  0.007404  0.012847  0.001961\n",
       "59     0.001338  0.003225  0.004563  0.001888\n",
       "65     0.000898  0.002694  0.003592  0.001796\n",
       "27     0.016311  0.018070  0.034380  0.001759\n",
       "63     0.000861  0.002584  0.003445  0.001723\n",
       "58     0.001723  0.003445  0.005168  0.001723\n",
       "57     0.001924  0.003537  0.005461  0.001613\n",
       "26     0.017337  0.018913  0.036250  0.001576\n",
       "23     0.022761  0.024301  0.047062  0.001539\n",
       "62     0.001136  0.002676  0.003812  0.001539\n",
       "61     0.001026  0.002511  0.003537  0.001484\n",
       "51     0.003061  0.004472  0.007532  0.001411\n",
       "22     0.023769  0.025162  0.048932  0.001393\n",
       "64     0.000971  0.002034  0.003006  0.001063\n",
       "66     0.000623  0.001649  0.002272  0.001026\n",
       "67     0.000513  0.001393  0.001906  0.000880\n",
       "70     0.000330  0.001155  0.001484  0.000825\n",
       "21     0.027856  0.028626  0.056482  0.000770\n",
       "68     0.000385  0.001100  0.001484  0.000715\n",
       "71     0.000312  0.000898  0.001210  0.000586\n",
       "69     0.000367  0.000880  0.001246  0.000513\n",
       "73     0.000110  0.000385  0.000495  0.000275\n",
       "72     0.000312  0.000586  0.000898  0.000275\n",
       "20     0.029212  0.029267  0.058480  0.000055\n",
       "19     0.035058  0.021332  0.056390 -0.013726\n",
       "18     0.061778  0.010519  0.072298 -0.051259"
      ]
     },
     "execution_count": 30,
     "metadata": {},
     "output_type": "execute_result"
    }
   ],
   "source": [
    "df_age_voted['rate'] = df_age_voted['Yes'] - df_age_voted['No']\n",
    "df_age_voted.sort_values('rate', ascending=False)"
   ]
  },
  {
   "cell_type": "markdown",
   "metadata": {},
   "source": [
    "### country"
   ]
  },
  {
   "cell_type": "code",
   "execution_count": null,
   "metadata": {},
   "outputs": [],
   "source": []
  },
  {
   "cell_type": "code",
   "execution_count": null,
   "metadata": {},
   "outputs": [],
   "source": []
  },
  {
   "cell_type": "markdown",
   "metadata": {},
   "source": [
    "### race"
   ]
  },
  {
   "cell_type": "code",
   "execution_count": null,
   "metadata": {},
   "outputs": [],
   "source": []
  },
  {
   "cell_type": "code",
   "execution_count": null,
   "metadata": {},
   "outputs": [],
   "source": []
  },
  {
   "cell_type": "markdown",
   "metadata": {},
   "source": [
    "### education\n"
   ]
  },
  {
   "cell_type": "code",
   "execution_count": null,
   "metadata": {},
   "outputs": [],
   "source": []
  },
  {
   "cell_type": "code",
   "execution_count": null,
   "metadata": {},
   "outputs": [],
   "source": []
  },
  {
   "cell_type": "markdown",
   "metadata": {},
   "source": [
    "### married"
   ]
  },
  {
   "cell_type": "code",
   "execution_count": 27,
   "metadata": {},
   "outputs": [],
   "source": [
    "import matplotlib.pyplot as plt\n",
    "import seaborn as sns\n",
    "%matplotlib inline"
   ]
  },
  {
   "cell_type": "code",
   "execution_count": 32,
   "metadata": {
    "scrolled": true
   },
   "outputs": [
    {
     "data": {
      "text/plain": [
       "<matplotlib.axes._subplots.AxesSubplot at 0x7f9fcbfbf3d0>"
      ]
     },
     "execution_count": 32,
     "metadata": {},
     "output_type": "execute_result"
    },
    {
     "data": {
      "image/png": "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\n",
      "text/plain": [
       "<Figure size 1440x432 with 1 Axes>"
      ]
     },
     "metadata": {
      "image/png": {
       "height": 377,
       "width": 1186
      },
      "needs_background": "light"
     },
     "output_type": "display_data"
    }
   ],
   "source": [
    "plt.figure(figsize=(20, 6))\n",
    "sns.histplot(df_iqr, x='married', hue='voted')"
   ]
  },
  {
   "cell_type": "code",
   "execution_count": 33,
   "metadata": {},
   "outputs": [],
   "source": [
    "df_married_voted = pd.crosstab(df_iqr['married'], df_iqr['voted'], margins=True, normalize=True)"
   ]
  },
  {
   "cell_type": "markdown",
   "metadata": {},
   "source": [
    "#### 결혼별 가중치 기준 비율"
   ]
  },
  {
   "cell_type": "code",
   "execution_count": 34,
   "metadata": {
    "scrolled": false
   },
   "outputs": [
    {
     "data": {
      "text/html": [
       "<div>\n",
       "<style scoped>\n",
       "    .dataframe tbody tr th:only-of-type {\n",
       "        vertical-align: middle;\n",
       "    }\n",
       "\n",
       "    .dataframe tbody tr th {\n",
       "        vertical-align: top;\n",
       "    }\n",
       "\n",
       "    .dataframe thead th {\n",
       "        text-align: right;\n",
       "    }\n",
       "</style>\n",
       "<table border=\"1\" class=\"dataframe\">\n",
       "  <thead>\n",
       "    <tr style=\"text-align: right;\">\n",
       "      <th>voted</th>\n",
       "      <th>No</th>\n",
       "      <th>Yes</th>\n",
       "      <th>All</th>\n",
       "      <th>rate</th>\n",
       "    </tr>\n",
       "    <tr>\n",
       "      <th>married</th>\n",
       "      <th></th>\n",
       "      <th></th>\n",
       "      <th></th>\n",
       "      <th></th>\n",
       "    </tr>\n",
       "  </thead>\n",
       "  <tbody>\n",
       "    <tr>\n",
       "      <th>Currently married</th>\n",
       "      <td>0.084173</td>\n",
       "      <td>0.157956</td>\n",
       "      <td>0.242129</td>\n",
       "      <td>0.073782</td>\n",
       "    </tr>\n",
       "    <tr>\n",
       "      <th>All</th>\n",
       "      <td>0.473702</td>\n",
       "      <td>0.526298</td>\n",
       "      <td>1.000000</td>\n",
       "      <td>0.052597</td>\n",
       "    </tr>\n",
       "    <tr>\n",
       "      <th>Previously married</th>\n",
       "      <td>0.038064</td>\n",
       "      <td>0.050783</td>\n",
       "      <td>0.088847</td>\n",
       "      <td>0.012719</td>\n",
       "    </tr>\n",
       "    <tr>\n",
       "      <th>Never married</th>\n",
       "      <td>0.351464</td>\n",
       "      <td>0.317560</td>\n",
       "      <td>0.669025</td>\n",
       "      <td>-0.033904</td>\n",
       "    </tr>\n",
       "  </tbody>\n",
       "</table>\n",
       "</div>"
      ],
      "text/plain": [
       "voted                     No       Yes       All      rate\n",
       "married                                                   \n",
       "Currently married   0.084173  0.157956  0.242129  0.073782\n",
       "All                 0.473702  0.526298  1.000000  0.052597\n",
       "Previously married  0.038064  0.050783  0.088847  0.012719\n",
       "Never married       0.351464  0.317560  0.669025 -0.033904"
      ]
     },
     "execution_count": 34,
     "metadata": {},
     "output_type": "execute_result"
    }
   ],
   "source": [
    "df_married_voted['rate'] = df_married_voted['Yes'] - df_married_voted['No']\n",
    "df_married_voted.sort_values('rate', ascending=False)"
   ]
  },
  {
   "cell_type": "markdown",
   "metadata": {},
   "source": [
    "#### getdummies 자료에 가중치 추가"
   ]
  },
  {
   "cell_type": "code",
   "execution_count": 49,
   "metadata": {},
   "outputs": [
    {
     "data": {
      "text/plain": [
       "((54566, 339), (54566, 1))"
      ]
     },
     "execution_count": 49,
     "metadata": {},
     "output_type": "execute_result"
    }
   ],
   "source": [
    "dumi_X.shape, y.shape"
   ]
  },
  {
   "cell_type": "code",
   "execution_count": 54,
   "metadata": {},
   "outputs": [
    {
     "data": {
      "text/html": [
       "<div>\n",
       "<style scoped>\n",
       "    .dataframe tbody tr th:only-of-type {\n",
       "        vertical-align: middle;\n",
       "    }\n",
       "\n",
       "    .dataframe tbody tr th {\n",
       "        vertical-align: top;\n",
       "    }\n",
       "\n",
       "    .dataframe thead th {\n",
       "        text-align: right;\n",
       "    }\n",
       "</style>\n",
       "<table border=\"1\" class=\"dataframe\">\n",
       "  <thead>\n",
       "    <tr style=\"text-align: right;\">\n",
       "      <th></th>\n",
       "      <th>married_Currently married</th>\n",
       "      <th>married_Never married</th>\n",
       "      <th>married_Previously married</th>\n",
       "    </tr>\n",
       "  </thead>\n",
       "  <tbody>\n",
       "    <tr>\n",
       "      <th>0</th>\n",
       "      <td>1</td>\n",
       "      <td>0</td>\n",
       "      <td>0</td>\n",
       "    </tr>\n",
       "    <tr>\n",
       "      <th>1</th>\n",
       "      <td>0</td>\n",
       "      <td>1</td>\n",
       "      <td>0</td>\n",
       "    </tr>\n",
       "    <tr>\n",
       "      <th>2</th>\n",
       "      <td>0</td>\n",
       "      <td>0</td>\n",
       "      <td>1</td>\n",
       "    </tr>\n",
       "    <tr>\n",
       "      <th>3</th>\n",
       "      <td>0</td>\n",
       "      <td>1</td>\n",
       "      <td>0</td>\n",
       "    </tr>\n",
       "    <tr>\n",
       "      <th>4</th>\n",
       "      <td>0</td>\n",
       "      <td>1</td>\n",
       "      <td>0</td>\n",
       "    </tr>\n",
       "    <tr>\n",
       "      <th>...</th>\n",
       "      <td>...</td>\n",
       "      <td>...</td>\n",
       "      <td>...</td>\n",
       "    </tr>\n",
       "    <tr>\n",
       "      <th>54561</th>\n",
       "      <td>1</td>\n",
       "      <td>0</td>\n",
       "      <td>0</td>\n",
       "    </tr>\n",
       "    <tr>\n",
       "      <th>54562</th>\n",
       "      <td>0</td>\n",
       "      <td>1</td>\n",
       "      <td>0</td>\n",
       "    </tr>\n",
       "    <tr>\n",
       "      <th>54563</th>\n",
       "      <td>0</td>\n",
       "      <td>1</td>\n",
       "      <td>0</td>\n",
       "    </tr>\n",
       "    <tr>\n",
       "      <th>54564</th>\n",
       "      <td>0</td>\n",
       "      <td>1</td>\n",
       "      <td>0</td>\n",
       "    </tr>\n",
       "    <tr>\n",
       "      <th>54565</th>\n",
       "      <td>0</td>\n",
       "      <td>1</td>\n",
       "      <td>0</td>\n",
       "    </tr>\n",
       "  </tbody>\n",
       "</table>\n",
       "<p>54566 rows × 3 columns</p>\n",
       "</div>"
      ],
      "text/plain": [
       "       married_Currently married  married_Never married  \\\n",
       "0                              1                      0   \n",
       "1                              0                      1   \n",
       "2                              0                      0   \n",
       "3                              0                      1   \n",
       "4                              0                      1   \n",
       "...                          ...                    ...   \n",
       "54561                          1                      0   \n",
       "54562                          0                      1   \n",
       "54563                          0                      1   \n",
       "54564                          0                      1   \n",
       "54565                          0                      1   \n",
       "\n",
       "       married_Previously married  \n",
       "0                               0  \n",
       "1                               0  \n",
       "2                               1  \n",
       "3                               0  \n",
       "4                               0  \n",
       "...                           ...  \n",
       "54561                           0  \n",
       "54562                           0  \n",
       "54563                           0  \n",
       "54564                           0  \n",
       "54565                           0  \n",
       "\n",
       "[54566 rows x 3 columns]"
      ]
     },
     "execution_count": 54,
     "metadata": {},
     "output_type": "execute_result"
    }
   ],
   "source": [
    "a = list(dumi_X.columns)\n",
    "datas = []\n",
    "for i in a:\n",
    "    if \"marr\" in i:\n",
    "        datas.append(i)\n",
    "dumi_X[datas]"
   ]
  },
  {
   "cell_type": "code",
   "execution_count": 69,
   "metadata": {},
   "outputs": [
    {
     "data": {
      "text/plain": [
       "Index(['Currently married', 'Never married', 'Previously married', 'All'], dtype='object', name='married')"
      ]
     },
     "execution_count": 69,
     "metadata": {},
     "output_type": "execute_result"
    }
   ],
   "source": [
    "b = pd.DataFrame(df_married_voted[\"rate\"])\n",
    "b.index"
   ]
  },
  {
   "cell_type": "code",
   "execution_count": 71,
   "metadata": {},
   "outputs": [
    {
     "data": {
      "text/html": [
       "<div>\n",
       "<style scoped>\n",
       "    .dataframe tbody tr th:only-of-type {\n",
       "        vertical-align: middle;\n",
       "    }\n",
       "\n",
       "    .dataframe tbody tr th {\n",
       "        vertical-align: top;\n",
       "    }\n",
       "\n",
       "    .dataframe thead th {\n",
       "        text-align: right;\n",
       "    }\n",
       "</style>\n",
       "<table border=\"1\" class=\"dataframe\">\n",
       "  <thead>\n",
       "    <tr style=\"text-align: right;\">\n",
       "      <th></th>\n",
       "      <th>rate</th>\n",
       "    </tr>\n",
       "    <tr>\n",
       "      <th>married</th>\n",
       "      <th></th>\n",
       "    </tr>\n",
       "  </thead>\n",
       "  <tbody>\n",
       "    <tr>\n",
       "      <th>Currently married</th>\n",
       "      <td>0.073782</td>\n",
       "    </tr>\n",
       "    <tr>\n",
       "      <th>Never married</th>\n",
       "      <td>-0.033904</td>\n",
       "    </tr>\n",
       "    <tr>\n",
       "      <th>Previously married</th>\n",
       "      <td>0.012719</td>\n",
       "    </tr>\n",
       "    <tr>\n",
       "      <th>All</th>\n",
       "      <td>0.052597</td>\n",
       "    </tr>\n",
       "  </tbody>\n",
       "</table>\n",
       "</div>"
      ],
      "text/plain": [
       "                        rate\n",
       "married                     \n",
       "Currently married   0.073782\n",
       "Never married      -0.033904\n",
       "Previously married  0.012719\n",
       "All                 0.052597"
      ]
     },
     "execution_count": 71,
     "metadata": {},
     "output_type": "execute_result"
    }
   ],
   "source": [
    "b"
   ]
  },
  {
   "cell_type": "code",
   "execution_count": 87,
   "metadata": {},
   "outputs": [],
   "source": [
    "a = list(dumi_X[datas].columns)\n",
    "b = pd.DataFrame(df_married_voted[\"rate\"])\n",
    "for i in a:\n",
    "    for ii, j in enumerate(b.index):\n",
    "        if j in i:\n",
    "            dumi_X[i] = dumi_X[i] * b.iloc[ii,:].values\n",
    "            "
   ]
  },
  {
   "cell_type": "code",
   "execution_count": 85,
   "metadata": {},
   "outputs": [
    {
     "data": {
      "text/plain": [
       "array([0.07378221])"
      ]
     },
     "execution_count": 85,
     "metadata": {},
     "output_type": "execute_result"
    }
   ],
   "source": [
    "b.iloc[0,:].values"
   ]
  },
  {
   "cell_type": "code",
   "execution_count": 90,
   "metadata": {},
   "outputs": [
    {
     "data": {
      "text/html": [
       "<div>\n",
       "<style scoped>\n",
       "    .dataframe tbody tr th:only-of-type {\n",
       "        vertical-align: middle;\n",
       "    }\n",
       "\n",
       "    .dataframe tbody tr th {\n",
       "        vertical-align: top;\n",
       "    }\n",
       "\n",
       "    .dataframe thead th {\n",
       "        text-align: right;\n",
       "    }\n",
       "</style>\n",
       "<table border=\"1\" class=\"dataframe\">\n",
       "  <thead>\n",
       "    <tr style=\"text-align: right;\">\n",
       "      <th></th>\n",
       "      <th>married_Currently married</th>\n",
       "      <th>married_Never married</th>\n",
       "      <th>married_Previously married</th>\n",
       "    </tr>\n",
       "  </thead>\n",
       "  <tbody>\n",
       "    <tr>\n",
       "      <th>0</th>\n",
       "      <td>0.073782</td>\n",
       "      <td>-0.000000</td>\n",
       "      <td>0.000000</td>\n",
       "    </tr>\n",
       "    <tr>\n",
       "      <th>1</th>\n",
       "      <td>0.000000</td>\n",
       "      <td>-0.033904</td>\n",
       "      <td>0.000000</td>\n",
       "    </tr>\n",
       "    <tr>\n",
       "      <th>2</th>\n",
       "      <td>0.000000</td>\n",
       "      <td>-0.000000</td>\n",
       "      <td>0.012719</td>\n",
       "    </tr>\n",
       "    <tr>\n",
       "      <th>3</th>\n",
       "      <td>0.000000</td>\n",
       "      <td>-0.033904</td>\n",
       "      <td>0.000000</td>\n",
       "    </tr>\n",
       "    <tr>\n",
       "      <th>4</th>\n",
       "      <td>0.000000</td>\n",
       "      <td>-0.033904</td>\n",
       "      <td>0.000000</td>\n",
       "    </tr>\n",
       "    <tr>\n",
       "      <th>...</th>\n",
       "      <td>...</td>\n",
       "      <td>...</td>\n",
       "      <td>...</td>\n",
       "    </tr>\n",
       "    <tr>\n",
       "      <th>54561</th>\n",
       "      <td>0.073782</td>\n",
       "      <td>-0.000000</td>\n",
       "      <td>0.000000</td>\n",
       "    </tr>\n",
       "    <tr>\n",
       "      <th>54562</th>\n",
       "      <td>0.000000</td>\n",
       "      <td>-0.033904</td>\n",
       "      <td>0.000000</td>\n",
       "    </tr>\n",
       "    <tr>\n",
       "      <th>54563</th>\n",
       "      <td>0.000000</td>\n",
       "      <td>-0.033904</td>\n",
       "      <td>0.000000</td>\n",
       "    </tr>\n",
       "    <tr>\n",
       "      <th>54564</th>\n",
       "      <td>0.000000</td>\n",
       "      <td>-0.033904</td>\n",
       "      <td>0.000000</td>\n",
       "    </tr>\n",
       "    <tr>\n",
       "      <th>54565</th>\n",
       "      <td>0.000000</td>\n",
       "      <td>-0.033904</td>\n",
       "      <td>0.000000</td>\n",
       "    </tr>\n",
       "  </tbody>\n",
       "</table>\n",
       "<p>54566 rows × 3 columns</p>\n",
       "</div>"
      ],
      "text/plain": [
       "       married_Currently married  married_Never married  \\\n",
       "0                       0.073782              -0.000000   \n",
       "1                       0.000000              -0.033904   \n",
       "2                       0.000000              -0.000000   \n",
       "3                       0.000000              -0.033904   \n",
       "4                       0.000000              -0.033904   \n",
       "...                          ...                    ...   \n",
       "54561                   0.073782              -0.000000   \n",
       "54562                   0.000000              -0.033904   \n",
       "54563                   0.000000              -0.033904   \n",
       "54564                   0.000000              -0.033904   \n",
       "54565                   0.000000              -0.033904   \n",
       "\n",
       "       married_Previously married  \n",
       "0                        0.000000  \n",
       "1                        0.000000  \n",
       "2                        0.012719  \n",
       "3                        0.000000  \n",
       "4                        0.000000  \n",
       "...                           ...  \n",
       "54561                    0.000000  \n",
       "54562                    0.000000  \n",
       "54563                    0.000000  \n",
       "54564                    0.000000  \n",
       "54565                    0.000000  \n",
       "\n",
       "[54566 rows x 3 columns]"
      ]
     },
     "execution_count": 90,
     "metadata": {},
     "output_type": "execute_result"
    }
   ],
   "source": [
    "dumi_X[datas]"
   ]
  },
  {
   "cell_type": "code",
   "execution_count": null,
   "metadata": {},
   "outputs": [],
   "source": [
    "for i in a:\n",
    "    if"
   ]
  },
  {
   "cell_type": "code",
   "execution_count": 66,
   "metadata": {},
   "outputs": [
    {
     "data": {
      "text/plain": [
       "Index(['Currently married', 'Never married', 'Previously married', 'All'], dtype='object', name='married')"
      ]
     },
     "execution_count": 66,
     "metadata": {},
     "output_type": "execute_result"
    }
   ],
   "source": [
    "b.index"
   ]
  },
  {
   "cell_type": "code",
   "execution_count": 67,
   "metadata": {},
   "outputs": [
    {
     "name": "stdout",
     "output_type": "stream",
     "text": [
      "Python 3.7.7\r\n"
     ]
    }
   ],
   "source": [
    "!python -V"
   ]
  },
  {
   "cell_type": "code",
   "execution_count": null,
   "metadata": {},
   "outputs": [],
   "source": []
  },
  {
   "cell_type": "code",
   "execution_count": null,
   "metadata": {},
   "outputs": [],
   "source": []
  },
  {
   "cell_type": "markdown",
   "metadata": {},
   "source": [
    "### religion"
   ]
  },
  {
   "cell_type": "code",
   "execution_count": 35,
   "metadata": {},
   "outputs": [],
   "source": [
    "import matplotlib.pyplot as plt\n",
    "import seaborn as sns\n",
    "%matplotlib inline"
   ]
  },
  {
   "cell_type": "code",
   "execution_count": 36,
   "metadata": {
    "scrolled": true
   },
   "outputs": [
    {
     "data": {
      "text/plain": [
       "<matplotlib.axes._subplots.AxesSubplot at 0x7fa0053a8bd0>"
      ]
     },
     "execution_count": 36,
     "metadata": {},
     "output_type": "execute_result"
    },
    {
     "data": {
      "image/png": "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\n",
      "text/plain": [
       "<Figure size 1440x432 with 1 Axes>"
      ]
     },
     "metadata": {
      "image/png": {
       "height": 375,
       "width": 1179
      },
      "needs_background": "light"
     },
     "output_type": "display_data"
    }
   ],
   "source": [
    "plt.figure(figsize=(20, 6))\n",
    "sns.histplot(df_iqr, x='religion', hue='voted')"
   ]
  },
  {
   "cell_type": "code",
   "execution_count": 37,
   "metadata": {},
   "outputs": [],
   "source": [
    "df_religion_voted = pd.crosstab(df_iqr['religion'], df_iqr['voted'], margins=True, normalize=True)"
   ]
  },
  {
   "cell_type": "markdown",
   "metadata": {},
   "source": [
    "#### 종교별 가중치 기준 비율"
   ]
  },
  {
   "cell_type": "code",
   "execution_count": 38,
   "metadata": {
    "scrolled": false
   },
   "outputs": [
    {
     "data": {
      "text/html": [
       "<div>\n",
       "<style scoped>\n",
       "    .dataframe tbody tr th:only-of-type {\n",
       "        vertical-align: middle;\n",
       "    }\n",
       "\n",
       "    .dataframe tbody tr th {\n",
       "        vertical-align: top;\n",
       "    }\n",
       "\n",
       "    .dataframe thead th {\n",
       "        text-align: right;\n",
       "    }\n",
       "</style>\n",
       "<table border=\"1\" class=\"dataframe\">\n",
       "  <thead>\n",
       "    <tr style=\"text-align: right;\">\n",
       "      <th>voted</th>\n",
       "      <th>No</th>\n",
       "      <th>Yes</th>\n",
       "      <th>All</th>\n",
       "      <th>rate</th>\n",
       "    </tr>\n",
       "    <tr>\n",
       "      <th>religion</th>\n",
       "      <th></th>\n",
       "      <th></th>\n",
       "      <th></th>\n",
       "      <th></th>\n",
       "    </tr>\n",
       "  </thead>\n",
       "  <tbody>\n",
       "    <tr>\n",
       "      <th>All</th>\n",
       "      <td>0.473702</td>\n",
       "      <td>0.526298</td>\n",
       "      <td>1.000000</td>\n",
       "      <td>0.052597</td>\n",
       "    </tr>\n",
       "    <tr>\n",
       "      <th>Christian(Protestant)</th>\n",
       "      <td>0.037331</td>\n",
       "      <td>0.064381</td>\n",
       "      <td>0.101712</td>\n",
       "      <td>0.027050</td>\n",
       "    </tr>\n",
       "    <tr>\n",
       "      <th>Christian(Catholic)</th>\n",
       "      <td>0.055309</td>\n",
       "      <td>0.077264</td>\n",
       "      <td>0.132573</td>\n",
       "      <td>0.021955</td>\n",
       "    </tr>\n",
       "    <tr>\n",
       "      <th>Agnostic</th>\n",
       "      <td>0.103929</td>\n",
       "      <td>0.112561</td>\n",
       "      <td>0.216490</td>\n",
       "      <td>0.008632</td>\n",
       "    </tr>\n",
       "    <tr>\n",
       "      <th>Christian(othrer)</th>\n",
       "      <td>0.049042</td>\n",
       "      <td>0.056629</td>\n",
       "      <td>0.105670</td>\n",
       "      <td>0.007587</td>\n",
       "    </tr>\n",
       "    <tr>\n",
       "      <th>Atheist</th>\n",
       "      <td>0.113880</td>\n",
       "      <td>0.121009</td>\n",
       "      <td>0.234890</td>\n",
       "      <td>0.007129</td>\n",
       "    </tr>\n",
       "    <tr>\n",
       "      <th>Jewish</th>\n",
       "      <td>0.003555</td>\n",
       "      <td>0.006579</td>\n",
       "      <td>0.010135</td>\n",
       "      <td>0.003024</td>\n",
       "    </tr>\n",
       "    <tr>\n",
       "      <th>Christian(Mormon)</th>\n",
       "      <td>0.003464</td>\n",
       "      <td>0.003684</td>\n",
       "      <td>0.007147</td>\n",
       "      <td>0.000220</td>\n",
       "    </tr>\n",
       "    <tr>\n",
       "      <th>Sikh</th>\n",
       "      <td>0.001155</td>\n",
       "      <td>0.000935</td>\n",
       "      <td>0.002089</td>\n",
       "      <td>-0.000220</td>\n",
       "    </tr>\n",
       "    <tr>\n",
       "      <th>Buddhist</th>\n",
       "      <td>0.012242</td>\n",
       "      <td>0.009108</td>\n",
       "      <td>0.021350</td>\n",
       "      <td>-0.003134</td>\n",
       "    </tr>\n",
       "    <tr>\n",
       "      <th>Hindu</th>\n",
       "      <td>0.016182</td>\n",
       "      <td>0.011985</td>\n",
       "      <td>0.028168</td>\n",
       "      <td>-0.004197</td>\n",
       "    </tr>\n",
       "    <tr>\n",
       "      <th>Other</th>\n",
       "      <td>0.056372</td>\n",
       "      <td>0.050544</td>\n",
       "      <td>0.106916</td>\n",
       "      <td>-0.005828</td>\n",
       "    </tr>\n",
       "    <tr>\n",
       "      <th>Muslim</th>\n",
       "      <td>0.021240</td>\n",
       "      <td>0.011619</td>\n",
       "      <td>0.032859</td>\n",
       "      <td>-0.009621</td>\n",
       "    </tr>\n",
       "  </tbody>\n",
       "</table>\n",
       "</div>"
      ],
      "text/plain": [
       "voted                        No       Yes       All      rate\n",
       "religion                                                     \n",
       "All                    0.473702  0.526298  1.000000  0.052597\n",
       "Christian(Protestant)  0.037331  0.064381  0.101712  0.027050\n",
       "Christian(Catholic)    0.055309  0.077264  0.132573  0.021955\n",
       "Agnostic               0.103929  0.112561  0.216490  0.008632\n",
       "Christian(othrer)      0.049042  0.056629  0.105670  0.007587\n",
       "Atheist                0.113880  0.121009  0.234890  0.007129\n",
       "Jewish                 0.003555  0.006579  0.010135  0.003024\n",
       "Christian(Mormon)      0.003464  0.003684  0.007147  0.000220\n",
       "Sikh                   0.001155  0.000935  0.002089 -0.000220\n",
       "Buddhist               0.012242  0.009108  0.021350 -0.003134\n",
       "Hindu                  0.016182  0.011985  0.028168 -0.004197\n",
       "Other                  0.056372  0.050544  0.106916 -0.005828\n",
       "Muslim                 0.021240  0.011619  0.032859 -0.009621"
      ]
     },
     "execution_count": 38,
     "metadata": {},
     "output_type": "execute_result"
    }
   ],
   "source": [
    "df_religion_voted['rate'] = df_religion_voted['Yes'] - df_religion_voted['No']\n",
    "df_religion_voted.sort_values('rate', ascending=False)"
   ]
  },
  {
   "cell_type": "code",
   "execution_count": null,
   "metadata": {},
   "outputs": [],
   "source": []
  },
  {
   "cell_type": "code",
   "execution_count": null,
   "metadata": {},
   "outputs": [],
   "source": []
  },
  {
   "cell_type": "code",
   "execution_count": null,
   "metadata": {},
   "outputs": [],
   "source": []
  },
  {
   "cell_type": "code",
   "execution_count": null,
   "metadata": {},
   "outputs": [],
   "source": []
  },
  {
   "cell_type": "code",
   "execution_count": null,
   "metadata": {},
   "outputs": [],
   "source": []
  },
  {
   "cell_type": "markdown",
   "metadata": {},
   "source": [
    "### engnat"
   ]
  },
  {
   "cell_type": "code",
   "execution_count": 35,
   "metadata": {},
   "outputs": [],
   "source": [
    "import matplotlib.pyplot as plt\n",
    "import seaborn as sns\n",
    "%matplotlib inline"
   ]
  },
  {
   "cell_type": "code",
   "execution_count": 39,
   "metadata": {
    "scrolled": true
   },
   "outputs": [
    {
     "data": {
      "text/plain": [
       "<matplotlib.axes._subplots.AxesSubplot at 0x7f9fcca3cd10>"
      ]
     },
     "execution_count": 39,
     "metadata": {},
     "output_type": "execute_result"
    },
    {
     "data": {
      "image/png": "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\n",
      "text/plain": [
       "<Figure size 1440x432 with 1 Axes>"
      ]
     },
     "metadata": {
      "image/png": {
       "height": 375,
       "width": 1186
      },
      "needs_background": "light"
     },
     "output_type": "display_data"
    }
   ],
   "source": [
    "plt.figure(figsize=(20, 6))\n",
    "sns.histplot(df_iqr, x='engnat', hue='voted')"
   ]
  },
  {
   "cell_type": "code",
   "execution_count": 40,
   "metadata": {},
   "outputs": [],
   "source": [
    "df_engnat_voted = pd.crosstab(df_iqr['engnat'], df_iqr['voted'], margins=True, normalize=True)"
   ]
  },
  {
   "cell_type": "markdown",
   "metadata": {},
   "source": [
    "#### 모국어별 가중치 기준 비율"
   ]
  },
  {
   "cell_type": "code",
   "execution_count": 41,
   "metadata": {
    "scrolled": false
   },
   "outputs": [
    {
     "data": {
      "text/html": [
       "<div>\n",
       "<style scoped>\n",
       "    .dataframe tbody tr th:only-of-type {\n",
       "        vertical-align: middle;\n",
       "    }\n",
       "\n",
       "    .dataframe tbody tr th {\n",
       "        vertical-align: top;\n",
       "    }\n",
       "\n",
       "    .dataframe thead th {\n",
       "        text-align: right;\n",
       "    }\n",
       "</style>\n",
       "<table border=\"1\" class=\"dataframe\">\n",
       "  <thead>\n",
       "    <tr style=\"text-align: right;\">\n",
       "      <th>voted</th>\n",
       "      <th>No</th>\n",
       "      <th>Yes</th>\n",
       "      <th>All</th>\n",
       "      <th>rate</th>\n",
       "    </tr>\n",
       "    <tr>\n",
       "      <th>engnat</th>\n",
       "      <th></th>\n",
       "      <th></th>\n",
       "      <th></th>\n",
       "      <th></th>\n",
       "    </tr>\n",
       "  </thead>\n",
       "  <tbody>\n",
       "    <tr>\n",
       "      <th>Yes</th>\n",
       "      <td>0.274823</td>\n",
       "      <td>0.339222</td>\n",
       "      <td>0.614045</td>\n",
       "      <td>0.064399</td>\n",
       "    </tr>\n",
       "    <tr>\n",
       "      <th>All</th>\n",
       "      <td>0.473702</td>\n",
       "      <td>0.526298</td>\n",
       "      <td>1.000000</td>\n",
       "      <td>0.052597</td>\n",
       "    </tr>\n",
       "    <tr>\n",
       "      <th>No</th>\n",
       "      <td>0.198878</td>\n",
       "      <td>0.187076</td>\n",
       "      <td>0.385955</td>\n",
       "      <td>-0.011802</td>\n",
       "    </tr>\n",
       "  </tbody>\n",
       "</table>\n",
       "</div>"
      ],
      "text/plain": [
       "voted         No       Yes       All      rate\n",
       "engnat                                        \n",
       "Yes     0.274823  0.339222  0.614045  0.064399\n",
       "All     0.473702  0.526298  1.000000  0.052597\n",
       "No      0.198878  0.187076  0.385955 -0.011802"
      ]
     },
     "execution_count": 41,
     "metadata": {},
     "output_type": "execute_result"
    }
   ],
   "source": [
    "df_engnat_voted['rate'] = df_engnat_voted['Yes'] - df_engnat_voted['No']\n",
    "df_engnat_voted.sort_values('rate', ascending=False)"
   ]
  },
  {
   "cell_type": "code",
   "execution_count": 43,
   "metadata": {},
   "outputs": [
    {
     "data": {
      "text/plain": [
       "108"
      ]
     },
     "execution_count": 43,
     "metadata": {},
     "output_type": "execute_result"
    }
   ],
   "source": []
  },
  {
   "cell_type": "code",
   "execution_count": null,
   "metadata": {},
   "outputs": [],
   "source": []
  },
  {
   "cell_type": "markdown",
   "metadata": {},
   "source": [
    "### TIPI6 (TYP_quiet)"
   ]
  },
  {
   "cell_type": "code",
   "execution_count": 9,
   "metadata": {},
   "outputs": [],
   "source": [
    "import matplotlib.pyplot as plt\n",
    "import seaborn as sns\n",
    "%matplotlib inline"
   ]
  },
  {
   "cell_type": "code",
   "execution_count": 12,
   "metadata": {},
   "outputs": [
    {
     "name": "stdout",
     "output_type": "stream",
     "text": [
      "TYP_out\n",
      "TYP_fight\n",
      "TYP_depnd\n",
      "TYP_anx\n",
      "TYP_try\n",
      "TYP_quiet\n",
      "TYP_warm\n",
      "TYP_disorg\n",
      "TYP_calm\n",
      "TYP_stable\n"
     ]
    }
   ],
   "source": [
    "for i in df_iqr.columns:\n",
    "    if \"TYP\" in i:\n",
    "        print(i)"
   ]
  },
  {
   "cell_type": "code",
   "execution_count": 15,
   "metadata": {},
   "outputs": [
    {
     "data": {
      "text/plain": [
       "<matplotlib.axes._subplots.AxesSubplot at 0x7fd6e94d5ac0>"
      ]
     },
     "execution_count": 15,
     "metadata": {},
     "output_type": "execute_result"
    },
    {
     "data": {
      "image/png": "iVBORw0KGgoAAAANSUhEUgAABbQAAALmCAYAAACaQxKlAAAABHNCSVQICAgIfAhkiAAAAAlwSFlzAAAWJQAAFiUBSVIk8AAAADh0RVh0U29mdHdhcmUAbWF0cGxvdGxpYiB2ZXJzaW9uMy4yLjIsIGh0dHA6Ly9tYXRwbG90bGliLm9yZy+WH4yJAAAgAElEQVR4nOzdeZieZX0v8O8vJASIBIygQQWhKAhoBdGjLCUcREUFqRiFC6QgVAsKLsR6AKXAESqKbC0FrBbEFam9xEIBNwrBBRdSlxYkqOG4gRSibIEQMvf5Y95JJ8MkmQlDJk/y+VzXez3z3s/vXp4Mf+g3d+6nWmsBAAAAAIDV3YTxXgAAAAAAAIyEQBsAAAAAgE4QaAMAAAAA0AkCbQAAAAAAOkGgDQAAAABAJwi0AQAAAADoBIE2AAAAAACdINAGAAAAAKATBNoAAAAAAHSCQBsAAAAAgE4QaAMAAAAA0AkCbQAAAAAAOmHieC+AFauqeUmmJrljnJcCAAAAAPBEbZnk/tbaVqPtKNDuhqnrr7/+tO22227aeC8EAAAAAOCJuPXWW/Pwww+vVF+Bdjfcsd122027+eabx3sdAAAAAABPyM4775w5c+bcsTJ9naENAAAAAEAnCLQBAAAAAOgEgTYAAAAAAJ0g0AYAAAAAoBME2gAAAAAAdIJAGwAAAACAThBoAwAAAADQCRPHewGMrb6+vsyfPz8PPPBAFi5cmNbaeC9prVdVmTx5cjbccMNMmzYtEyb4eyQAAAAAWBkC7TVIX19ffv3rX2fBggXjvRQGaa3lkUceySOPPJKHHnoom2++uVAbAAAAAFaCQHsNMn/+/CxYsCATJ07M9OnTM2XKFMHpaqCvry8PPfRQ7rrrrixYsCDz58/PJptsMt7LAgAAAIDOkXauQR544IEkyfTp07PhhhsKs1cTEyZMyIYbbpjp06cn+Z/fEwAAAAAwOhLPNcjChQuTJFOmTBnnlTCcgd/LwO8JAAAAABidzgbaVfVnVfUvVXVnVS3sXb9WVa8dpnbXqrq6quZX1YKq+klVvaeq1lnO+IdV1fer6sGquq+qrq+qfZdTv35VnVpVt1XVI1V1d1VdXlXbjdUzr8jACyDtzF49VVWSeFEnAAAAAKykTiafVfXBJLOT7JHk2iRnJbkyyVOT7Dmkdv9BtV9O8g9J1k1yTpLLljH+x5J8KslmST6R5LNJXpjkyqo6Zpj6yUm+nuRvktyf5Lwk30jyhiQ/rKqXPYHHZQ0xEGgDAAAAACuncy+FrKo3JflQ+gPjA1prDwy5P2nQz1PTH0gvTrJna+2HvfaTklyXZGZVHdRau2xQn12TzEryiyQvba39odd+ZpKbk3ysqq5qrd0xaNrjkuyW5EtJDmyt9fX6fDHJFUkurqoXDrQDAAAAADB6ndqhXVUTknwkyYIkBw8Ns5OktbZo0NeZSTZNctlAmN2reSTJB3tfjx4yxFG96+kDYXavzx3p3909OclbB62pBvV5/+DQurX2lSQ3Jtk+yYwRPygAAAAAAI/TqUA7ya5JtkpydZI/VNXrqur/VNW7q2qXYer36l2vHebe7PQH47v2jgwZSZ9rhtQkydZJtkgyt7U2b4R9WI2ccsopqapcf/31470UAAAAAGA5unbkyEt7198nmZP+c62XqKrZSWa21v6717Rt7zp36ECttceqal6SHZL8SZJbq2pKkmclebC1ducw89/eu24zqG2Zcyynz7Cq6uZl3Hr+ivquaaoqM2bMEDIDAAAAAEt0bYf203vXo5Ksn2TvJBsmeUGSr6b/xY//PKh+o971vmWMN9C+8UrWr2wfAAAAAABGqWs7tNfpXSv9O7F/3Pv+X1X1hvTvkp5RVbu01r47gvGqd22jXMdo6kc8R2tt52EH6N+5/eJRzAkAAAAAsMbp2g7tgZc0/nJQmJ0kaa09nP5d2knyv3rXgd3RG2V4U4fUrah+uN3Yo52j87773e+mqnLAAQcss2a77bbL5MmTM3/+/CRJX19fLrroorz0pS/NU57ylEyZMiUvfelLc+GFF6avb8l7NPOpT30q/e/ZTG644YZU1ZLPKaecstQc3/ve9zJz5sxMnz496667bjbffPP81V/9VX73u98Nu6abb745++yzTzbccMNMnTo1e++9d7773ZH8vQcAAAAAsDro2g7t23rXPy7j/kDgvf6g+pek//zqpc6nrqqJ6X/B5GNJfpkkrbWHquq3SZ5VVZsNc47283rXwedlD6xpWWdkD9en03bZZZdsu+22ueqqq3LvvffmaU972lL3v//97+dnP/tZ3vjGN2batGlJkkMPPTSf//zns/nmm+cv//IvU1X58pe/nHe84x351re+lc997nNJkh133DEnn3xyTj311DznOc/J4YcfvmTcPffcc8nPl1xySd72trdl8uTJef3rX5/NN988t99+ez75yU/myiuvzE033ZQttthiSf13vvOd7L333nn00UdzwAEH5LnPfW5+9KMfZc8998xee3lfJwAAAAB0QdcC7dnpD6CfV1XrttYeHXL/Bb3rHb3rdUkOSbJPki8Mqd0jyQZJZrfWFg5qvy7Job0+lwzp85pBNQN+keRXSbapqq1aa/NG0KfzDjvssJx44on5whe+kGOOOWape5deeumSmiT5whe+kM9//vPZaaedMnv27DzlKU9Jkpx22mmZMWNGPv/5z+d1r3tdDj744Oy4447Zcccdc+qpp2bLLbd83K7sJJk7d27+6q/+KltuuWVuuOGGPOtZz1py77rrrssrX/nKvPvd786Xv/zlJElrLUcccUQefvjhXHHFFdl///2X1J933nl5z3veM6Z/NgAAAADAk6NTR4601u5J8sX0H+/xN4PvVdUrk7w6/Ud7XNtr/lKSe5IcVFUvGVS7XpLTel8vHDLNRb3rB6rqqYP6bJnknUkWZlDQ3Vprg/p8tKomDOqzf5I/S3JLkhtG9bCruUMPPTQTJkxYEl4PePTRR3PZZZfl6U9/el7zmv4s/+KLL06SnHHGGUvC7CSZMmVKPvKRjyRJPvnJT4547gsvvDCLFi3Keeedt1SYnSR77bVXXv/61+fKK6/MAw88kKR/d/Ztt92WPfbYY6kwO0mOOeaYbL311iOeGwAAAAAYP13boZ0kxyV5WfoD5z2SfD/Jc5K8IcniJG9rrf0xSVpr91fV29IfbF9fVZclmZ/k9Um27bV/cfDgrbXvVNXZvXl+UlVfSrJukgOTTEtybGvtjiFrOjvJvklmJvleVX0zyRZJ3pRkQZIjWmt9WYM8+9nPzite8Yp8/etfzy233JLtt98+SXLllVdm/vz5ee9735uJE/v/85ozZ04mTJiw1JEhA2bMmJF11lkn//Ef/zHiuQfOvb7hhhvygx/84HH377777ixevDhz587NzjvvnDlz5iyZa6h11lknu+++e37xi1+MeH4AAAAAYHx0LtBurd1dVS9L8sH0h9gvT/JAkn9L8uHW2k1D6q+oqhlJPpDkjUnWS/Lz9AfWf9fbYT10jllV9ZMkxyR5e5K+JHOSnNlau2qY+oVVtXeS45McnOS9Se5PckWSk1trt4zJw69mDj/88Hz961/PpZdeumSn9dDjRpLkvvvuy7Rp07Luuus+boyJEydmk002yd133z3iee+9994kyZlnnrncugcffHDJ/EnyjGc8Y9i66dOnj3huAAAAAGD8dC7QTpLW2vz0B9LHjbD+20leO8o5Lk1y6QoL/6f+4SQn9z5rhTe84Q2ZOnVqPvvZz+Zv//ZvM3/+/FxzzTV50YtelBe96EVL6jbaaKPMnz8/ixYtyqRJk5Ya47HHHss999yTqVOnjnjejTbaKEl/UD2SfgP1v//974e9f9ddd414bgAAAABg/HTqDG1WL+uvv37e/OY353e/+12+8Y1v5HOf+1wee+yxpXZnJ8lOO+2Uvr6+zJ49+3FjzJ49O4sXL86LX/zipdonTJiQxYsXDzvvy1/+8iTJjTfeOKJ1Dox9ww2PP8Z88eLF+da3vjWicQAAAACA8SXQ5gk5/PDDkySf/vSn8+lPfzoTJ07MIYccslTNEUcckSQ54YQTsmDBgiXtCxYsyPHHH58kOfLII5fq87SnPS2//vWvh53zmGOOyaRJk/Le9743c+fOfdz9Rx99dKmwe9ddd822226b2bNn5ytf+cpSteeff77zswEAgFTVavEBAJavk0eOsPrYbbfd8tznPjf//M//nEWLFmW//fbL05/+9KVqDj744HzlK1/J5Zdfnh122CF//ud/nqrKFVdckXnz5uXNb37z40LwV7ziFbnsssuy3377Zeedd87EiROzxx57ZI899sjzn//8XHzxxTniiCOyww47ZJ999sk222yTRYsW5Ve/+lVuvPHGbLrppvnZz36WpP9/mP7TP/1TXvnKV+aNb3xjDjjggDz3uc/Nj3/843zjG9/IPvvsk2uvvXaV/ZkBAAAAACtHoM0Tdthhh+Wkk05a8vNwvvCFL2TGjBm5+OKL8/GPfzxJst1222XWrFk5+uijH1d/3nnnparyzW9+M1dffXX6+vpy8sknZ4899kiSvOUtb8mLXvSinHXWWfn3f//3fO1rX8uUKVPyzGc+MzNnzsyBBx641Hi77bZbbrzxxnzgAx/INddckyR52cteluuvvz5f/epXBdoAAECS5Oyv3TYu8x73qm3HZV4A6JpqrY33GliBqrr5xS9+8Ytvvvnm5dbdeuutSfqDYlZPfkcAALB6GjjuY7wDbf8fHYC1wc4775w5c+bMaa3tPNq+ztAGAAAAAKATBNoAAAAAAHSCQBsAAAAAgE4QaAMAAAAA0AkCbQAAAAAAOkGgDQAAAABAJwi0AQAAAADoBIE2AAAAAACdINAGAAAAAKATBNoAAAAAAHSCQBsAAAAAgE4QaAMAAAAA0AkCbQAAAAAAOmHieC+AVaeqxnsJI9JaG+8lAAAAAACrITu0WeMccMABqaqcc845y6z5wQ9+kEmTJmWrrbbK/fffvwpXBwAAAACsLDu010Jnf+228V7CsI571bZjMs4nPvGJ3HTTTTnhhBOy995754UvfOFS9xcsWJC3vOUt6evry2c+85lMnTp1TOYFAAAAAJ5cdmizxnna056WSy65JI8++mgOOeSQLFy4cKn7s2bNyty5c3P88cdn9913H6dVAgAAAACjJdBmjfTqV786xxxzTH7605/mhBNOWNJ+9dVX56KLLsrOO++cU045JY899lguuOCCvPzlL8/UqVOzwQYbZKeddsr555+fvr6+x437r//6r3nFK16RzTbbLJMnT84zn/nMzJgxIxdccMGqfDwAAAAAWCsJtFljffSjH83222+fc889N9/85jdzzz335IgjjsgGG2yQz33uc0mSfffdN+985zvzxz/+MQcffHDe/va3p6+vL8cee2wOO+ywpcb7x3/8x+y///655ZZbst9++2XWrFl57Wtfm4cffjiXXHLJeDwiAAAAAKxVnKHNGmu99dbL5z73ubzsZS/LYYcdlj/90z/N73//+1xwwQXZdtttc8opp+SrX/1qjjnmmJx77rlZZ511kiSLFy/O29/+9lx88cWZOXNm9t9//yTJxz/+8ay77rr58Y9/nKc//elLzXXPPfes8ucDAAAAgLWNHdqs0Xbcccd86EMfym9/+9tcc801ed3rXpejjz46fX19Of/88zN9+vScc845S8LsJFlnnXVy1llnpaqW7OQeMHHixEyaNOlx82yyySZP+rMAAAAAwNrODm3WeO973/tyzjnn5K677sqZZ56ZJJk7d27uvffePO95z8tpp502bL/1118/t95665LvhxxySGbNmpUddtghBx54YGbMmJHddtstm2666Sp5DgAAAABY2wm0WeNNmDAhkydPTtIfUifJvffemyS5/fbbc+qppy6z74MPPrjk5+OOOy6bbLJJLrjggvzd3/1dzj333FRVZsyYkTPPPDMveclLnsSnAAAAAAAcOcJaaaONNkqSvOENb0hrbZmfefPmLdXvL/7iL3LTTTfl3nvvzb/927/lyCOPzOzZs/PqV786d99993g8CgAAAACsNQTarJWe//znZ+ONN85NN92URYsWjbr/xhtvnNe+9rX5xCc+kcMPPzzz58/PjTfe+CSsFAAAAIAnU1WtFh9GRqDNWmnixIk59thjc+edd+Zd73pXHn744cfV3HnnnbnllluWfL/22mvz2GOPPa5uYGf2Bhts8OQtGAAAAABwhjZrr5NOOik//vGPc9FFF+XKK6/MXnvtlWc961m5++67c/vtt+fb3/52Tj/99Gy//fZJkoMOOijrrbdedt9992y55ZZpreXGG2/MD37wg+y8887Ze++9x/mJAAAAAFhZ7bq/HZd5a68Tx2XerhJor4WOe9W2472E1cKkSZNyxRVX5LOf/Ww+9alP5aqrrsqDDz6YTTfdNFtttVU+9KEP5ZBDDllSf8YZZ+SrX/1q5syZk6uvvjrrrbdenvOc5+QjH/lIjj766EyaNGkcnwYAAAAA1nwCbdYKd9xxx7DtVZVDDz00hx566ArHOOqoo3LUUUeN8coAAAAAgJESaK9FWmvjvQQAAAAAgJXmpZAAAAAAAHSCQBsAAAAAgE4QaAMAAAAA0AkCbQAAAAAAOkGgDQAAAABAJwi0AQAAAADoBIE2AAAAAACdINAGAAAAAKATBNoAAAAAAHSCQBsAAAAAgE4QaAMAAAAA0AkCbQAAAAAAOmHieC+AVaeqxnsJI9JaG+8lAAAAAACrITu0WSNVVaoqz3nOc/LII48MW7PlllumqvLYY4+t4tUBAAAAACvDDu21ULvub8d7CcOqvU4c8zF/9atf5dxzz83xxx8/5mMDAAAAAKuWHdqssZ761Kdm2rRp+fCHP5x77rlnvJcDAAAAADxBAm3WWBtssEFOOumk3H///Tn11FNH1ffyyy/PHnvskY022ijrr79+XvjCF+bDH/5wFi5c+CStFgAAAABYEYE2a7R3vvOd2XrrrfPxj388c+fOHVGfE088MQceeGBuvfXWHHzwwTnmmGPSWsuJJ56YV7/61Vm0aNGTvGoAAAAAYDgCbdZokyZNyhlnnJFFixaN6Bzt7373u/nwhz+czTffPD/96U9z4YUX5swzz8yPfvSj7Lvvvrnhhhty5plnroKVAwAAAABDCbRZ482cOTO77LJLvvzlL+db3/rWcmsvvvjiJMkHP/jBTJ8+fUn7xIkTc9ZZZ2XChAn55Cc/+aSuFwAAAAAYnkCbtcJZZ52VJJk1a1Zaa8usmzNnTpJkr732ety9bbbZJs9+9rMzb968/PGPf3xyFgoAAAAALJNAm7XCLrvskpkzZ+b73/9+Lr/88mXW3XfffUmSzTbbbNj7A+0DdQAAAADAqiPQZq1xxhlnZNKkSTnhhBPy6KOPDluz0UYbJUnuuuuuYe/feeedS9UBAAAAAKvOxPFeAKwqW2+9dd7xjnfkvPPOy9///d8PW7PTTjtlzpw5uf7667P11lsvde/nP/95fvOb32SrrbbKxhtvvCqWDAAArGKnnnrqeC8BAFgOO7RZq/zN3/xNNt5445x++ul58MEHH3f/iCOOSJKcdtpp+e///u8l7YsXL8773ve+9PX15cgjj1xl6wUAAIAnW1WtFh+AkbBDm7XKtGnTcuKJJ+b973//sPd33XXXvP/9789HP/rRvOAFL8jMmTMzZcqUXHPNNfnP//zP7L777vnrv/7rVbxqAABgVTn5sFeMy7zHffvz4zIvAHSNQHstVHudON5LGFfvete7csEFF+SOO+4Y9v5HPvKR7LTTTjn//PPz6U9/OosWLcrWW2+d0047LbNmzcq66667ahcMAAAAq0C77m/HZd61PacARkegzRqptbbMe5MnT868efOW2/+ggw7KQQcdNNbLAgAAAGA15S9XukGgvRZZXsgLAAAAALC6E2gDAAAAAGu9s//xn8Zl3uPefuS4zNtVAm0AAAAAHLcAdMKE8V4AAAAAAACMhB3aAAAAADhuAegEO7QBAAAAAOgEgTasIq218V4CAAAAAHSaQHsNUlVJkr6+vnFeCcMZCLQHfk8AAAAAwOgItNcgkydPTpI89NBD47wShjPwexn4PQEAAAAAoyPQXoNsuOGGSZK77rorDzzwQPr6+hxzMc5aa+nr68sDDzyQu+66K8n//J4AAAAAgNGZON4LYOxMmzYtDz30UBYsWJDf/OY3470chrHBBhtk2rRp470MAAAAAOgkgfYaZMKECdl8880zf/78PPDAA1m4cKEd2quBqsrkyZOz4YYbZtq0aZkwwT+MAAAAAICVIdBew0yYMCGbbLJJNtlkk/FeCgAAAADAmLJVFAAAAACAThBoAwAAAADQCQJtAAAAAAA6QaANAAAAAEAnCLQBAAAAAOgEgTYAAAAAAJ0g0AYAAAAAoBME2gAAAAAAdIJAGwAAAACAThBoAwAAAADQCQJtAAAAAAA6QaANAAAAAEAnCLQBAAAAAOgEgTYAAAAAAJ3QuUC7qu6oqraMz13L6LNrVV1dVfOrakFV/aSq3lNV6yxnnsOq6vtV9WBV3VdV11fVvsupX7+qTq2q26rqkaq6u6our6rtxuK5AQAAAADWdhPHewEr6b4k5w7T/uDQhqraP8m/JHkkyReTzE+yX5JzkuyW5E3D9PlYkllJfpPkE0nWTXJQkiur6tjW2vlD6icn+XpvvB8mOS/J5r2xX1dVe7XWvrdSTwoAAAAAQJLuBtp/bK2dsqKiqpqa/kB6cZI9W2s/7LWflOS6JDOr6qDW2mWD+uya/jD7F0le2lr7Q6/9zCQ3J/lYVV3VWrtj0FTHpT/M/lKSA1trfb0+X0xyRZKLq+qFA+0AAAAAAIxe544cGaWZSTZNctlAmJ0krbVHknyw9/XoIX2O6l1PHwize33uSPIPSSYneetAe1XVoD7vHxxat9a+kuTGJNsnmTEGzwMAAAAAsNbqaqA9uareUlUnVtW7q+p/L+M87L1612uHuTc7yYIku/aODBlJn2uG1CTJ1km2SDK3tTZvhH0AAAAAABilrh45Mj3JZ4a0zauqt7bWbhjUtm3vOnfoAK21x6pqXpIdkvxJklurakqSZyV5sLV25zDz3t67bjOSOZbTBwAAAACAUepioH1J+o/x+K8kD6Q/jD4myduTXFNVu7TWftyr3ah3vW8ZYw20b7yS9SvbZ1hVdfMybj1/RX0BAAAAANZ0nQu0W2unDmn6zyRHVdWD6X+Z4ylJ3jDC4Wpg2NEuYxS1KzsHAAAAAACDdC7QXo6L0h9o7zGobWB39EaPL0+STB1St6L64XZjj3aOZWqt7Txce2/n9otX1B8AAAAAYE3W1ZdCDufu3nXKoLbbetfHnV9dVROTbJXksSS/TJLW2kNJfpvkKVW12TBzPK93HXxe9jLnWE4fAAAAAABGaU0KtHfpXX85qO263nWfYer3SLJBku+01haOsM9rhtQkyS+S/CrJNlW11Qj7AAAAAAAwSp0KtKtqh6qaNkz7c5Kc3/v62UG3vpTkniQHVdVLBtWvl+S03tcLhwx3Ue/6gap66qA+WyZ5Z5KF6X8xZZKktdYG9floVU0Y1Gf/JH+W5JYkN4zoIQEAAAAAGFbXztB+U5Ljq+rfk8xL8kCSrZO8Lsl6Sa5O8rGB4tba/VX1tvQH29dX1WVJ5id5fZJte+1fHDxBa+07VXV2kuOS/KSqvpRk3SQHJpmW5NjW2h1D1nV2kn2TzEzyvar6ZpIteutdkOSI1lrfWP0hAAAAAACsjboWaP97+oPondJ/xMiUJH9M8q0kn0nymd6O6SVaa1dU1YwkH0jyxvQH3z9Pf2D9d0Pre31mVdVPkhyT5O1J+pLMSXJma+2qYeoXVtXeSY5PcnCS9ya5P8kVSU5urd0yBs8OAAAAALBW61Sg3Vq7IStxdEdr7dtJXjvKPpcmuXQU9Q8nObn3AQAAAABgjHXqDG0AAAAAANZeAm0AAAAAADpBoA0AAAAAQCcItAEAAAAA6ASBNgAAAAAAnSDQBgAAAACgEwTaAAAAAAB0gkAbAAAAAIBOEGgDAAAAANAJAm0AAAAAADpBoA0AAAAAQCcItAEAAAAA6ASBNgAAAAAAnSDQBgAAAACgEwTaAAAAAAB0gkAbAAAAAIBOEGgDAAAAANAJAm0AAAAAADpBoA0AAAAAQCcItAEAAAAA6ASBNgAAAAAAnSDQBgAAAACgEwTaAAAAAAB0gkAbAAAAAIBOEGgDAAAAANAJAm0AAAAAADpBoA0AAAAAQCcItAEAAAAA6ASBNgAAAAAAnSDQBgAAAACgEwTaAAAAAAB0gkAbAAAAAIBOEGgDAAAAANAJAm0AAAAAADpBoA0AAAAAQCcItAEAAAAA6ASBNgAAAAAAnSDQBgAAAACgEwTaAAAAAAB0gkAbAAAAAIBOEGgDAAAAANAJAm0AAAAAADpBoA0AAAAAQCcItAEAAAAA6ASBNgAAAAAAnSDQBgAAAACgEwTaAAAAAAB0gkAbAAAAAIBOEGgDAAAAANAJAm0AAAAAADpBoA0AAAAAQCcItAEAAAAA6ASBNgAAAAAAnSDQBgAAAACgEwTaAAAAAAB0gkAbAAAAAIBOEGgDAAAAANAJAm0AAAAAADpBoA0AAAAAQCcItAEAAAAA6ASBNgAAAAAAnSDQBgAAAACgEwTaAAAAAAB0gkAbAAAAAIBOEGgDAAAAANAJAm0AAAAAADpBoA0AAAAAQCcItAEAAAAA6ASBNgAAAAAAnSDQBgAAAACgEwTaAAAAAAB0gkAbAAAAAIBOEGgDAAAAANAJAm0AAAAAADpBoA0AAAAAQCcItAEAAAAA6ASBNgAAAAAAnSDQBgAAAACgEwTaAAAAAAB0gkAbAAAAAIBOEGgDAAAAANAJAm0AAAAAADpBoA0AAAAAQCcItAEAAAAA6ASBNgAAAAAAnSDQBgAAAACgEwTaAAAAAAB0gkAbAAAAAIBOEGgDAAAAANAJAm0AAAAAADpBoA0AAAAAQCd0PtCuqkOrqvU+f7mMml2r6uqqml9VC6rqJ1X1nqpaZznjHlZV36+qB6vqvqq6vqr2XU79+k8Ph+QAACAASURBVFV1alXdVlWPVNXdVXV5VW03Fs8JAAAAALC263SgXVWbJ/n7JA8up2b/JLOT7JHky0n+Icm6Sc5Jctky+nwsyaeSbJbkE0k+m+SFSa6sqmOGqZ+c5OtJ/ibJ/UnOS/KNJG9I8sOqetlKPSAAAAAAAEt0NtCuqkpySZJ7k1y0jJqp6Q+kFyfZs7V2ZGvtr5PsmOS7SWZW1UFD+uyaZFaSXyT509bae1tr70yyc5L5ST5WVVsOmeq4JLsl+VKSl7XW/k9r7eAkM5NskOTiqursnzUAAAAAwOqgyyHru5LsleStSR5aRs3MJJsmuay19sOBxtbaI0k+2Pt69JA+R/Wup7fW/jCozx3p3909uTdnkiXB+kCf97fW+gb1+UqSG5Nsn2TGKJ4NAAAAAIAhOhlo986lPiPJea212csp3at3vXaYe7OTLEiya+/IkJH0uWZITZJsnWSLJHNba/NG2AcAAAAAgFGaON4LGK2qmpjkM0l+leTEFZRv27vOHXqjtfZYVc1LskOSP0lya1VNSfKsJA+21u4cZrzbe9dtRjLHcvoMq6puXsat56+oLwAAAADAmq5zgXb6X7y4U5LdW2sPr6B2o971vmXcH2jfeCXrV7YPAAAAAACj1KlAu6r+V/p3ZZ/VWvvuWAzZu7ZR9htN/YjnaK3tPOwA/Tu3XzyKOQEAAAAA1jidOUN70FEjc5OcNMJuA7ujN1rG/alD6lZUP9xu7NHOAQAAAADASuhMoJ3kKek/h3q7JI9UVRv4JDm5V/OJXtu5ve+39a6PO7+6F5BvleSxJL9MktbaQ0l+m+QpVbXZMGt4Xu86+LzsZc6xnD4AAAAAAIxSl44cWZjkn5Zx78XpP1f7W+kPmAeOI7kuySFJ9knyhSF99kiyQZLZrbWFg9qvS3Jor88lQ/q8ZlDNgF+k/wWV21TVVq21eSPoAwAAAADAKHVmh3Zr7eHW2l8O90nyr72yS3ttX+x9/1KSe5IcVFUvGRirqtZLclrv64VDprqod/1AVT11UJ8tk7wz/cH6kqC7tdYG9floVU0Y1Gf/JH+W5JYkN6zkowMAAAAAkG7t0B611tr9VfW29Afb11fVZUnmJ3l9km177V8c0uc7VXV2kuOS/KSqvpRk3SQHJpmW5NjW2h1Dpjo7yb5JZib5XlV9M8kWSd6UZEGSI1prfU/OUwIAAAAArB06s0N7ZbXWrkgyI8nsJG9McmySRekPrA/q7bAe2mdWksOT3JXk7Un+Isl/JdmvtXb+MPULk+yd5P8m2TjJe5O8MskVSV7aWvvemD8YAAAAAMBaZo3Yod1aOyXJKcu5/+0krx3lmJcmuXQU9Q+n/+WUJ6+oFgAAAACA0Vvjd2gDAAAAALBmEGgDAAAAANAJAm0AAAAAADpBoA0AAAAAQCcItAEAAAAA6ASBNgAAAAAAnSDQBgAAAACgEwTaAAAAAAB0gkAbAAAAAIBOEGgDAAAAANAJAm0AAAAAADpBoA0AAAAAQCcItAEAAAAA6ASBNgAAAAAAnSDQBgAAAACgEwTaAAAAAAB0gkAbAAAAAIBOEGgDAAAAANAJAm0AAAAAADpBoA0AAAAAQCcItAEAAAAA6ASBNgAAAAAAnSDQBgAAAACgEwTaAAAAAAB0gkAbAAAAAIBOEGgDAAAAANAJAm0AAAAAADpBoA0AAAAAQCcItAEAAAAA6ASBNgAAAAAAnSDQBgAAAACgEwTaAAAAAAB0gkAbAAAAAIBOEGgDAAAAANAJAm0AAAAAADpBoA0AAAAAQCcItAEAAAAA6ASBNgAAAAAAnSDQBgAAAACgEwTaAAAAAAB0gkAbAAAAAIBOEGgDAAAAANAJAm0AAAAAADpBoA0AAAAAQCcItAEAAAAA6ASBNgAAAAAAnSDQBgAAAACgEwTaAAAAAAB0gkAbAAAAAIBOEGgDAAAAANAJAm0AAAAAADpBoA0AAAAAQCcItAEAAAAA6ASBNgAAAAAAnSDQBgAAAACgEwTaAAAAAAB0gkAbAAAAAIBOEGgDAAAAANAJAm0AAAAAADphTAPtqtqiqqauoGbDqtpiLOcFAAAAAGDNN9Y7tOclefcKat7VqwMAAAAAgBEb60C7eh8AAAAAABhT43GG9jOSPDQO8wIAAAAA0GETn+gAVfUXQ5p2HKYtSdZJskWSQ5P89InOCwAAAADA2uUJB9pJPpWk9X5uSfbvfYYaOIpkQZJTx2Be1mBVq8fJNa21FRcBAAAAAKvEWATab+1dK8nFSa5I8pVh6hYnuTfJd1trfxyDeQEAAAAAWIs84UC7tXbpwM9VdViSK1prn36i40KSnP2128Zl3uNete24zAsAAAAALNtY7NBeorX2v8dyPAAAAAAAGDBhvBcAAAAAAAAjMeaBdlXNqKqrquruqlpUVYuH+Tw21vMCAAAAALBmG9MjR6rqdel/KeQ6SX6V5LYkwmsAAAAAAJ6wMQ20k5ySZFGS17XWvjbGYwMAAAAAsBYb6yNHXpDki8JsAAAAAADG2lgH2g8mmT/GYwIAAAAAwJgH2t9MsssYjwkAAAAAAGMeaP+fJFtX1QerqsZ4bAAAAAAA1mJj/VLIk5P8V5JTkxxRVT9K8sdh6lpr7cgxnhtgjbG6/J1ga228lwAAAACwxFgH2ocP+nnL3mc4LYlAGwAAAACAERvrQHurMR4PYK129tduG5d5j3vVtuMyLwAAAMDyjGmg3Vr7f2M5HgAAAAAADBjrl0ICAAAAAMCTYkx3aFfVFiOtba39aiznBgAAAABgzTbWZ2jfkf4XPq5IexLmBgAAAABgDTbWofKnM3ygvXGSHZM8J8n1SZy1DQAAAADAqIz1SyEPX9a9qpqQ5KQkRyU5bCznBQAAAABgzbfKXgrZWutrrZ2a/mNJzlhV8wIAAAAAsGZYZYH2IN9J8qpxmBcAAAAAgA4bj0B7WpIp4zAvAAAAAAAdtkoD7araO8mBSf5zVc4LAAAAAED3jelLIavquuXMs3mSLXrf/+9YzgsAAAAAwJpvrHdo77mMz25JNkzy1SSvbK1dtbITVNVHquqbVfXrqnq4quZX1X9U1clV9bRl9Nm1qq7u1S6oqp9U1Xuqap3lzHNYVX2/qh6sqvuq6vqq2nc59etX1alVdVtVPVJVd1fV5VW13co+KwCsjapqtfgAAACw+hnTHdqttVVxhMl7k8xJ8vUkd6f/PO6XJzklydur6uWttV8PFFfV/kn+JckjSb6YZH6S/ZKck/6g/U1DJ6iqjyWZleQ3ST6RZN0kByW5sqqOba2dP6R+cm89uyX5YZLz0r8j/U1JXldVe7XWvjdGzw8AAAAAsFYa00B7FZnaWntkaGNVnZ7kxCQnJHlHr21q+gPpxUn2bK39sNd+UpLrksysqoNaa5cNGmfX9IfZv0jy0tbaH3rtZya5OcnHquqq1todg6Y/Lv1h9peSHNha6+v1+WKSK5JcXFUvHGgHAFbs7K/dNi7zHveqbcdlXgAAAFbsSd1RXVVTq2rzXrA8JoYLs3su712fN6htZpJNk1w2EGYPGuODva9HDxnnqN719IEwu9fnjiT/kGRykrcOtFf/v0ke6PP+waF1a+0rSW5Msn2SGSt6NgAAAAAAlm3MA+2qWqeqjq+qnyf5Q5I7kvyhqn7ea3+ydoXv17v+ZFDbXr3rtcPUz06yIMmuvSNDRtLnmiE1SbJ1+l92Obe1Nm+EfQAAAAAAGKUxDZerat30B8EzkrQkv05yZ5LNkmyZ5PQk+1TVq1prjz7Bud6X5ClJNkrykiS7pz/MPmNQ2cC/GZ47tH9r7bGqmpdkhyR/kuTWqpqS5FlJHmyt3TnMtLf3rtuMZI7l9BlWVd28jFvPX1FfAAAAAIA13Vjvlj4uyZ5Jrkoyq7U2EOamqrZOclb6d1Ifl6WD55XxviTPGPT92iSHt9b+e1DbRr3rfcsYY6B945WsX9k+AAAAAACM0lgfOXJwkv9M8ueDw+wkaa39IskBSf4rySFPdKLW2vTWWiWZ3hv3T5L8R1W9eBTD1MBwo53+yZijtbbzcJ8kPxvl+gAAAAAA1jhjHWg/N8k1g1+MOFiv/Zr0nzs9Jlprv2+tfTnJq5I8LcmnB90e2B290eM69ps6pG5F9cPtxh7tHAAAAAAArISxDrQfTf+51sszJcmiMZ43rbX/l+SWJDtU1Sa95tt618edX917OeVWSR5L8sveGA8l+W2Sp1TVZsNM87zedfB52cucYzl9AAAAAAAYpbEOtH+SZGZVbTrczV7QPDPJj8d43gHP7F0X967X9a77DFO7R5INknyntbZwUPvy+rxmSE2S/CLJr5JsU1VbjbAPAAAAAACjNNaB9vlJNk3y/ao6sqr+pKrWr6qtquqtSb7Xu3/+ygxeVc+vqunDtE+oqtOTPD39AfUfere+lOSeJAdV1UsG1a+X5LTe1wuHDHdR7/qBqnrqoD5bJnlnkoVJLhlob621QX0+WlUTBvXZP8mfpX/n+A2jelgAAAAAAJYycSwHa61dXlU7Jjk+yT8OU1JJPtpau3wlp9gnyZlVNTv9O6PvTfKMJDPS/1LIu5K8bdB67q+qt6U/2L6+qi5LMj/J65Ns22v/4pBn+E5VnZ3kuCQ/qaovJVk3yYFJpiU5trV2x5B1nZ1k3/TvPv9eVX0zyRZJ3pRkQZIjlnWuOAAAAAAAIzOmgXaStNZOrKp/TfL/27v3aF2v+V7g3x9xv8SlF057VDgucRnutygJwUHVNSl1aUJxFCXCURXshGq1UbcqipKUdqBa6XBXJIKUDAnNUMQt260uJ0Ii7KSS/M4f77POWVbW2nutnZX9vnPvz2eMd8z9Ps+cz/w9e4x377W/e77z+f0kt8nsYYlnJ/lskjd1979dgst/OLOg/K5JbpXkGkl+mtn+1G9J8qruPmtFPcdV1f5JjkjysCRXTPLVzALrV00rrFfewzOr6rQkT03yxCQXJTk1ydHd/Z5V+p9fVffKLMh/ZJJnJDknyXFJtnT3Fy7BPQMAAAAAkEsh0E6S7v5Ukk9dCtf9fGbbfmx03CeT3H+DY45NcuwG+m9LsmV6AQAAAACwyS7xHtpVdYWqOrmqPlJVl9tOv8tPfT61vX4AAAAAALCazXgo5KOS3C7JX3b3z9fq1N3/leToJHecxgAAAAAAwLptRqD90CRf7+737ahjd38gyVcye1giAAAAAACs22YE2rdJcsIG+p+Y5NabMC8AAAAAAHuQzQi0fynJ9zfQ//tJrr0J8wIAAAAAsAfZjEB7W5KrbqD/VZOctwnzAgAAAACwB9mMQPtbSe6wgf63T/LNTZgXAAAAAIA9yGYE2ickuXNV3X5HHavqdkn2S3L8JswLAAAAAMAeZDMC7Vcn6ST/WFX7rtWpqm6a5B+TXJjkNZswLwAAAAAAe5C9LukFuvv0qnphkiOTfLaq3pnko0m+nVnQ/etJDkzysCRXSPKC7j79ks4LAAAAAMCe5RIH2knS3S+sqguSbEnyyCS/u6JLJfl5kiO6+882Y04AAAAAAPYsmxJoJ0l3/2lV/X2SxyW5a5LrZhZk/2eSTyR5c3d/Y7PmAwAAAABgz7JpgXaSTIH1ls28JgAAAAAAJJvzUEgAAAAAALjUCbQBAAAAABiCQBsAAAAAgCEItAEAAAAAGIJAGwAAAACAIQi0AQAAAAAYgkAbAAAAAIAhCLQBAAAAABiCQBsAAAAAgCEItAEAAAAAGIJAGwAAAACAIew17wIAAIDFUFXzLiFJ0t3zLgEAgAVlhTYAAAAAAEOwQhsAAPgFL/vQ6XOZ9/D73GQu8wIAMA4rtAEAAAAAGIJAGwAAAACAIQi0AQAAAAAYgkAbAAAAAIAhCLQBAAAAABiCQBsAAAAAgCEItAEAAAAAGIJAGwAAAACAIQi0AQAAAAAYgkAbAAAAAIAhCLQBAAAAABiCQBsAAAAAgCEItAEAAAAAGIJAGwAAAACAIQi0AQAAAAAYgkAbAAAAAIAhCLQBAAAAABiCQBsAAAAAgCEItAEAAAAAGIJAGwAAAACAIew17wIAAFZz1FFHzbsEAAAAFowV2gAAAAAADMEKbYAFZoUqe7Ithxw4l3kP/+Q/zGVeAAAAdswKbQAAAAAAhmCFNsACs0IVAAAA4P+zQhsAAAAAgCEItAEAAAAAGIJAGwAAAACAIdhDGwAA+AVHHXXUvEsAAIBVWaENAAAAAMAQrNAGAAB+wZZDDpzLvId/8h/mMi8AAOOwQhsAAAAAgCEItAEAAAAAGIJAGwAAAACAIQi0AQAAAAAYgkAbAAAAAIAhCLQBAAAAABiCQBsAAAAAgCEItAEAAAAAGIJAGwAAAACAIQi0AQAAAAAYgkAbAAAAAIAhCLQBAAAAABiCQBsAAAAAgCEItAEAAAAAGIJAGwAAAACAIew17wJge4466qh5lwAAAAAALAgrtAEAAAAAGIIV2iy0LYccOJd5D//kP8xlXgAAAABgbVZoAwAAAAAwBIE2AAAAAABDEGgDAAAAADAEgTYAAAAAAEMQaAMAAAAAMASBNgAAAAAAQxBoAwAAAAAwBIE2AAAAAABDEGgDAAAAADAEgTYAAAAAAEMQaAMAAAAAMASBNgAAAAAAQxBoAwAAAAAwBIE2AAAAAABDGCrQrqprV9Xjq+pdVfXVqtpWVWdX1Seq6veratX7qar9qup9VXVWVf2sqk6rqsOq6rLbmeuQqjq5qs6d5jihqh6wnf5Xqqqjqur0qjqvqn5QVe+oqn03494BAAAAAPZ0QwXaSQ5O8oYkd0ry6SSvSPJPSW6R5I1J3lFVtXxAVT0oyYlJ7p7kXUn+Osnlk7w8ydtWm6SqXprkmCTXneZ7a5JbJnl3VT11lf5XSPKvSV6Q5Jwkr0zy4SQPSfKZqrrTJbhnAAAAAACS7DXvAjboy0kemOS93X3R0sGqem6Sk5M8LMlDMwu5U1VXzyyQvjDJAd39men485N8NMlBVfWI7n7bsmvtl+SZSb6W5A7d/aPp+NFJTkny0qp6T3dvXVbX4UnumuSdSR6+VFtVvT3JcUneVFW3XF4zAAAAAAAbM9QK7e7+aHe/e2Uw3N3fS/K66e0By04dlOSXk7xtKcye+p+X5HnT2z9YMc2TpvbFS2H2NGZrZqu7r5DksUvHpxXhS2Oevby27v6XJB9PcrMk+6/7RgEAAAAAuJihAu0d+PnUXrDs2D2n9gOr9D8xyc+S7DdtGbKeMe9f0SdJbpjkekm+3N1nrHMMAAAAAAAbtFsE2lW1V5Lfm94uD6JvMrVfXjmmuy9IckZm267cYLrOVZL8WpJzu/u7q0z1lam98Xrm2M4YAAAAAAA2aLQ9tNfyksweDPm+7v7gsuN7T+3Za4xbOn6Nney/s2NWVVWnrHHqpjsaCwAAAACwuxt+hXZVPS2zhzh+KcljNjp8anuD4zbSf2fnAAAAAABgmaFXaFfVU5K8MskXkhzY3Wet6LK0OnrvrO7qK/rtqP9qq7E3Oseauvt2qx2fVm7fdkfjAQAAAAB2Z8Ou0K6qw5K8Osnnk9yju7+3SrfTp/Zi+1dP+27vk9lDJL+eJN390yTfSXLVqrruKte70dQu3y97zTm2MwYAAAAAgA0aMtCuqj9K8vIkn8sszP7BGl0/OrX3XeXc3ZNcOclJ3X3+Osfcb0WfJPlakm8muXFV7bPOMQAAAAAAbNBwgXZVPT+zh0Cektk2I2dup/s7k5yZ5BFVdftl17hikj+Z3r52xZjXTe0RVXXNZWOun+QpSc5P8ual493dy8b8RVVdZtmYByW5W2ZbonxsfXcIAAAAAMBqhtpDu6oOSfLCJBcm+XiSp1XVym5bu/uYJOnuc6rqCZkF2ydU1duSnJXkgUluMh1/+/LB3X1SVb0syeFJTquqdya5fJKHJ7lWkj/s7q0r5nxZkgckOSjJp6vqI0mul+TgJD9L8rjuvugS/wYAAAAAAOzBhgq0M9vzOkkum+SwNfp8LMkxS2+6+7iq2j/JEUkeluSKSb6aWWD9qmmF9S/o7mdW1WlJnprkiUkuSnJqkqO7+z2r9D+/qu6V5DlJHpnkGUnOSXJcki3d/YWN3yoAAAAAAMsNFWh395FJjtyJcZ9Mcv8Njjk2ybEb6L8tyZbpBQAAAADAJhtuD20AAAAAAPZMAm0AAAAAAIYg0AYAAAAAYAgCbQAAAAAAhiDQBgAAAABgCAJtAAAAAACGINAGAAAAAGAIAm0AAAAAAIYg0AYAAAAAYAgCbQAAAAAAhiDQBgAAAABgCAJtAAAAAACGINAGAAAAAGAIAm0AAAAAAIYg0AYAAAAAYAgCbQAAAAAAhiDQBgAAAABgCAJtAAAAAACGINAGAAAAAGAIAm0AAAAAAIYg0AYAAAAAYAgCbQAAAAAAhiDQBgAAAABgCAJtAAAAAACGINAGAAAAAGAIAm0AAAAAAIYg0AYAAAAAYAgCbQAAAAAAhiDQBgAAAABgCAJtAAAAAACGINAGAAAAAGAIAm0AAAAAAIYg0AYAAAAAYAgCbQAAAAAAhiDQBgAAAABgCAJtAAAAAACGINAGAAAAAGAIAm0AAAAAAIYg0AYAAAAAYAgCbQAAAAAAhiDQBgAAAABgCAJtAAAAAACGINAGAAAAAGAIAm0AAAAAAIYg0AYAAAAAYAgCbQAAAAAAhiDQBgAAAABgCAJtAAAAAACGINAGAAAAAGAIAm0AAAAAAIYg0AYAAAAAYAgCbQAAAAAAhiDQBgAAAABgCAJtAAAAAACGINAGAAAAAGAIAm0AAAAAAIYg0AYAAAAAYAgCbQAAAAAAhiDQBgAAAABgCAJtAAAAAACGINAGAAAAAGAIAm0AAAAAAIYg0AYAAAAAYAgCbQAAAAAAhiDQBgAAAABgCAJtAAAAAACGINAGAAAAAGAIAm0AAAAAAIYg0AYAAAAAYAgCbQAAAAAAhiDQBgAAAABgCAJtAAAAAACGINAGAAAAAGAIAm0AAAAAAIYg0AYAAAAAYAgCbQAAAAAAhiDQBgAAAABgCAJtAAAAAACGINAGAAAAAGAIAm0AAAAAAIYg0AYAAAAAYAgCbQAAAAAAhiDQBgAAAABgCAJtAAAAAACGINAGAAAAAGAIAm0AAAAAAIYg0AYAAAAAYAgCbQAAAAAAhiDQBgAAAABgCAJtAAAAAACGINAGAAAAAGAIwwXaVXVQVf1VVX28qs6pqq6qt+5gzH5V9b6qOquqflZVp1XVYVV12e2MOaSqTq6qc6vq7Ko6oaoesJ3+V6qqo6rq9Ko6r6p+UFXvqKp9L8n9AgAAAAAwM1ygneR5SZ6a5NZJvrOjzlX1oCQnJrl7kncl+eskl0/y8iRvW2PMS5Mck+S6Sd6Q5K1Jbpnk3VX11FX6XyHJvyZ5QZJzkrwyyYeTPCTJZ6rqThu5QQAAAAAALm6veRewE56R5NtJvppk/yTHr9Wxqq6eWSB9YZIDuvsz0/HnJ/lokoOq6hHd/bZlY/ZL8swkX0tyh+7+0XT86CSnJHlpVb2nu7cum+rwJHdN8s4kD+/ui6Yxb09yXJI3VdUtl44DAAAAALBxw63Q7u7ju/sr3d3r6H5Qkl9O8ralMHu6xnmZrfROkj9YMeZJU/vipTB7GrM1s9XdV0jy2KXjVVXLxjx7eWjd3f+S5ONJbpZZ+A4AAAAAwE4aLtDeoHtO7QdWOXdikp8l2W/aMmQ9Y96/ok+S3DDJ9ZJ8ubvPWOcYAAAAAAA2aMQtRzbiJlP75ZUnuvuCqjojyc2T3CDJF6vqKkl+Lcm53f3dVa73lam98Xrm2M6YVVXVKWucuumOxgIAAAAA7O529xXae0/t2WucXzp+jZ3sv7NjAAAAAADYoN19hfaO1NSuZz/u5TbSf91zdPftVr3AbOX2bTcwJwAAAADAbmd3X6G9tDp67zXOX31Fvx31X2019kbnAAAAAABgJ+zugfbpU3ux/auraq8k+yS5IMnXk6S7f5rkO0muWlXXXeV6N5ra5ftlrznHdsYAAAAAALBBu3ug/dGpve8q5+6e5MpJTuru89c55n4r+iTJ15J8M8mNq2qfdY4BAAAAAGCDdvdA+51JzkzyiKq6/dLBqrpikj+Z3r52xZjXTe0RVXXNZWOun+QpSc5P8ual493dy8b8RVVdZtmYByW5W5IvJPnYJb8dAAAAAIA913APhayqByd58PT2OlN7l6o6Zvr1md39rCTp7nOq6gmZBdsnVNXbkpyV5IFJbjIdf/vy63f3SVX1siSHJzmtqt6Z5PJJHp7kWkn+sLu3rijrZUkekOSgJJ+uqo8kuV6Sg5P8LMnjuvuiTbh9AAAAAIA91nCBdpJbJzlkxbEbTK8k+UaSZy2d6O7jqmr/JEckeViSKyb5amaB9aumFda/oLufWVWnJXlqkicmuSjJqUmO7u73rNL//Kq6V5LnJHlkkmckOSfJcUm2dPcXdv52AQAAAABIBgy0u/vIJEducMwnk9x/g2OOTXLsBvpvS7JlegEAAAAAsMl29z20AQAAAADYTQi0AQAAAAAYgkAbAAAAAIAhCLQBAAAAABiCQBsAAAAAgCEItAEAAAAAGIJAGwAAAACAIQi0AQAAAAAYgkAbAAAAAIAhCLQBAAAAABiCQBsAAAAAgCEItAEAAAAAGIJAGwAAAACAIQi0AQAAAAAYgkAbAAAAAIAhCLQBAAAAABiCQBsAAAAAgCEItAEAAAAAGIJAGwAAAACAIQi0AQAAAAAYgkAbAAAAAIAhCLQBAAAAABiCQBsAAAAAgCEItAEAAAAAGIJAGwAAAACAIQi0AQAAAAAYgkAbAAAAAIAhCLQBAAAAABiCQBsAAAAAgCEItAEAAAAAGIJAGwAAAACAIQi0AQAAAAAYgkAbAAAAAIAhCLQBAAAAABiCQBsAAAAAgCEItAEAAAAAGIJAGwAAAACAIQi0AQAAAAAYgkAbAAAAAIAhCLQBAAAACUUUXAAAEGdJREFUABiCQBsAAAAAgCEItAEAAAAAGIJAGwAAAACAIQi0AQAAAAAYgkAbAAAAAIAhCLQBAAAAABiCQBsAAAAAgCEItAEAAAAAGIJAGwAAAACAIQi0AQAAAAAYgkAbAAAAAIAhCLQBAAAAABiCQBsAAAAAgCEItAEAAAAAGIJAGwAAAACAIQi0AQAAAAAYgkAbAAAAAIAhCLQBAAAAABiCQBsAAAAAgCEItAEAAAAAGIJAGwAAAACAIQi0AQAAAAAYgkAbAAAAAIAhCLQBAAAAABiCQBsAAAAAgCEItAEAAAAAGIJAGwAAAACAIQi0AQAAAAAYgkAbAAAAAIAhCLQBAAAAABiCQBsAAAAAgCEItAEAAAAAGIJAGwAAAACAIQi0AQAAAAAYgkAbAAAAAIAhCLQBAAAAABiCQBsAAAAAgCEItAEAAAAAGIJAGwAAAACAIQi0AQAAAAAYgkAbAAAAAIAhCLQBAAAAABiCQBsAAAAAgCEItAEAAAAAGIJAGwAAAACAIQi0AQAAAAAYgkAbAAAAAIAhCLQBAAAAABiCQBsAAAAAgCEItAEAAAAAGIJAexNV1a9X1Zuq6j+r6vyq2lpVr6iqa867NgAAAACA0e017wJ2F1V1wyQnJfmVJP+S5EtJ7pjk6UnuW1V37e4fzrFEAAAAAIChWaG9eV6TWZj9tO5+cHc/p7vvmeTlSW6S5MVzrQ4AAAAAYHAC7U1QVTdIcp8kW5P89YrTW5L8NMljquoqu7g0AAAAAIDdhkB7c9xzaj/U3RctP9HdP0nyySRXTnLnXV0YAAAAAMDuQqC9OW4ytV9e4/xXpvbGu6AWAAAAAIDdUnX3vGsYXlW9PskTkjyhu9+4yvkXJ3lukud2959t5zqnrHHqVle60pUuu++++25KvSM49dRT510CAAAAAOwyt73tbeddwi7zxS9+Mdu2bTuru6+90bF7XRoFcTE1tTv7vwcXbtu27exTTz116ybVM4KbTu2X5loFLD6fFVgfnxVYH58VWB+fFVgfnxVYn5smyamnnronfVaun+ScnRko0N4cZ0/t3mucv/qKfqvq7tttWkWDW1qt7vcEts9nBdbHZwXWx2cF1sdnBdbHZwXWx2dlY+yhvTlOn9q19si+0dSutcc2AAAAAAA7INDeHMdP7X2q6hd+T6vqaknummRbkk/t6sIAAAAAAHYXAu1N0N1fS/KhzPZ+ecqK00cluUqSv+vun+7i0gAAAAAAdhv20N48T05yUpJXVdWBSb6Y5E5J7pHZViNHzLE2AAAAAIDhWaG9SaZV2rdPckxmQfYzk9wwyauS3KW7fzi/6gAAAAAAxlfdPe8aAAAAAABgh6zQBgAAAABgCAJtAAAAAACGINAGAAAAAGAIAm0AAAAAAIYg0AYAAAAAYAgCbQAAAAAAhiDQBgAAAABgCAJtFkZVHVRVf1VVH6+qc6qqq+qt864LFklVXbuqHl9V76qqr1bVtqo6u6o+UVW/X1X+XIdJVf15VX2kqr41fVbOqqrPVtWWqrr2vOuDRVZVj5l+Fuuqevy864FFUFVbl30uVr6+N+/6YNFU1d2q6p+q6rtVdf7Ufqiq7j/v2mDequrQ7fydsvS6cN51Lqq95l0ALPO8JLdKcm6Sbye56XzLgYV0cJLXJvlukuOTfDPJryZ5aJI3JrlfVR3c3T2/EmFhPCPJqUn+NckPklwlyZ2THJnkiVV15+7+1vzKg8VUVf89yV9l9jPZVedcDiyas5O8YpXj5+7qQmCRVdXzkrwoyZlJ3pPZv19+KcltkhyQ5H1zKw4Ww+eSHLXGubsluWeS9++6csYi0GaRPCOzIPurSfbPLKwDftGXkzwwyXu7+6Klg1X13CQnJ3lYZuH2P82nPFgoV+/u81YerKoXJ3lukj9O8uRdXhUssKqqJG9O8sMk/5zkWfOtCBbOj7v7yHkXAYusqg7OLMz+cJKHdvdPVpy/3FwKgwXS3Z/LLNS+mKr6t+mXr991FY3FV9NZGN19fHd/xcpSWFt3f7S73708zJ6Ofy/J66a3B+zywmABrRZmT94xtTfaVbXAQJ6W2Yqgxyb56ZxrAWAw0xaIf57kZ0keuTLMTpLu/vkuLwwGUVW3yOxbpd9J8t45l7OwrNAG2H0s/WB4wVyrgMX321N72lyrgAVTVfsmeUmSV3b3iVV1z3nXBAvoClX16CTXy+w/fU5LcmJ32+cUZvZLsk+Sdyb5UVX9VpJbJDkvycnd/W/bGwzkf03t3/q7ZW0CbYDdQFXtleT3prcfmGctsGiq6lmZ7QO8d5LbJ/nNzAKIl8yzLlgk098jb8ns2QzPnXM5sMiuk9lnZbkzquqx3f2xeRQEC+YOU/v9zJ5lcsvlJ6vqxCQHdff/2dWFwaKrqisleXSSizJ7RhZrsOUIwO7hJZmtfHhfd39w3sXAgnlWki1JDssszP5Akvv4hxT8ghdk9qCuQ7t727yLgQX15iQHZhZqXyWzoO5vklw/yfur6lbzKw0Wxq9M7ZOSXCnJvZJcLbN/q3wwyd2T/ON8SoOF9ztJrpHk/R5ev30CbYDBVdXTkjwzyZeSPGbO5cDC6e7rdHdlFkA8NMkNkny2qm4738pgMVTVHTNblf2XvgoOa+vuo6bnmXy/u3/W3Z/v7icleVlmwd2R860QFsJlp7YyW4n9ke4+t7v/I8lDknw7yf5VdZe5VQiL64lT+zdzrWIAAm2AgVXVU5K8MskXktyju8+ac0mwsKYA4l1J7pPk2kn+bs4lwdwt22rky0meP+dyYFRLD+a++1yrgMXwo6n9enf/+/IT0zeAlr5NesddWhUsuKq6WWZ70H87yfvmXM7CE2gDDKqqDkvy6iSfzyzM/t6cS4IhdPc3MvtPoJtX1S/Nux6Ys6smuXGSfZOcV1W99Mpsq54kecN07BVzqxIW2w+m9ipzrQIWw+lT++M1zi8F3lfaBbXASDwMcgM8FBJgQFX1R5ntm/25JPfu7jPnXBKM5r9NrR8W2dOdn+Rv1zh328z21f5EZgGF7UhgdUtbJ3x9rlXAYjgxyQVJblRVl+/u/1px/hZTu3WXVgULrKqumNn2oRdl7Z/LWEagDTCYqnp+khcmOSWzB9vZZgRWqKqbJvnxym8uVNVlkrwoswcWndTdP1ptPOwppq9/P361c1V1ZGaB9rHd/cZdWRcsmqq6eZLvrvy5q6p+I7NvzCXJW3d5YbBguvvMqnp7kkdl9sDh5y2dq6p7J/mfSc7O7CHdwMzBSa6Z5D0eBrk+Am0WRlU9OMmDp7fXmdq7VNUx06/P7O5n7fLCYIFU1SGZhdkXJvl4kqdV1cpuW7v7mF1cGiya+yY5uqpOTPK1JD9M8qtJ9s/soZDfS/KE+ZUHwGAOTvKcqjo+yRlJfpLkhkl+K8kVM9vv9KXzKw8WyuFJ7pTkiKq6e5KTk/xGZg+FvDDJE7p7rS1JYE+09DDI18+1ioEItFkkt05yyIpjN5heSfKNJAJt9nT7TO1lkxy2Rp+PJTlml1QDi+vDmf1AeNckt0pyjSQ/zezBd29J8irfbgBgA45PcpPMvrVwl8z2y/5xZlvyvCXJW7q751ceLI7u/kFV3Smz1dkPSXLnzP4T6L1J/qy7PzXP+mCRVNW+SX4zHga5IeXvXAAAAAAARnCZeRcAAAAAAADrIdAGAAAAAGAIAm0AAAAAAIYg0AYAAAAAYAgCbQAAAAAAhiDQBgAAAABgCAJtAAAAAACGINAGAAAAAGAIAm0AAAAAAIYg0AYAAAAAYAgCbQAAAAAAhiDQBgAAdqmq2lpVW+ddBwAA4xFoAwDAJqmq3uDraVP7maq63BrXvNx0vqvqt6djh65yrfOr6oyqOqaqbrZr73w+pvs+Yd51AACw6+w17wIAAGA3ctQqxw5LsneSVyb58YpzJyZ5Q5InTGOfu8r4LUlul+T13f3uFef+Pclx06/3TnJAkkOS/E5V3bO7P7UT97ArHDjvAgAAGFN197xrAACA3da0tcZvJNmnu7eucv4qST6b5IZJ9u/uTyw7t19moffXk9ymu386HT80yZuTHNvdhy7rX9PxQ5Kc0N33uFRuakFUVSf5WHcfMO9aAADYNWw5AgAAczSF1I9OclGSt1TV1ZOkqq6a5C1JOsmjl8LsHVyrk7xmenvHnamnqq5WVS+rqm9X1XlV9aWqOryqbjBt8XHMiv4nTMHyatda2hrl0BXH19xDu6p+t6qOr6ofTfN/saqeV1VXWHnd6e3+K7ZeOXJn7hsAgDHYcgQAAOasu0+uqhdltu3Iq5P8XmZblNwgyQu6++QNXK6WLrvROqbQ+CNJ7pDZdiZ/n+QaSZ6fZP+NXm8n5v/bJI9L8u0k/5zZFi13TvKiJAdW1b27+4Ikn8vs92pLkm8kOWbZZU64tOsEAGB+BNoAALAYXpzkvkkeU1XnZxbsnpTkT9d7gWnLkSdPbz+9EzU8M7Mw+5+THNzdF03XfUmSU3bieus2reJ+XJJ3JXlUd29bdu7IzMLrpyR5ZXd/LsnnqmpLkq3dfeSlWRsAAIvDliMAALAAuvvCzLYeOTfJ45P8JMljpuNruXVVHTm9Xp7k1MxWd29LcsROlPHYzLY+efZSmD3VdkaSV+3E9Tbi6UkuSPK45WH25EVJfpjkUZdyDQAALDgrtAEAYEF099er6jVJnp3ktd399R0MudX0SpKfJ/luZvtuv6S7v7CRuavqakn+R5JvdffXVulyQmarpDddVV05s/s4M8lhs4XmF3N+kn0vjfkBABiHQBsAABbLthXt9hzb3Ydu0rx7T+331zj/vU2aZzXXzGzv71/OpRSaAwCwe7DlCAAAkCRnT+2vrnH+OmscX9pne7XFMtfY4Nyf7e7a3mud1wMAYDcl0AYAANLdP0ny1SS/VlU3XKXLAWsM/dHU/vdVzt1+nXOfm+Q/kty8qq61njGTi5JcdgP9AQAYnEAbAABY8ubM/o3w51X1//6tUFX7JHnaGmNOntonLD9YVQcm+d0NzP2yJJdP8qaqutjK7qq6ZlXddsXhH2b1IB0AgN2UPbQBAIAlf5nkwUkeluTUqvpgZntrPzzJiUkeuMqYNyf530n+uKpuleQLSW6c5H5J3jVda4e6+01VdbskT07ytWnubya5VpJ9ktx9mutJy4Z9JMkjqurdSU5JckGSE7v7xI3cNAAA4xBoAwAASZLuPr+q7pXkyMxC7Kcn2ZrkTzILpy8WaHf3D6pq/yRHZxY675/kM0nunVkQva5Ae7rWU6rq/ZmF1vfKbA/uszILto9O8tYVQ56epJMcmOT+ma0uPyqz8B0AgN1Qdfe8awAAABZcVV0/yRlJju3uQ+daDAAAeyx7aAMAAAAAMASBNgAAAAAAQ7CHNgAA7Kaq6oAkB6yj64+7+xWXbjUAAHDJ2UMbAAB2U1V1ZJIt6+j6je6+/qVbDQAAXHICbQAAAAAAhmAPbQAAAAAAhiDQBgAAAABgCAJtAAAAAACGINAGAAAAAGAIAm0AAAAAAIYg0AYAAAAAYAgCbQAAAAAAhiDQBgAAAABgCAJtAAAAAACGINAGAAAAAGAIAm0AAAAAAIYg0AYAAAAAYAgCbQAAAAAAhvB/AWrgiOiOvNmqAAAAAElFTkSuQmCC\n",
      "text/plain": [
       "<Figure size 864x432 with 1 Axes>"
      ]
     },
     "metadata": {
      "image/png": {
       "height": 371,
       "width": 730
      },
      "needs_background": "light"
     },
     "output_type": "display_data"
    }
   ],
   "source": [
    "plt.figure(figsize=(12, 6))\n",
    "sns.histplot(df_iqr, x='TYP_quiet', hue='voted')"
   ]
  },
  {
   "cell_type": "markdown",
   "metadata": {},
   "source": [
    "### TIPI3 (TYP_depnd)"
   ]
  },
  {
   "cell_type": "code",
   "execution_count": 16,
   "metadata": {},
   "outputs": [
    {
     "data": {
      "text/plain": [
       "<matplotlib.axes._subplots.AxesSubplot at 0x7fd73c548130>"
      ]
     },
     "execution_count": 16,
     "metadata": {},
     "output_type": "execute_result"
    },
    {
     "data": {
      "image/png": "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\n",
      "text/plain": [
       "<Figure size 864x432 with 1 Axes>"
      ]
     },
     "metadata": {
      "image/png": {
       "height": 371,
       "width": 730
      },
      "needs_background": "light"
     },
     "output_type": "display_data"
    }
   ],
   "source": [
    "plt.figure(figsize=(12, 6))\n",
    "sns.histplot(df_iqr, x='TYP_depnd', hue='voted')"
   ]
  },
  {
   "cell_type": "code",
   "execution_count": null,
   "metadata": {},
   "outputs": [],
   "source": []
  },
  {
   "cell_type": "markdown",
   "metadata": {},
   "source": [
    "### TIPI9 (TYP_calm)"
   ]
  },
  {
   "cell_type": "code",
   "execution_count": 37,
   "metadata": {},
   "outputs": [
    {
     "data": {
      "text/plain": [
       "<matplotlib.axes._subplots.AxesSubplot at 0x7fd71927f4f0>"
      ]
     },
     "execution_count": 37,
     "metadata": {},
     "output_type": "execute_result"
    },
    {
     "data": {
      "image/png": "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\n",
      "text/plain": [
       "<Figure size 864x432 with 1 Axes>"
      ]
     },
     "metadata": {
      "image/png": {
       "height": 371,
       "width": 730
      },
      "needs_background": "light"
     },
     "output_type": "display_data"
    }
   ],
   "source": [
    "plt.figure(figsize=(12, 6))\n",
    "sns.histplot(df_iqr, x='TYP_calm', hue='voted')"
   ]
  },
  {
   "cell_type": "code",
   "execution_count": null,
   "metadata": {},
   "outputs": [],
   "source": [
    "sjdfjfhadkdkdk"
   ]
  }
 ],
 "metadata": {
  "kernelspec": {
   "display_name": "Python 3",
   "language": "python",
   "name": "python3"
  },
  "language_info": {
   "codemirror_mode": {
    "name": "ipython",
    "version": 3
   },
   "file_extension": ".py",
   "mimetype": "text/x-python",
   "name": "python",
   "nbconvert_exporter": "python",
   "pygments_lexer": "ipython3",
<<<<<<< HEAD
   "version": "3.7.7"
=======
   "version": "3.8.3"
>>>>>>> 2c9d7532e072c2410cf5417ca678ac2069b4c0ad
  },
  "toc": {
   "base_numbering": 1,
   "nav_menu": {},
   "number_sections": true,
   "sideBar": true,
   "skip_h1_title": false,
   "title_cell": "Feature Selection",
   "title_sidebar": "Feature Selection",
   "toc_cell": true,
   "toc_position": {},
   "toc_section_display": true,
   "toc_window_display": true
  }
 },
 "nbformat": 4,
 "nbformat_minor": 4
}
