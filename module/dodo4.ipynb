{
 "cells": [
  {
   "cell_type": "code",
   "execution_count": 7,
   "metadata": {},
   "outputs": [
    {
     "name": "stdout",
     "output_type": "stream",
     "text": [
      "Writing ml_project_result_machia_voted_final.py\n"
     ]
    }
   ],
   "source": [
    "%%writefile ml_project_result_machia_voted_final.py\n",
    "\n",
    "import preprocessing1st as pre1\n",
    "import preprocessing_nth as prenth\n",
    "import modeling_score as mdsc\n",
    "import lgbgrid as lgb_grid\n",
    "import gridsearchfinal as final_grid\n",
    "# 1st preprocessing\n",
    "pre = pre1.Preprocessing1st(\"../MACH_data/data.csv\")\n",
    "xy = pre.preprocessing_model()\n",
    "\n",
    "\n",
    "# Nth preprocessing\n",
    "nth = prenth.PreprocessingNth()\n",
    "\n",
    "# feature_selection\n",
    "fs = nth.feature_selection(*xy)\n",
    "\n",
    "# feature_addition\n",
    "fa = nth.feature_addition(*fs)\n",
    "\n",
    "#gridsearchcv_lgb\n",
    "\n",
    "\n",
    "# Modeling & Result\n",
    "print(\"{}\".format(\"beforegridsearch\"*10))\n",
    "print(\"{}\".format(\"=\"*20))\n",
    "md = mdsc.Modeling(*fa)\n",
    "md.print_score()\n",
    "md.models_score_df()\n",
    "print(\"{}\".format(\"aftergridsearch\"*20))\n",
    "print(\"{}\".format(\"=\"*20))\n",
    "grid=lgb_grid.GridSearch(*fa)\n",
    "lgb_grid_model = grid.model_load()\n",
    "final = final_grid.Modeling2(*fa, lgrid=lgb_grid_model)\n",
    "final.print_score()\n",
    "final.models_score_df()"
   ]
  },
  {
   "cell_type": "code",
   "execution_count": 1,
   "metadata": {},
   "outputs": [
    {
     "name": "stdout",
     "output_type": "stream",
     "text": [
      "====================\n",
      "AdaBoostClassifier()\n",
      "confusion matrix\n",
      "[[3030 2549]\n",
      " [1563 4524]]\n",
      "====================\n",
      "Accuracy: 0.6475, AUC: 0.6432\n",
      "Recall: 0.7432, f1_score: 0.6875, precision: 0.6396\n",
      "====================\n",
      "====================\n",
      "GradientBoostingClassifier()\n",
      "confusion matrix\n",
      "[[3016 2563]\n",
      " [1494 4593]]\n",
      "====================\n",
      "Accuracy: 0.6475, AUC: 0.6432\n",
      "Recall: 0.7432, f1_score: 0.6875, precision: 0.6396\n",
      "====================\n",
      "====================\n",
      "XGBClassifier(base_score=0.5, booster='gbtree', colsample_bylevel=1,\n",
      "              colsample_bynode=1, colsample_bytree=1, gamma=0, gpu_id=-1,\n",
      "              importance_type='gain', interaction_constraints='',\n",
      "              learning_rate=0.300000012, max_delta_step=0, max_depth=6,\n",
      "              min_child_weight=1, missing=nan, monotone_constraints='()',\n",
      "              n_estimators=100, n_jobs=0, num_parallel_tree=1, random_state=0,\n",
      "              reg_alpha=0, reg_lambda=1, scale_pos_weight=1, subsample=1,\n",
      "              tree_method='exact', validate_parameters=1, verbosity=None)\n",
      "confusion matrix\n",
      "[[3219 2360]\n",
      " [1733 4354]]\n",
      "====================\n",
      "Accuracy: 0.6475, AUC: 0.6432\n",
      "Recall: 0.7432, f1_score: 0.6875, precision: 0.6396\n",
      "====================\n",
      "====================\n",
      "LGBMClassifier()\n",
      "confusion matrix\n",
      "[[3149 2430]\n",
      " [1555 4532]]\n",
      "====================\n",
      "Accuracy: 0.6475, AUC: 0.6432\n",
      "Recall: 0.7432, f1_score: 0.6875, precision: 0.6396\n",
      "====================\n",
      "====================\n",
      "LGBMClassifier(colsample_bytree=0.6, gamma=0.5, max_depth=10,\n",
      "               min_child_weight=5, random_state=13, subsample=0.6)\n",
      "confusion matrix\n",
      "[[3145 2434]\n",
      " [1587 4500]]\n",
      "====================\n",
      "Accuracy: 0.6475, AUC: 0.6432\n",
      "Recall: 0.7432, f1_score: 0.6875, precision: 0.6396\n",
      "====================\n",
      "          accuracy       AUC  precision    recall        f1\n",
      "Ada       0.647523  0.643166   0.639615  0.743223  0.687538\n",
      "GBC       0.652152  0.647497   0.641789  0.754395  0.693551\n",
      "XGB       0.649151  0.646140   0.648496  0.715295  0.680259\n",
      "LGBM      0.658409  0.654488   0.650962  0.744538  0.694613\n",
      "grid_lgb  0.655323  0.651501   0.648976  0.739280  0.691191\n"
     ]
    }
   ],
   "source": [
    "import preprocessing1st as pre1\n",
    "import preprocessing_nth as prenth\n",
    "import modeling_score as mdsc\n",
    "import lgbgrid as lgb_grid\n",
    "import gridsearchfinal as final_grid\n",
    "# 1st preprocessing\n",
    "pre = pre1.Preprocessing1st(\"../MACH_data/data.csv\")\n",
    "xy = pre.preprocessing_model()\n",
    "\n",
    "\n",
    "# Nth preprocessing\n",
    "nth = prenth.PreprocessingNth()\n",
    "\n",
    "# feature_selection\n",
    "fs = nth.feature_selection(*xy)\n",
    "\n",
    "# feature_addition\n",
    "fa = nth.feature_addition(*fs)\n",
    "\n",
    "#gridsearchcv_lgb\n",
    "\n",
    "\n",
    "# Modeling & Result\n",
    "# print(\"{}\".format(\"beforegridsearch\"*10))\n",
    "# print(\"{}\".format(\"=\"*20))\n",
    "# md = mdsc.Modeling(*fa)\n",
    "# md.print_score()\n",
    "# md.models_score_df()\n",
    "# print(\"{}\".format(\"aftergridsearch\"*20))\n",
    "# print(\"{}\".format(\"=\"*20))\n",
    "grid=lgb_grid.GridSearch(*fa)\n",
    "lgb_grid_model = grid.model_load()\n",
    "final = final_grid.Modeling2(*fa, lgrid=lgb_grid_model)\n",
    "final.print_score()\n",
    "final.models_score_df()"
   ]
  },
  {
   "cell_type": "code",
   "execution_count": 1,
   "metadata": {},
   "outputs": [],
   "source": [
    "import preprocessing1st as pre1\n",
    "import preprocessing_nth as prenth\n",
    "import modeling_score as mdsc\n",
    "import lgbgrid as lgb_grid\n",
    "import gridsearchfinal as final_grid\n",
    "# 1st preprocessing\n",
    "pre = pre1.Preprocessing1st(\"../MACH_data/data.csv\")\n",
    "xy = pre.preprocessing_model()\n",
    "\n",
    "\n",
    "# Nth preprocessing\n",
    "nth = prenth.PreprocessingNth()\n",
    "\n",
    "# feature_selection\n",
    "fs = nth.feature_selection(*xy)\n",
    "\n",
    "# feature_addition\n",
    "fa = nth.feature_addition(*fs)\n",
    "\n",
    "#gridsearchcv_lgb\n",
    "\n",
    "\n",
    "# Modeling & Result\n",
    "# print(\"{}\".format(\"beforegridsearch\"*10))\n",
    "# print(\"{}\".format(\"=\"*20))\n",
    "# md = mdsc.Modeling(*fa)\n",
    "# md.print_score()\n",
    "# md.models_score_df()\n",
    "# print(\"{}\".format(\"aftergridsearch\"*20))\n",
    "# print(\"{}\".format(\"=\"*20))\n",
    "grid=lgb_grid.GridSearch(*fa)"
   ]
  },
  {
   "cell_type": "code",
   "execution_count": 2,
   "metadata": {},
   "outputs": [],
   "source": [
    "grid.model_train()"
   ]
  },
  {
   "cell_type": "code",
   "execution_count": 3,
   "metadata": {},
   "outputs": [],
   "source": [
    "grid.model_save()"
   ]
  },
  {
   "cell_type": "code",
   "execution_count": 4,
   "metadata": {},
   "outputs": [
    {
     "name": "stdout",
     "output_type": "stream",
     "text": [
      "====================\n",
      "AdaBoostClassifier()\n",
      "confusion matrix\n",
      "[[3030 2549]\n",
      " [1563 4524]]\n",
      "====================\n",
      "Accuracy: 0.6475, AUC: 0.6432\n",
      "Recall: 0.7432, f1_score: 0.6875, precision: 0.6396\n",
      "====================\n",
      "====================\n",
      "GradientBoostingClassifier()\n",
      "confusion matrix\n",
      "[[3016 2563]\n",
      " [1495 4592]]\n",
      "====================\n",
      "Accuracy: 0.6475, AUC: 0.6432\n",
      "Recall: 0.7432, f1_score: 0.6875, precision: 0.6396\n",
      "====================\n",
      "====================\n",
      "XGBClassifier(base_score=0.5, booster='gbtree', colsample_bylevel=1,\n",
      "              colsample_bynode=1, colsample_bytree=1, gamma=0, gpu_id=-1,\n",
      "              importance_type='gain', interaction_constraints='',\n",
      "              learning_rate=0.300000012, max_delta_step=0, max_depth=6,\n",
      "              min_child_weight=1, missing=nan, monotone_constraints='()',\n",
      "              n_estimators=100, n_jobs=0, num_parallel_tree=1, random_state=0,\n",
      "              reg_alpha=0, reg_lambda=1, scale_pos_weight=1, subsample=1,\n",
      "              tree_method='exact', validate_parameters=1, verbosity=None)\n",
      "confusion matrix\n",
      "[[3219 2360]\n",
      " [1733 4354]]\n",
      "====================\n",
      "Accuracy: 0.6475, AUC: 0.6432\n",
      "Recall: 0.7432, f1_score: 0.6875, precision: 0.6396\n",
      "====================\n",
      "====================\n",
      "LGBMClassifier()\n",
      "confusion matrix\n",
      "[[3149 2430]\n",
      " [1555 4532]]\n",
      "====================\n",
      "Accuracy: 0.6475, AUC: 0.6432\n",
      "Recall: 0.7432, f1_score: 0.6875, precision: 0.6396\n",
      "====================\n",
      "====================\n",
      "LGBMClassifier(colsample_bytree=0.6, gamma=0.5, max_depth=10,\n",
      "               min_child_weight=5, random_state=13, subsample=0.6)\n",
      "confusion matrix\n",
      "[[3177 2402]\n",
      " [1593 4494]]\n",
      "====================\n",
      "Accuracy: 0.6475, AUC: 0.6432\n",
      "Recall: 0.7432, f1_score: 0.6875, precision: 0.6396\n",
      "====================\n",
      "          accuracy       AUC  precision    recall        f1\n",
      "Ada       0.647523  0.643166   0.639615  0.743223  0.687538\n",
      "GBC       0.652237  0.647579   0.641839  0.754559  0.693649\n",
      "XGB       0.649151  0.646140   0.648496  0.715295  0.680259\n",
      "LGBM      0.658409  0.654488   0.650962  0.744538  0.694613\n",
      "grid_lgb  0.657552  0.653876   0.651682  0.738295  0.692290\n"
     ]
    }
   ],
   "source": [
    "lgb_grid_model = grid.model_load()\n",
    "final = final_grid.Modeling2(*fa, lgrid=lgb_grid_model)\n",
    "final.print_score()\n",
    "final.models_score_df()"
   ]
  },
  {
   "cell_type": "code",
   "execution_count": 15,
   "metadata": {},
   "outputs": [
    {
     "data": {
      "text/plain": [
       "<bound method LGBMModel.get_params of LGBMClassifier(colsample_bytree=0.6, gamma=0.5, max_depth=10,\n",
       "               min_child_weight=5, random_state=13, subsample=0.6)>"
      ]
     },
     "execution_count": 15,
     "metadata": {},
     "output_type": "execute_result"
    }
   ],
   "source": [
    "lgb_grid_model.get_params"
   ]
  },
  {
   "cell_type": "code",
   "execution_count": 16,
   "metadata": {},
   "outputs": [],
   "source": [
    "from lightgbm import LGBMClassifier"
   ]
  },
  {
   "cell_type": "code",
   "execution_count": 26,
   "metadata": {},
   "outputs": [],
   "source": [
    "a=LGBMClassifier(colsample_bytree=0.6, gamma=0.5, max_depth=10,\n",
    "               min_child_weight=5, random_state=13, subsample=0.6)"
   ]
  },
  {
   "cell_type": "code",
   "execution_count": 27,
   "metadata": {},
   "outputs": [
    {
     "data": {
      "text/plain": [
       "LGBMClassifier(colsample_bytree=0.6, gamma=0.5, max_depth=10,\n",
       "               min_child_weight=5, random_state=13, subsample=0.6)"
      ]
     },
     "execution_count": 27,
     "metadata": {},
     "output_type": "execute_result"
    }
   ],
   "source": [
    "a"
   ]
  },
  {
   "cell_type": "code",
   "execution_count": 28,
   "metadata": {},
   "outputs": [],
   "source": [
    "X_train, X_test,  y_train, y_test = fa"
   ]
  },
  {
   "cell_type": "code",
   "execution_count": 29,
   "metadata": {},
   "outputs": [
    {
     "data": {
      "text/plain": [
       "LGBMClassifier(colsample_bytree=0.6, gamma=0.5, max_depth=10,\n",
       "               min_child_weight=5, random_state=13, subsample=0.6)"
      ]
     },
     "execution_count": 29,
     "metadata": {},
     "output_type": "execute_result"
    }
   ],
   "source": [
    "a.fit(X_train, y_train)"
   ]
  },
  {
   "cell_type": "code",
   "execution_count": 30,
   "metadata": {},
   "outputs": [
    {
     "data": {
      "text/plain": [
       "0.6575518601062917"
      ]
     },
     "execution_count": 30,
     "metadata": {},
     "output_type": "execute_result"
    }
   ],
   "source": [
    "a.score(X_test, y_test)"
   ]
  },
  {
   "cell_type": "code",
   "execution_count": 29,
   "metadata": {},
   "outputs": [
    {
     "data": {
      "text/plain": [
       "array([1, 1, 1, ..., 1, 0, 1])"
      ]
     },
     "execution_count": 29,
     "metadata": {},
     "output_type": "execute_result"
    }
   ],
   "source": [
    "a.predict(X_test)"
   ]
  },
  {
   "cell_type": "code",
   "execution_count": null,
   "metadata": {},
   "outputs": [],
   "source": []
  },
  {
   "cell_type": "code",
   "execution_count": 5,
   "metadata": {},
   "outputs": [],
   "source": [
    "from lightgbm import LGBMClassifier"
   ]
  },
  {
   "cell_type": "code",
   "execution_count": 6,
   "metadata": {},
   "outputs": [],
   "source": [
    "a=LGBMClassifier(random_state=13, colsample_bytree=0.8, gamma=0.5, max_depth=10,\n",
    "                 min_child_weight=5, subsample=0.6)"
   ]
  },
  {
   "cell_type": "code",
   "execution_count": 7,
   "metadata": {},
   "outputs": [
    {
     "data": {
      "text/plain": [
       "LGBMClassifier(colsample_bytree=0.8, gamma=0.5, max_depth=10,\n",
       "               min_child_weight=5, random_state=13, subsample=0.6)"
      ]
     },
     "execution_count": 7,
     "metadata": {},
     "output_type": "execute_result"
    }
   ],
   "source": [
    "a"
   ]
  },
  {
   "cell_type": "code",
   "execution_count": 8,
   "metadata": {},
   "outputs": [],
   "source": [
    "X_train, X_test,  y_train, y_test = fa"
   ]
  },
  {
   "cell_type": "code",
   "execution_count": 9,
   "metadata": {},
   "outputs": [
    {
     "data": {
      "text/plain": [
       "LGBMClassifier(colsample_bytree=0.8, gamma=0.5, max_depth=10,\n",
       "               min_child_weight=5, random_state=13, subsample=0.6)"
      ]
     },
     "execution_count": 9,
     "metadata": {},
     "output_type": "execute_result"
    }
   ],
   "source": [
    "a.fit(X_train, y_train)"
   ]
  },
  {
   "cell_type": "code",
   "execution_count": 10,
   "metadata": {},
   "outputs": [
    {
     "data": {
      "text/plain": [
       "0.6593519629693125"
      ]
     },
     "execution_count": 10,
     "metadata": {},
     "output_type": "execute_result"
    }
   ],
   "source": [
    "a.score(X_test, y_test)"
   ]
  },
  {
   "cell_type": "code",
   "execution_count": 11,
   "metadata": {},
   "outputs": [
    {
     "data": {
      "text/plain": [
       "array([1, 1, 1, ..., 1, 0, 1])"
      ]
     },
     "execution_count": 11,
     "metadata": {},
     "output_type": "execute_result"
    }
   ],
   "source": [
    "a.predict(X_test)"
   ]
  },
  {
   "cell_type": "code",
   "execution_count": 17,
   "metadata": {},
   "outputs": [
    {
     "name": "stdout",
     "output_type": "stream",
     "text": [
      "====================\n",
      "AdaBoostClassifier()\n",
      "confusion matrix\n",
      "[[1030 1163]\n",
      " [ 516 2482]]\n",
      "====================\n",
      "Accuracy: 0.6766, AUC: 0.6488\n",
      "Recall: 0.8279, f1_score: 0.7473, precision: 0.6809\n",
      "====================\n",
      "====================\n",
      "GradientBoostingClassifier()\n",
      "confusion matrix\n",
      "[[ 973 1220]\n",
      " [ 498 2500]]\n",
      "====================\n",
      "Accuracy: 0.6766, AUC: 0.6488\n",
      "Recall: 0.8279, f1_score: 0.7473, precision: 0.6809\n",
      "====================\n",
      "====================\n",
      "XGBClassifier(base_score=0.5, booster='gbtree', colsample_bylevel=1,\n",
      "              colsample_bynode=1, colsample_bytree=1, gamma=0, gpu_id=-1,\n",
      "              importance_type='gain', interaction_constraints='',\n",
      "              learning_rate=0.300000012, max_delta_step=0, max_depth=6,\n",
      "              min_child_weight=1, missing=nan, monotone_constraints='()',\n",
      "              n_estimators=100, n_jobs=0, num_parallel_tree=1, random_state=0,\n",
      "              reg_alpha=0, reg_lambda=1, scale_pos_weight=1, subsample=1,\n",
      "              tree_method='exact', validate_parameters=1, verbosity=None)\n",
      "confusion matrix\n",
      "[[1046 1147]\n",
      " [ 674 2324]]\n",
      "====================\n",
      "Accuracy: 0.6766, AUC: 0.6488\n",
      "Recall: 0.8279, f1_score: 0.7473, precision: 0.6809\n",
      "====================\n",
      "====================\n",
      "LGBMClassifier()\n",
      "confusion matrix\n",
      "[[1004 1189]\n",
      " [ 514 2484]]\n",
      "====================\n",
      "Accuracy: 0.6766, AUC: 0.6488\n",
      "Recall: 0.8279, f1_score: 0.7473, precision: 0.6809\n",
      "====================\n",
      "====================\n",
      "LGBMClassifier(colsample_bytree=0.6, gamma=0.5, max_depth=10,\n",
      "               min_child_weight=5, random_state=13, subsample=0.6)\n",
      "confusion matrix\n",
      "[[ 998 1195]\n",
      " [ 523 2475]]\n",
      "====================\n",
      "Accuracy: 0.6766, AUC: 0.6488\n",
      "Recall: 0.8279, f1_score: 0.7473, precision: 0.6809\n",
      "====================\n",
      "          accuracy       AUC  precision    recall        f1\n",
      "Ada       0.676556  0.648781   0.680933  0.827885  0.747253\n",
      "GBC       0.669043  0.638787   0.672043  0.833889  0.744269\n",
      "XGB       0.649201  0.626078   0.669548  0.775183  0.718504\n",
      "LGBM      0.671932  0.643186   0.676286  0.828552  0.744716\n",
      "grid_lgb  0.669043  0.640317   0.674387  0.825550  0.742352\n"
     ]
    }
   ],
   "source": [
    "import preprocessing1st as pre1\n",
    "import preprocessing_nth as prenth\n",
    "import modeling_score as mdsc\n",
    "import lgbgrid as lgb_grid\n",
    "import gridsearchfinal as final_grid\n",
    "# 1st preprocessing\n",
    "pre = pre1.Preprocessing1st(\"../MACH_data/usdata.csv\", without_comma=True)\n",
    "xy = pre.preprocessing_model()\n",
    "\n",
    "\n",
    "# Nth preprocessing\n",
    "nth = prenth.PreprocessingNth()\n",
    "\n",
    "# feature_selection\n",
    "fs = nth.feature_selection(*xy)\n",
    "\n",
    "# feature_addition\n",
    "fa = nth.feature_addition(*fs)\n",
    "\n",
    "#gridsearchcv_lgb\n",
    "\n",
    "\n",
    "# Modeling & Result\n",
    "# print(\"{}\".format(\"beforegridsearch\"*10))\n",
    "# print(\"{}\".format(\"=\"*20))\n",
    "# md = mdsc.Modeling(*fa)\n",
    "# md.print_score()\n",
    "# md.models_score_df()\n",
    "# print(\"{}\".format(\"aftergridsearch\"*20))\n",
    "# print(\"{}\".format(\"=\"*20))\n",
    "grid=lgb_grid.GridSearch(*fa)\n",
    "lgb_grid_model = grid.model_load()\n",
    "final = final_grid.Modeling2(*fa, lgrid=lgb_grid_model)\n",
    "final.print_score()\n",
    "final.models_score_df()"
   ]
  },
  {
   "cell_type": "code",
   "execution_count": 9,
   "metadata": {},
   "outputs": [],
   "source": [
    "df1 = pd.read_csv(\"../MACH_data/data.csv\", delimiter='\\t')"
   ]
  },
  {
   "cell_type": "code",
   "execution_count": 13,
   "metadata": {},
   "outputs": [],
   "source": [
    "df2 = df1[df1.country == \"US\"]"
   ]
  },
  {
   "cell_type": "code",
   "execution_count": 16,
   "metadata": {},
   "outputs": [
    {
     "data": {
      "text/plain": [
       "33959"
      ]
     },
     "execution_count": 16,
     "metadata": {},
     "output_type": "execute_result"
    }
   ],
   "source": [
    "len(df2)"
   ]
  },
  {
   "cell_type": "code",
   "execution_count": 14,
   "metadata": {},
   "outputs": [],
   "source": [
    "df2.to_csv(\"../MACH_data/usdata.csv\", index=False)"
   ]
  },
  {
   "cell_type": "code",
   "execution_count": null,
   "metadata": {},
   "outputs": [],
   "source": []
  },
  {
   "cell_type": "code",
   "execution_count": 5,
   "metadata": {},
   "outputs": [],
   "source": [
    "from sklearn.model_selection import train_test_split"
   ]
  },
  {
   "cell_type": "code",
   "execution_count": null,
   "metadata": {},
   "outputs": [],
   "source": [
    "\"../MACH_data/data.csv\""
   ]
  },
  {
   "cell_type": "code",
   "execution_count": null,
   "metadata": {},
   "outputs": [],
   "source": [
    "train_test_split(\"../MACH_data/data.csv\")"
   ]
  }
 ],
 "metadata": {
  "kernelspec": {
   "display_name": "Python 3",
   "language": "python",
   "name": "python3"
  },
  "language_info": {
   "codemirror_mode": {
    "name": "ipython",
    "version": 3
   },
   "file_extension": ".py",
   "mimetype": "text/x-python",
   "name": "python",
   "nbconvert_exporter": "python",
   "pygments_lexer": "ipython3",
   "version": "3.7.7"
  },
  "toc": {
   "base_numbering": 1,
   "nav_menu": {},
   "number_sections": true,
   "sideBar": true,
   "skip_h1_title": false,
   "title_cell": "Table of Contents",
   "title_sidebar": "Contents",
   "toc_cell": false,
   "toc_position": {},
   "toc_section_display": true,
   "toc_window_display": false
  }
 },
 "nbformat": 4,
 "nbformat_minor": 4
}
