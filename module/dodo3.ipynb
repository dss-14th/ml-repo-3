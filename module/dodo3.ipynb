{
 "cells": [
  {
   "cell_type": "code",
   "execution_count": 1,
   "metadata": {},
   "outputs": [
    {
     "name": "stdout",
     "output_type": "stream",
     "text": [
      "====================\n",
      "AdaBoostClassifier()\n",
      "confusion matrix\n",
      "[[3030 2549]\n",
      " [1563 4524]]\n",
      "====================\n",
      "Accuracy: 0.6475, AUC: 0.6432\n",
      "Recall: 0.7432, f1_score: 0.6875, precision: 0.6396\n",
      "====================\n",
      "====================\n",
      "GradientBoostingClassifier()\n",
      "confusion matrix\n",
      "[[3016 2563]\n",
      " [1495 4592]]\n",
      "====================\n",
      "Accuracy: 0.6475, AUC: 0.6432\n",
      "Recall: 0.7432, f1_score: 0.6875, precision: 0.6396\n",
      "====================\n",
      "====================\n",
      "XGBClassifier(base_score=0.5, booster='gbtree', colsample_bylevel=1,\n",
      "              colsample_bynode=1, colsample_bytree=1, gamma=0, gpu_id=-1,\n",
      "              importance_type='gain', interaction_constraints='',\n",
      "              learning_rate=0.300000012, max_delta_step=0, max_depth=6,\n",
      "              min_child_weight=1, missing=nan, monotone_constraints='()',\n",
      "              n_estimators=100, n_jobs=0, num_parallel_tree=1, random_state=0,\n",
      "              reg_alpha=0, reg_lambda=1, scale_pos_weight=1, subsample=1,\n",
      "              tree_method='exact', validate_parameters=1, verbosity=None)\n",
      "confusion matrix\n",
      "[[3219 2360]\n",
      " [1733 4354]]\n",
      "====================\n",
      "Accuracy: 0.6475, AUC: 0.6432\n",
      "Recall: 0.7432, f1_score: 0.6875, precision: 0.6396\n",
      "====================\n",
      "====================\n",
      "LGBMClassifier()\n",
      "confusion matrix\n",
      "[[3149 2430]\n",
      " [1555 4532]]\n",
      "====================\n",
      "Accuracy: 0.6475, AUC: 0.6432\n",
      "Recall: 0.7432, f1_score: 0.6875, precision: 0.6396\n",
      "====================\n",
      "      accuracy       AUC  precision    recall        f1\n",
      "Ada   0.647523  0.643166   0.639615  0.743223  0.687538\n",
      "GBC   0.652237  0.647579   0.641839  0.754559  0.693649\n",
      "XGB   0.649151  0.646140   0.648496  0.715295  0.680259\n",
      "LGBM  0.658409  0.654488   0.650962  0.744538  0.694613\n"
     ]
    }
   ],
   "source": [
    "\n",
    "import preprocessing1st as pre1\n",
    "import preprocessing_nth as prenth\n",
    "import modeling_score as mdsc\n",
    "import lgbgrid as lgb_grid\n",
    "# 1st preprocessing\n",
    "pre = pre1.Preprocessing1st(\"../MACH_data/data.csv\")\n",
    "xy = pre.preprocessing_model()\n",
    "\n",
    "\n",
    "# Nth preprocessing\n",
    "nth = prenth.PreprocessingNth()\n",
    "\n",
    "# feature_selection\n",
    "fs = nth.feature_selection(*xy)\n",
    "\n",
    "# feature_addition\n",
    "fa = nth.feature_addition(*fs)\n",
    "\n",
    "#gridsearchcv_lgb\n",
    "\n",
    "\n",
    "# Modeling & Result\n",
    "md = mdsc.Modeling(*fa)\n",
    "md.print_score()\n",
    "md.models_score_df()\n"
   ]
  },
  {
   "cell_type": "code",
   "execution_count": 5,
   "metadata": {},
   "outputs": [],
   "source": [
    "grid=lgb_grid.GridSearch(*fa)\n",
    "lgb_grid_model = grid.model_load()"
   ]
  },
  {
   "cell_type": "code",
   "execution_count": null,
   "metadata": {},
   "outputs": [],
   "source": []
  },
  {
   "cell_type": "code",
   "execution_count": 6,
   "metadata": {},
   "outputs": [
    {
     "data": {
      "text/plain": [
       "LGBMClassifier(colsample_bytree=0.6, gamma=0.5, max_depth=10,\n",
       "               min_child_weight=10, rabdom_state=13, subsample=0.6)"
      ]
     },
     "execution_count": 6,
     "metadata": {},
     "output_type": "execute_result"
    }
   ],
   "source": [
    "lgb_grid_model"
   ]
  },
  {
   "cell_type": "code",
   "execution_count": 20,
   "metadata": {
    "scrolled": true
   },
   "outputs": [
    {
     "name": "stdout",
     "output_type": "stream",
     "text": [
      "Overwriting gridsearchfinal.py\n"
     ]
    }
   ],
   "source": [
    "%%writefile gridsearchfinal.py\n",
    "import modeling_score as mdsc\n",
    "import numpy as np\n",
    "import pandas as pd\n",
    "from sklearn.metrics import (accuracy_score, precision_score, recall_score, \n",
    "                             f1_score, roc_auc_score, confusion_matrix, classification_report)\n",
    "from sklearn.preprocessing import RobustScaler\n",
    "from sklearn.model_selection import (train_test_split, cross_val_score, StratifiedKFold ,GridSearchCV)\n",
    "from sklearn.ensemble import AdaBoostClassifier, GradientBoostingClassifier\n",
    "from xgboost import XGBClassifier\n",
    "from lightgbm import LGBMClassifier\n",
    "import warnings\n",
    "warnings.filterwarnings('ignore')\n",
    "\n",
    "class Modeling2(mdsc.Modeling):\n",
    "    def __init__(self, *xy_train_test, lgrid):\n",
    "        ada = AdaBoostClassifier()\n",
    "        gbc = GradientBoostingClassifier()\n",
    "        xgb = XGBClassifier()\n",
    "        lgbm = LGBMClassifier()\n",
    "        self.grid_lgb= lgrid\n",
    "        self.datas = []\n",
    "        self.models = [ada, gbc, xgb, lgbm, self.grid_lgb]\n",
    "        self.model_names = ['Ada', 'GBC', 'XGB', 'LGBM', \"grid_lgb\"]\n",
    "        \n",
    "        self.X_train, self.X_test, self.y_train, self.y_test = xy_train_test\n",
    "        \n"
   ]
  },
  {
   "cell_type": "code",
   "execution_count": 16,
   "metadata": {},
   "outputs": [],
   "source": [
    "fff = Modeling2(*fa, lgrid=lgb_grid_model)"
   ]
  },
  {
   "cell_type": "code",
   "execution_count": 17,
   "metadata": {
    "scrolled": false
   },
   "outputs": [
    {
     "name": "stdout",
     "output_type": "stream",
     "text": [
      "          accuracy       AUC  precision    recall        f1\n",
      "Ada       0.647523  0.643166   0.639615  0.743223  0.687538\n",
      "GBC       0.652152  0.647497   0.641789  0.754395  0.693551\n",
      "XGB       0.649151  0.646140   0.648496  0.715295  0.680259\n",
      "LGBM      0.658409  0.654488   0.650962  0.744538  0.694613\n",
      "grid_lgb  0.658066  0.654428   0.652338  0.737966  0.692515\n"
     ]
    }
   ],
   "source": [
    "fff.models_score_df()"
   ]
  },
  {
   "cell_type": "code",
   "execution_count": null,
   "metadata": {},
   "outputs": [],
   "source": [
    "mdsc.Modeling(*fa)"
   ]
  },
  {
   "cell_type": "code",
   "execution_count": null,
   "metadata": {},
   "outputs": [],
   "source": []
  },
  {
   "cell_type": "code",
   "execution_count": null,
   "metadata": {},
   "outputs": [],
   "source": []
  },
  {
   "cell_type": "code",
   "execution_count": null,
   "metadata": {},
   "outputs": [],
   "source": []
  },
  {
   "cell_type": "code",
   "execution_count": null,
   "metadata": {},
   "outputs": [],
   "source": []
  }
 ],
 "metadata": {
  "kernelspec": {
   "display_name": "Python 3",
   "language": "python",
   "name": "python3"
  },
  "language_info": {
   "codemirror_mode": {
    "name": "ipython",
    "version": 3
   },
   "file_extension": ".py",
   "mimetype": "text/x-python",
   "name": "python",
   "nbconvert_exporter": "python",
   "pygments_lexer": "ipython3",
   "version": "3.7.7"
  },
  "toc": {
   "base_numbering": 1,
   "nav_menu": {},
   "number_sections": true,
   "sideBar": true,
   "skip_h1_title": false,
   "title_cell": "Table of Contents",
   "title_sidebar": "Contents",
   "toc_cell": false,
   "toc_position": {},
   "toc_section_display": true,
   "toc_window_display": false
  }
 },
 "nbformat": 4,
 "nbformat_minor": 4
}
