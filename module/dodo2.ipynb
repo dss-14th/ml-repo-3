{
 "cells": [
  {
   "cell_type": "markdown",
   "metadata": {},
   "source": [
    "# 전처리 불러오기"
   ]
  },
  {
   "cell_type": "code",
   "execution_count": 1,
   "metadata": {},
   "outputs": [],
   "source": [
    "import preprocessing1st as pre1\n",
    "import preprocessing_nth as prenth\n",
    "import modeling_score as mdsc\n",
    "\n",
    "# 1st preprocessing\n",
    "pre = pre1.Preprocessing1st(\"../MACH_data/data.csv\")\n",
    "xy = pre.preprocessing_model()\n",
    "\n",
    "\n",
    "# Nth preprocessing\n",
    "nth = prenth.PreprocessingNth()\n",
    "\n",
    "# feature_selection\n",
    "fs = nth.feature_selection(*xy)\n",
    "\n",
    "# feature_addition\n",
    "fa = nth.feature_addition(*fs)"
   ]
  },
  {
   "cell_type": "markdown",
   "metadata": {},
   "source": [
    "# gridsearch "
   ]
  },
  {
   "cell_type": "code",
   "execution_count": 2,
   "metadata": {},
   "outputs": [],
   "source": [
    "# gridsearch 클래스\n",
    "import pickle\n",
    "from sklearn.model_selection import GridSearchCV\n",
    "from lightgbm import LGBMClassifier\n",
    "\n",
    "class GridSearch:    \n",
    "    def __init__(self, *xy_train_test, **lgb_param):\n",
    "        lgb = LGBMClassifier()\n",
    "        \n",
    "        lgb_param = {\n",
    "            'min_child_weight': [1, 5, 10],\n",
    "            'gamma': [0.5, 1, 1.5, 2, 5],\n",
    "            'subsample': [0.6, 0.8, 1.0],\n",
    "            'colsample_bytree': [0.6, 0.8, 1.0],\n",
    "            'max_depth': [3, 4, 5, 10]\n",
    "        }\n",
    "        self.lgb_param = lgb_param\n",
    "        self.gridsearch = GridSearchCV(estimator=lgb, param_grid=self.lgb_param, cv=5)\n",
    "        self.X_train, self.X_test, self.y_train, self.y_test = xy_train_test\n",
    "        \n",
    "    def model_train(self):\n",
    "        self.gridsearch.fit(self.X_train, self.y_train)\n",
    "        \n",
    "    def model_save(self):\n",
    "        # Save model\n",
    "        pickle.dump(self.gridsearch.best_estimator_, open(\"gridsearch.pickle\", \"wb\"))\n",
    "        \n",
    "    def model_load(self):\n",
    "        f = open(\"gridsearch.pickle\", \"rb\")\n",
    "        md = pickle.load(f)\n",
    "        f.close()\n",
    "        return md"
   ]
  },
  {
   "cell_type": "code",
   "execution_count": 4,
   "metadata": {},
   "outputs": [],
   "source": [
    "a=GridSearch(*fa)"
   ]
  },
  {
   "cell_type": "code",
   "execution_count": 5,
   "metadata": {},
   "outputs": [],
   "source": [
    "# 저장 모델 불러오기\n",
    "b = a.model_load()"
   ]
  },
  {
   "cell_type": "code",
   "execution_count": 6,
   "metadata": {},
   "outputs": [
    {
     "data": {
      "text/plain": [
       "LGBMClassifier(colsample_bytree=0.6, gamma=0.5, max_depth=10,\n",
       "               min_child_weight=10, rabdom_state=13, subsample=0.6)"
      ]
     },
     "execution_count": 6,
     "metadata": {},
     "output_type": "execute_result"
    }
   ],
   "source": [
    "b"
   ]
  },
  {
   "cell_type": "code",
   "execution_count": 8,
   "metadata": {},
   "outputs": [],
   "source": [
    "import modeling_score as mdsc"
   ]
  },
  {
   "cell_type": "code",
   "execution_count": 11,
   "metadata": {},
   "outputs": [],
   "source": [
    "c = mdsc.Modeling(*fa)"
   ]
  },
  {
   "cell_type": "code",
   "execution_count": null,
   "metadata": {},
   "outputs": [],
   "source": [
    "mdsc."
   ]
  },
  {
   "cell_type": "code",
   "execution_count": null,
   "metadata": {},
   "outputs": [],
   "source": [
    "class ModelingGrid(Modeling):\n",
    "    def __init__(self, *xy_train_test, unit)"
   ]
  },
  {
   "cell_type": "markdown",
   "metadata": {},
   "source": [
    "# auc 클래스"
   ]
  },
  {
   "cell_type": "code",
   "execution_count": 7,
   "metadata": {},
   "outputs": [],
   "source": [
    "import numpy as np\n",
    "import pandas as pd\n",
    "from sklearn.metrics import (accuracy_score, precision_score, recall_score, \n",
    "                             f1_score, roc_auc_score, confusion_matrix, classification_report)\n",
    "from sklearn.preprocessing import RobustScaler\n",
    "from sklearn.model_selection import (train_test_split, cross_val_score, StratifiedKFold ,GridSearchCV)\n",
    "from sklearn.ensemble import AdaBoostClassifier, GradientBoostingClassifier\n",
    "from xgboost import XGBClassifier\n",
    "from lightgbm import LGBMClassifier\n",
    "import warnings\n",
    "warnings.filterwarnings('ignore')\n",
    "\n",
    "# ada, gbc, xgb, lgbm 모델링 클래스 \n",
    "class Modeling:    \n",
    "    def __init__(self, *xy_train_test):\n",
    "        ada = AdaBoostClassifier()\n",
    "        gbc = GradientBoostingClassifier()\n",
    "        xgb = XGBClassifier()\n",
    "        lgbm = LGBMClassifier()\n",
    "        self.datas = []\n",
    "        self.models = [ada, gbc, xgb, lgbm]\n",
    "        self.model_names = ['Ada', 'GBC', 'XGB', 'LGBM']\n",
    "        \n",
    "        self.X_train, self.X_test, self.y_train, self.y_test = xy_train_test\n",
    "        \n",
    "        \n",
    "        # 분류모델 평가지표 계산함수 (AUC, ACC를 우선순위로 사용함)\n",
    "    def get_score(self, pred):\n",
    "        acc = accuracy_score(self.y_test, pred)\n",
    "        pre = precision_score(self.y_test, pred)\n",
    "        rec = recall_score(self.y_test, pred)\n",
    "        f1 = f1_score(self.y_test, pred)\n",
    "        auc = roc_auc_score(self.y_test, pred)\n",
    "       \n",
    "        return acc, auc, pre, rec, f1\n",
    "    \n",
    "    \n",
    "    def fit_model(self, model):\n",
    "\n",
    "        model.fit(self.X_train, self.y_train)\n",
    "        y_pre_tr = model.predict(self.X_train)\n",
    "        self.y_pre_test = model.predict(self.X_test)\n",
    "        total_score = self.get_score(self.y_pre_test)\n",
    "        \n",
    "        return total_score\n",
    "\n",
    "    \n",
    "    def models_score_df(self):\n",
    "        cols_names = ['accuracy', 'AUC', 'precision', 'recall', 'f1']\n",
    "\n",
    "        for model in self.models:\n",
    "            self.datas.append(self.fit_model(model))\n",
    "\n",
    "        df = pd.DataFrame(self.datas, columns=cols_names, index=self.model_names)\n",
    "            \n",
    "        return print(df) \n",
    "    \n",
    "    \n",
    "    # 평가지표와 confusion matrix 출력 함수\n",
    "    def print_score(self):\n",
    "        datas = []\n",
    "        for model in self.models:\n",
    "            datas.append(self.fit_model(model))\n",
    "        \n",
    "            acc, auc, pre, rec, f1 = datas[0]\n",
    "            con = confusion_matrix(self.y_test, self.y_pre_test)\n",
    "            print('='*20)\n",
    "            print(model)\n",
    "            print('confusion matrix')\n",
    "            print(con)\n",
    "            print('='*20)\n",
    "\n",
    "            print('Accuracy: {0:.4f}, AUC: {1:.4f}'.format(acc, auc))\n",
    "            print('Recall: {0:.4f}, f1_score: {1:.4f}, precision: {2:.4f}'.format(rec, f1, pre))\n",
    "            print('='*20)"
   ]
  },
  {
   "cell_type": "code",
   "execution_count": null,
   "metadata": {},
   "outputs": [],
   "source": []
  }
 ],
 "metadata": {
  "kernelspec": {
   "display_name": "Python 3",
   "language": "python",
   "name": "python3"
  },
  "language_info": {
   "codemirror_mode": {
    "name": "ipython",
    "version": 3
   },
   "file_extension": ".py",
   "mimetype": "text/x-python",
   "name": "python",
   "nbconvert_exporter": "python",
   "pygments_lexer": "ipython3",
   "version": "3.7.7"
  },
  "toc": {
   "base_numbering": 1,
   "nav_menu": {},
   "number_sections": true,
   "sideBar": true,
   "skip_h1_title": false,
   "title_cell": "Table of Contents",
   "title_sidebar": "Contents",
   "toc_cell": false,
   "toc_position": {},
   "toc_section_display": true,
   "toc_window_display": false
  }
 },
 "nbformat": 4,
 "nbformat_minor": 4
}
